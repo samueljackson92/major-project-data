{
 "metadata": {
  "name": "",
  "signature": "sha256:2291739f686eb6d1016ddd423cd60b9561fb5b8c2d1bdfdc774c5b549edd93d3"
 },
 "nbformat": 3,
 "nbformat_minor": 0,
 "worksheets": [
  {
   "cells": [
    {
     "cell_type": "code",
     "collapsed": false,
     "input": [
      "import mia\n",
      "import pandas as pd\n",
      "import numpy as np\n",
      "from skimage import io"
     ],
     "language": "python",
     "metadata": {},
     "outputs": [],
     "prompt_number": 72
    },
    {
     "cell_type": "code",
     "collapsed": false,
     "input": [
      "features = pd.DataFrame.from_csv(\"/Volumes/Seagate/mmp_data/features.csv\")\n",
      "mapping = pd.DataFrame.from_csv(\"/Volumes/Seagate/mmp_data/mapping.csv\")"
     ],
     "language": "python",
     "metadata": {},
     "outputs": [],
     "prompt_number": 4
    },
    {
     "cell_type": "code",
     "collapsed": false,
     "input": [
      "from sklearn.metrics import pairwise_distances\n",
      "feature_distances = pairwise_distances(features)\n",
      "mapping_distances = pairwise_distances(mapping)"
     ],
     "language": "python",
     "metadata": {},
     "outputs": [],
     "prompt_number": 8
    },
    {
     "cell_type": "code",
     "collapsed": false,
     "input": [
      "def rank_matrix(distances):\n",
      "    rank = np.zeros(distances.shape)\n",
      "    for (i,j), value in np.ndenumerate(distances):\n",
      "        rank[i,j] = len([k for k, d in enumerate(distances[i]) if d < distances[i,j] or (d == distances[i,j] and k < j)])\n",
      "    return rank\n",
      "\n",
      "f_rank = rank_matrix(feature_distances)\n",
      "m_rank = rank_matrix(mapping_distances)"
     ],
     "language": "python",
     "metadata": {},
     "outputs": [],
     "prompt_number": 46
    },
    {
     "cell_type": "code",
     "collapsed": false,
     "input": [
      "q = np.zeros(f_rank.shape)\n",
      "for (k,l), _ in np.ndenumerate(q):\n",
      "    q[k,l] = np.where((m_rank == k) & (f_rank == l))[0].size\n",
      "    \n",
      "\n",
      "# I = np.eye(f_rank.shape[0])\n",
      "# Is = [np.roll(I, x, axis=1) for x in range(f_rank.shape[0])]\n",
      "# [np.dot(f_rank, m) for m in Is]\n",
      "# for (k,l), _ in np.ndenumerate(q):\n",
      "#     q[k,l] = len([(i,j) for (i,j), _ in np.ndenumerate(f_rank) if f_rank[i,j] == k and m_rank[i,j] == l])\n",
      "q"
     ],
     "language": "python",
     "metadata": {},
     "outputs": [
      {
       "metadata": {},
       "output_type": "pyout",
       "prompt_number": 78,
       "text": [
        "array([[ 366.,    0.,    0., ...,    0.,    0.,    0.],\n",
        "       [   0.,   58.,   34., ...,    0.,    0.,    0.],\n",
        "       [   0.,   38.,   32., ...,    0.,    0.,    0.],\n",
        "       ..., \n",
        "       [   0.,    0.,    0., ...,   32.,    6.,    1.],\n",
        "       [   0.,    0.,    0., ...,    0.,   56.,    4.],\n",
        "       [   0.,    0.,    0., ...,    0.,    0.,   81.]])"
       ]
      }
     ],
     "prompt_number": 78
    },
    {
     "cell_type": "code",
     "collapsed": false,
     "input": [
      "io.imshow(q)\n",
      "io.show()"
     ],
     "language": "python",
     "metadata": {},
     "outputs": [],
     "prompt_number": 79
    }
   ],
   "metadata": {}
  }
 ]
}