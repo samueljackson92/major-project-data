{
 "metadata": {
  "name": "",
  "signature": "sha256:2a134246a9bb09b2e22492bfae07f68df6d4aec0a6809d07397c59d938694687"
 },
 "nbformat": 3,
 "nbformat_minor": 0,
 "worksheets": [
  {
   "cells": [
    {
     "cell_type": "code",
     "collapsed": false,
     "input": [
      "%matplotlib qt\n",
      "import mia\n",
      "import pandas as pd\n",
      "import numpy as np\n",
      "import re\n",
      "import random\n",
      "import matplotlib.pyplot as plt\n",
      "from pandas.tools import plotting"
     ],
     "language": "python",
     "metadata": {},
     "outputs": [],
     "prompt_number": 1
    },
    {
     "cell_type": "code",
     "collapsed": false,
     "input": [
      "batch1 = pd.DataFrame.from_csv('/Volumes/Seagate/2015-03-26/batch1_blobs.csv')\n",
      "batch2 = pd.DataFrame.from_csv('/Volumes/Seagate/2015-03-26/batch2_blobs.csv')\n",
      "\n",
      "hologic = pd.concat([batch1, batch2])\n",
      "hologic.index = hologic.img_name\n",
      "hologic.head()"
     ],
     "language": "python",
     "metadata": {},
     "outputs": [
      {
       "html": [
        "<div style=\"max-height:1000px;max-width:1500px;overflow:auto;\">\n",
        "<table border=\"1\" class=\"dataframe\">\n",
        "  <thead>\n",
        "    <tr style=\"text-align: right;\">\n",
        "      <th></th>\n",
        "      <th>x</th>\n",
        "      <th>y</th>\n",
        "      <th>radius</th>\n",
        "      <th>img_name</th>\n",
        "    </tr>\n",
        "    <tr>\n",
        "      <th>img_name</th>\n",
        "      <th></th>\n",
        "      <th></th>\n",
        "      <th></th>\n",
        "      <th></th>\n",
        "    </tr>\n",
        "  </thead>\n",
        "  <tbody>\n",
        "    <tr>\n",
        "      <th>p214-010-60001-cl.png</th>\n",
        "      <td> 1842</td>\n",
        "      <td> 546</td>\n",
        "      <td> 128.000000</td>\n",
        "      <td> p214-010-60001-cl.png</td>\n",
        "    </tr>\n",
        "    <tr>\n",
        "      <th>p214-010-60001-cl.png</th>\n",
        "      <td> 1482</td>\n",
        "      <td> 424</td>\n",
        "      <td> 128.000000</td>\n",
        "      <td> p214-010-60001-cl.png</td>\n",
        "    </tr>\n",
        "    <tr>\n",
        "      <th>p214-010-60001-cl.png</th>\n",
        "      <td> 1355</td>\n",
        "      <td> 386</td>\n",
        "      <td> 128.000000</td>\n",
        "      <td> p214-010-60001-cl.png</td>\n",
        "    </tr>\n",
        "    <tr>\n",
        "      <th>p214-010-60001-cl.png</th>\n",
        "      <td> 2072</td>\n",
        "      <td> 658</td>\n",
        "      <td>  45.254834</td>\n",
        "      <td> p214-010-60001-cl.png</td>\n",
        "    </tr>\n",
        "    <tr>\n",
        "      <th>p214-010-60001-cl.png</th>\n",
        "      <td> 1955</td>\n",
        "      <td> 737</td>\n",
        "      <td>  45.254834</td>\n",
        "      <td> p214-010-60001-cl.png</td>\n",
        "    </tr>\n",
        "  </tbody>\n",
        "</table>\n",
        "</div>"
       ],
       "metadata": {},
       "output_type": "pyout",
       "prompt_number": 9,
       "text": [
        "                          x    y      radius               img_name\n",
        "img_name                                                           \n",
        "p214-010-60001-cl.png  1842  546  128.000000  p214-010-60001-cl.png\n",
        "p214-010-60001-cl.png  1482  424  128.000000  p214-010-60001-cl.png\n",
        "p214-010-60001-cl.png  1355  386  128.000000  p214-010-60001-cl.png\n",
        "p214-010-60001-cl.png  2072  658   45.254834  p214-010-60001-cl.png\n",
        "p214-010-60001-cl.png  1955  737   45.254834  p214-010-60001-cl.png"
       ]
      }
     ],
     "prompt_number": 9
    },
    {
     "cell_type": "code",
     "collapsed": false,
     "input": [
      "hologic.drop('img_name', axis=1, inplace=True)"
     ],
     "language": "python",
     "metadata": {},
     "outputs": [],
     "prompt_number": 10
    },
    {
     "cell_type": "code",
     "collapsed": false,
     "input": [
      "hologic_meta_path = '/Volumes/Seagate/2015-03-26/BIRADS.csv'\n",
      "hologic_meta = mia.analysis.create_hologic_meta_data(hologic, hologic_meta_path)\n",
      "hologic_meta.head()"
     ],
     "language": "python",
     "metadata": {},
     "outputs": [
      {
       "html": [
        "<div style=\"max-height:1000px;max-width:1500px;overflow:auto;\">\n",
        "<table border=\"1\" class=\"dataframe\">\n",
        "  <thead>\n",
        "    <tr style=\"text-align: right;\">\n",
        "      <th></th>\n",
        "      <th>patient_id</th>\n",
        "      <th>side</th>\n",
        "      <th>view</th>\n",
        "      <th>img_name</th>\n",
        "      <th>BIRADS</th>\n",
        "      <th>img_number</th>\n",
        "    </tr>\n",
        "    <tr>\n",
        "      <th>img_name</th>\n",
        "      <th></th>\n",
        "      <th></th>\n",
        "      <th></th>\n",
        "      <th></th>\n",
        "      <th></th>\n",
        "      <th></th>\n",
        "    </tr>\n",
        "  </thead>\n",
        "  <tbody>\n",
        "    <tr>\n",
        "      <th>p214-010-60001-cl.png</th>\n",
        "      <td> 21401060001</td>\n",
        "      <td> c</td>\n",
        "      <td> l</td>\n",
        "      <td> p214-010-60001-cl.png</td>\n",
        "      <td> 3</td>\n",
        "      <td> 1</td>\n",
        "    </tr>\n",
        "    <tr>\n",
        "      <th>p214-010-60001-cl.png</th>\n",
        "      <td> 21401060001</td>\n",
        "      <td> c</td>\n",
        "      <td> l</td>\n",
        "      <td> p214-010-60001-cl.png</td>\n",
        "      <td> 3</td>\n",
        "      <td> 1</td>\n",
        "    </tr>\n",
        "    <tr>\n",
        "      <th>p214-010-60001-cl.png</th>\n",
        "      <td> 21401060001</td>\n",
        "      <td> c</td>\n",
        "      <td> l</td>\n",
        "      <td> p214-010-60001-cl.png</td>\n",
        "      <td> 3</td>\n",
        "      <td> 1</td>\n",
        "    </tr>\n",
        "    <tr>\n",
        "      <th>p214-010-60001-cl.png</th>\n",
        "      <td> 21401060001</td>\n",
        "      <td> c</td>\n",
        "      <td> l</td>\n",
        "      <td> p214-010-60001-cl.png</td>\n",
        "      <td> 3</td>\n",
        "      <td> 1</td>\n",
        "    </tr>\n",
        "    <tr>\n",
        "      <th>p214-010-60001-cl.png</th>\n",
        "      <td> 21401060001</td>\n",
        "      <td> c</td>\n",
        "      <td> l</td>\n",
        "      <td> p214-010-60001-cl.png</td>\n",
        "      <td> 3</td>\n",
        "      <td> 1</td>\n",
        "    </tr>\n",
        "  </tbody>\n",
        "</table>\n",
        "</div>"
       ],
       "metadata": {},
       "output_type": "pyout",
       "prompt_number": 8,
       "text": [
        "                        patient_id side view               img_name  BIRADS  \\\n",
        "img_name                                                                      \n",
        "p214-010-60001-cl.png  21401060001    c    l  p214-010-60001-cl.png       3   \n",
        "p214-010-60001-cl.png  21401060001    c    l  p214-010-60001-cl.png       3   \n",
        "p214-010-60001-cl.png  21401060001    c    l  p214-010-60001-cl.png       3   \n",
        "p214-010-60001-cl.png  21401060001    c    l  p214-010-60001-cl.png       3   \n",
        "p214-010-60001-cl.png  21401060001    c    l  p214-010-60001-cl.png       3   \n",
        "\n",
        "                       img_number  \n",
        "img_name                           \n",
        "p214-010-60001-cl.png           1  \n",
        "p214-010-60001-cl.png           1  \n",
        "p214-010-60001-cl.png           1  \n",
        "p214-010-60001-cl.png           1  \n",
        "p214-010-60001-cl.png           1  "
       ]
      }
     ],
     "prompt_number": 8
    },
    {
     "cell_type": "code",
     "collapsed": false,
     "input": [
      "flt = hologic['radius']>30.0\n",
      "\n",
      "mia.plotting.plot_scatter_3d(hologic[flt], hologic.columns, hologic_meta[flt].BIRADS)"
     ],
     "language": "python",
     "metadata": {},
     "outputs": [],
     "prompt_number": 11
    },
    {
     "cell_type": "code",
     "collapsed": false,
     "input": [
      "mapping = mia.analysis.tSNE(hologic[flt], verbose=2)"
     ],
     "language": "python",
     "metadata": {},
     "outputs": [
      {
       "output_type": "stream",
       "stream": "stdout",
       "text": [
        "[t-SNE] Computing pairwise distances...\n",
        "[t-SNE] Computed conditional probabilities for sample 1000 / 9263"
       ]
      },
      {
       "output_type": "stream",
       "stream": "stdout",
       "text": [
        "\n",
        "[t-SNE] Computed conditional probabilities for sample 2000 / 9263"
       ]
      },
      {
       "output_type": "stream",
       "stream": "stdout",
       "text": [
        "\n",
        "[t-SNE] Computed conditional probabilities for sample 3000 / 9263"
       ]
      },
      {
       "output_type": "stream",
       "stream": "stdout",
       "text": [
        "\n",
        "[t-SNE] Computed conditional probabilities for sample 4000 / 9263"
       ]
      },
      {
       "output_type": "stream",
       "stream": "stdout",
       "text": [
        "\n",
        "[t-SNE] Computed conditional probabilities for sample 5000 / 9263"
       ]
      },
      {
       "output_type": "stream",
       "stream": "stdout",
       "text": [
        "\n",
        "[t-SNE] Computed conditional probabilities for sample 6000 / 9263"
       ]
      },
      {
       "output_type": "stream",
       "stream": "stdout",
       "text": [
        "\n",
        "[t-SNE] Computed conditional probabilities for sample 7000 / 9263"
       ]
      },
      {
       "output_type": "stream",
       "stream": "stdout",
       "text": [
        "\n",
        "[t-SNE] Computed conditional probabilities for sample 8000 / 9263"
       ]
      },
      {
       "output_type": "stream",
       "stream": "stdout",
       "text": [
        "\n",
        "[t-SNE] Computed conditional probabilities for sample 9000 / 9263"
       ]
      },
      {
       "output_type": "stream",
       "stream": "stdout",
       "text": [
        "\n",
        "[t-SNE] Computed conditional probabilities for sample 9263 / 9263"
       ]
      }
     ]
    }
   ],
   "metadata": {}
  }
 ]
}