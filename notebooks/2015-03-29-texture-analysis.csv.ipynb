{
 "metadata": {
  "name": "",
  "signature": "sha256:c2c16d21b2d9e06b9004df6226cf3a011dad56262ef3f119e153b0b1481b7fd3"
 },
 "nbformat": 3,
 "nbformat_minor": 0,
 "worksheets": [
  {
   "cells": [
    {
     "cell_type": "code",
     "collapsed": false,
     "input": [
      "%matplotlib qt\n",
      "import pandas as pd\n",
      "import numpy as np\n",
      "import re\n",
      "import mia"
     ],
     "language": "python",
     "metadata": {},
     "outputs": [],
     "prompt_number": 5
    },
    {
     "cell_type": "code",
     "collapsed": false,
     "input": [
      "hologic = pd.DataFrame.from_csv('../2015-03-28-real-texture.csv')\n",
      "hologic.head()"
     ],
     "language": "python",
     "metadata": {},
     "outputs": [
      {
       "html": [
        "<div style=\"max-height:1000px;max-width:1500px;overflow:auto;\">\n",
        "<table border=\"1\" class=\"dataframe\">\n",
        "  <thead>\n",
        "    <tr style=\"text-align: right;\">\n",
        "      <th></th>\n",
        "      <th>contrast</th>\n",
        "      <th>dissimilarity</th>\n",
        "      <th>homogeneity</th>\n",
        "      <th>energy</th>\n",
        "    </tr>\n",
        "  </thead>\n",
        "  <tbody>\n",
        "    <tr>\n",
        "      <th>p214-010-60001-cl.png</th>\n",
        "      <td> 120768596.0</td>\n",
        "      <td> 8260433.75</td>\n",
        "      <td> 7615467.955415</td>\n",
        "      <td> 52137.295714</td>\n",
        "    </tr>\n",
        "    <tr>\n",
        "      <th>p214-010-60001-cr.png</th>\n",
        "      <td>  96740019.0</td>\n",
        "      <td> 6551713.75</td>\n",
        "      <td> 7780004.100804</td>\n",
        "      <td> 48991.829472</td>\n",
        "    </tr>\n",
        "    <tr>\n",
        "      <th>p214-010-60001-ml.png</th>\n",
        "      <td> 150263119.0</td>\n",
        "      <td> 9750372.00</td>\n",
        "      <td> 7490687.595096</td>\n",
        "      <td> 43423.847163</td>\n",
        "    </tr>\n",
        "    <tr>\n",
        "      <th>p214-010-60001-mr.png</th>\n",
        "      <td> 155084857.5</td>\n",
        "      <td> 9615812.75</td>\n",
        "      <td> 7532493.632325</td>\n",
        "      <td> 37962.063566</td>\n",
        "    </tr>\n",
        "    <tr>\n",
        "      <th>p214-010-60005-cl.png</th>\n",
        "      <td> 109416700.5</td>\n",
        "      <td> 8403287.50</td>\n",
        "      <td> 7470991.621762</td>\n",
        "      <td> 55686.265538</td>\n",
        "    </tr>\n",
        "  </tbody>\n",
        "</table>\n",
        "</div>"
       ],
       "metadata": {},
       "output_type": "pyout",
       "prompt_number": 6,
       "text": [
        "                          contrast  dissimilarity     homogeneity  \\\n",
        "p214-010-60001-cl.png  120768596.0     8260433.75  7615467.955415   \n",
        "p214-010-60001-cr.png   96740019.0     6551713.75  7780004.100804   \n",
        "p214-010-60001-ml.png  150263119.0     9750372.00  7490687.595096   \n",
        "p214-010-60001-mr.png  155084857.5     9615812.75  7532493.632325   \n",
        "p214-010-60005-cl.png  109416700.5     8403287.50  7470991.621762   \n",
        "\n",
        "                             energy  \n",
        "p214-010-60001-cl.png  52137.295714  \n",
        "p214-010-60001-cr.png  48991.829472  \n",
        "p214-010-60001-ml.png  43423.847163  \n",
        "p214-010-60001-mr.png  37962.063566  \n",
        "p214-010-60005-cl.png  55686.265538  "
       ]
      }
     ],
     "prompt_number": 6
    },
    {
     "cell_type": "code",
     "collapsed": false,
     "input": [
      "hologic_meta = mia.analysis.create_hologic_meta_data(hologic, '../data/BIRADS.csv')\n",
      "hologic_meta.head()"
     ],
     "language": "python",
     "metadata": {},
     "outputs": [
      {
       "html": [
        "<div style=\"max-height:1000px;max-width:1500px;overflow:auto;\">\n",
        "<table border=\"1\" class=\"dataframe\">\n",
        "  <thead>\n",
        "    <tr style=\"text-align: right;\">\n",
        "      <th></th>\n",
        "      <th>patient_id</th>\n",
        "      <th>side</th>\n",
        "      <th>view</th>\n",
        "      <th>img_name</th>\n",
        "      <th>BIRADS</th>\n",
        "      <th>img_number</th>\n",
        "    </tr>\n",
        "  </thead>\n",
        "  <tbody>\n",
        "    <tr>\n",
        "      <th>p214-010-60001-cl.png</th>\n",
        "      <td> 21401060001</td>\n",
        "      <td> c</td>\n",
        "      <td> l</td>\n",
        "      <td> p214-010-60001-cl.png</td>\n",
        "      <td> 3</td>\n",
        "      <td> 1</td>\n",
        "    </tr>\n",
        "    <tr>\n",
        "      <th>p214-010-60001-cr.png</th>\n",
        "      <td> 21401060001</td>\n",
        "      <td> c</td>\n",
        "      <td> r</td>\n",
        "      <td> p214-010-60001-cr.png</td>\n",
        "      <td> 3</td>\n",
        "      <td> 1</td>\n",
        "    </tr>\n",
        "    <tr>\n",
        "      <th>p214-010-60001-ml.png</th>\n",
        "      <td> 21401060001</td>\n",
        "      <td> m</td>\n",
        "      <td> l</td>\n",
        "      <td> p214-010-60001-ml.png</td>\n",
        "      <td> 3</td>\n",
        "      <td> 1</td>\n",
        "    </tr>\n",
        "    <tr>\n",
        "      <th>p214-010-60001-mr.png</th>\n",
        "      <td> 21401060001</td>\n",
        "      <td> m</td>\n",
        "      <td> r</td>\n",
        "      <td> p214-010-60001-mr.png</td>\n",
        "      <td> 3</td>\n",
        "      <td> 1</td>\n",
        "    </tr>\n",
        "    <tr>\n",
        "      <th>p214-010-60005-cl.png</th>\n",
        "      <td> 21401060005</td>\n",
        "      <td> c</td>\n",
        "      <td> l</td>\n",
        "      <td> p214-010-60005-cl.png</td>\n",
        "      <td> 4</td>\n",
        "      <td> 5</td>\n",
        "    </tr>\n",
        "  </tbody>\n",
        "</table>\n",
        "</div>"
       ],
       "metadata": {},
       "output_type": "pyout",
       "prompt_number": 7,
       "text": [
        "                        patient_id side view               img_name  BIRADS  \\\n",
        "p214-010-60001-cl.png  21401060001    c    l  p214-010-60001-cl.png       3   \n",
        "p214-010-60001-cr.png  21401060001    c    r  p214-010-60001-cr.png       3   \n",
        "p214-010-60001-ml.png  21401060001    m    l  p214-010-60001-ml.png       3   \n",
        "p214-010-60001-mr.png  21401060001    m    r  p214-010-60001-mr.png       3   \n",
        "p214-010-60005-cl.png  21401060005    c    l  p214-010-60005-cl.png       4   \n",
        "\n",
        "                       img_number  \n",
        "p214-010-60001-cl.png           1  \n",
        "p214-010-60001-cr.png           1  \n",
        "p214-010-60001-ml.png           1  \n",
        "p214-010-60001-mr.png           1  \n",
        "p214-010-60005-cl.png           5  "
       ]
      }
     ],
     "prompt_number": 7
    },
    {
     "cell_type": "markdown",
     "metadata": {},
     "source": [
      "#Real Image Analysis"
     ]
    },
    {
     "cell_type": "code",
     "collapsed": false,
     "input": [
      "mapping = mia.analysis.tSNE(hologic, n_components=2, verbose=2, learning_rate=300)"
     ],
     "language": "python",
     "metadata": {},
     "outputs": [
      {
       "output_type": "stream",
       "stream": "stdout",
       "text": [
        "[t-SNE] Computing pairwise distances...\n",
        "[t-SNE] Computed conditional probabilities for sample 360 / 360\n",
        "[t-SNE] Mean sigma: 0.304437\n",
        "[t-SNE] Iteration 10: error = 16.1901435, gradient norm = 0.1620562"
       ]
      },
      {
       "output_type": "stream",
       "stream": "stdout",
       "text": [
        "\n",
        "[t-SNE] Iteration 20: error = 12.9699795, gradient norm = 0.1491592"
       ]
      },
      {
       "output_type": "stream",
       "stream": "stdout",
       "text": [
        "\n",
        "[t-SNE] Iteration 30: error = 13.1406574, gradient norm = 0.1355151"
       ]
      },
      {
       "output_type": "stream",
       "stream": "stdout",
       "text": [
        "\n",
        "[t-SNE] Iteration 40: error = 12.3628987, gradient norm = 0.1413517"
       ]
      },
      {
       "output_type": "stream",
       "stream": "stdout",
       "text": [
        "\n",
        "[t-SNE] Iteration 50: error = 12.4745548, gradient norm = 0.1306971"
       ]
      },
      {
       "output_type": "stream",
       "stream": "stdout",
       "text": [
        "\n",
        "[t-SNE] Iteration 60: error = 11.4025488, gradient norm = 0.1548845"
       ]
      },
      {
       "output_type": "stream",
       "stream": "stdout",
       "text": [
        "\n",
        "[t-SNE] Iteration 70: error = 11.2954892, gradient norm = 0.1524526"
       ]
      },
      {
       "output_type": "stream",
       "stream": "stdout",
       "text": [
        "\n",
        "[t-SNE] Iteration 80: error = 11.3902441, gradient norm = 0.1377847"
       ]
      },
      {
       "output_type": "stream",
       "stream": "stdout",
       "text": [
        "\n",
        "[t-SNE] Iteration 83: did not make any progress during the last 30 episodes. Finished.\n",
        "[t-SNE] Error after 83 iterations with early exaggeration: 11.566643\n",
        "[t-SNE] Iteration 90: error = 0.6098006, gradient norm = 0.0209932"
       ]
      },
      {
       "output_type": "stream",
       "stream": "stdout",
       "text": [
        "\n",
        "[t-SNE] Iteration 100: error = 0.3526824, gradient norm = 0.0085577"
       ]
      },
      {
       "output_type": "stream",
       "stream": "stdout",
       "text": [
        "\n",
        "[t-SNE] Iteration 110: error = 0.3127755, gradient norm = 0.0030294"
       ]
      },
      {
       "output_type": "stream",
       "stream": "stdout",
       "text": [
        "\n",
        "[t-SNE] Iteration 120: error = 0.3029141, gradient norm = 0.0011162"
       ]
      },
      {
       "output_type": "stream",
       "stream": "stdout",
       "text": [
        "\n",
        "[t-SNE] Iteration 130: error = 0.2984669, gradient norm = 0.0007474"
       ]
      },
      {
       "output_type": "stream",
       "stream": "stdout",
       "text": [
        "\n",
        "[t-SNE] Iteration 140: error = 0.2959664, gradient norm = 0.0006636"
       ]
      },
      {
       "output_type": "stream",
       "stream": "stdout",
       "text": [
        "\n",
        "[t-SNE] Iteration 150: error = 0.2945749, gradient norm = 0.0006405"
       ]
      },
      {
       "output_type": "stream",
       "stream": "stdout",
       "text": [
        "\n",
        "[t-SNE] Iteration 160: error = 0.2937845, gradient norm = 0.0006263"
       ]
      },
      {
       "output_type": "stream",
       "stream": "stdout",
       "text": [
        "\n",
        "[t-SNE] Iteration 170: error = 0.2933301, gradient norm = 0.0006197"
       ]
      },
      {
       "output_type": "stream",
       "stream": "stdout",
       "text": [
        "\n",
        "[t-SNE] Iteration 180: error = 0.2930650, gradient norm = 0.0006158"
       ]
      },
      {
       "output_type": "stream",
       "stream": "stdout",
       "text": [
        "\n",
        "[t-SNE] Iteration 190: error = 0.2929085, gradient norm = 0.0006136"
       ]
      },
      {
       "output_type": "stream",
       "stream": "stdout",
       "text": [
        "\n",
        "[t-SNE] Iteration 200: error = 0.2928156, gradient norm = 0.0006123"
       ]
      },
      {
       "output_type": "stream",
       "stream": "stdout",
       "text": [
        "\n",
        "[t-SNE] Iteration 210: error = 0.2927602, gradient norm = 0.0006116"
       ]
      },
      {
       "output_type": "stream",
       "stream": "stdout",
       "text": [
        "\n",
        "[t-SNE] Iteration 220: error = 0.2927271, gradient norm = 0.0006111"
       ]
      },
      {
       "output_type": "stream",
       "stream": "stdout",
       "text": [
        "\n",
        "[t-SNE] Iteration 230: error = 0.2927074, gradient norm = 0.0006109"
       ]
      },
      {
       "output_type": "stream",
       "stream": "stdout",
       "text": [
        "\n",
        "[t-SNE] Iteration 240: error = 0.2926956, gradient norm = 0.0006107"
       ]
      },
      {
       "output_type": "stream",
       "stream": "stdout",
       "text": [
        "\n",
        "[t-SNE] Iteration 250: error = 0.2926885, gradient norm = 0.0006106"
       ]
      },
      {
       "output_type": "stream",
       "stream": "stdout",
       "text": [
        "\n",
        "[t-SNE] Iteration 260: error = 0.2926842, gradient norm = 0.0006106"
       ]
      },
      {
       "output_type": "stream",
       "stream": "stdout",
       "text": [
        "\n",
        "[t-SNE] Iteration 270: error = 0.2926817, gradient norm = 0.0006105"
       ]
      },
      {
       "output_type": "stream",
       "stream": "stdout",
       "text": [
        "\n",
        "[t-SNE] Iteration 280: error = 0.2926802, gradient norm = 0.0006105"
       ]
      },
      {
       "output_type": "stream",
       "stream": "stdout",
       "text": [
        "\n",
        "[t-SNE] Iteration 284: error difference 0.000000. Finished.\n",
        "[t-SNE] Error after 284 iterations: 0.292680\n"
       ]
      }
     ],
     "prompt_number": 8
    },
    {
     "cell_type": "code",
     "collapsed": false,
     "input": [
      "mia.plotting.plot_scatter_2d(mapping, [0,1], hologic_meta.BIRADS)"
     ],
     "language": "python",
     "metadata": {},
     "outputs": [
      {
       "metadata": {},
       "output_type": "pyout",
       "prompt_number": 9,
       "text": [
        "<matplotlib.axes._subplots.AxesSubplot at 0x112147990>"
       ]
      }
     ],
     "prompt_number": 9
    },
    {
     "cell_type": "markdown",
     "metadata": {},
     "source": [
      "We can see from the scatter matrix that the data is again splitting using the homogeneity attribute"
     ]
    },
    {
     "cell_type": "code",
     "collapsed": false,
     "input": [
      "h = hologic.copy()\n",
      "h['BIRADS'] = hologic_meta.BIRADS\n",
      "mia.plotting.plot_scattermatrix(h, 'BIRADS')"
     ],
     "language": "python",
     "metadata": {},
     "outputs": [],
     "prompt_number": 11
    }
   ],
   "metadata": {}
  }
 ]
}