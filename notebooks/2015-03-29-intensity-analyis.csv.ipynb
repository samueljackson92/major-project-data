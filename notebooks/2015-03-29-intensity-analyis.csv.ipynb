{
 "metadata": {
  "name": "",
  "signature": "sha256:adece6fdc580b80e92994517dafbe22552ef11df39b27355ed49a1c0ab20b3fb"
 },
 "nbformat": 3,
 "nbformat_minor": 0,
 "worksheets": [
  {
   "cells": [
    {
     "cell_type": "code",
     "collapsed": false,
     "input": [
      "%matplotlib inline\n",
      "import pandas as pd\n",
      "import numpy as np\n",
      "import mia\n",
      "import re"
     ],
     "language": "python",
     "metadata": {},
     "outputs": [],
     "prompt_number": 107
    },
    {
     "cell_type": "code",
     "collapsed": false,
     "input": [
      "hologic = pd.DataFrame.from_csv('../2015-03-28-real-intensity.csv')\n",
      "hologic.head()"
     ],
     "language": "python",
     "metadata": {},
     "outputs": [
      {
       "html": [
        "<div style=\"max-height:1000px;max-width:1500px;overflow:auto;\">\n",
        "<table border=\"1\" class=\"dataframe\">\n",
        "  <thead>\n",
        "    <tr style=\"text-align: right;\">\n",
        "      <th></th>\n",
        "      <th>count</th>\n",
        "      <th>mean</th>\n",
        "      <th>std</th>\n",
        "      <th>min</th>\n",
        "      <th>25%</th>\n",
        "      <th>50%</th>\n",
        "      <th>75%</th>\n",
        "      <th>max</th>\n",
        "      <th>skew</th>\n",
        "      <th>kurtosis</th>\n",
        "    </tr>\n",
        "  </thead>\n",
        "  <tbody>\n",
        "    <tr>\n",
        "      <th>p214-010-60001-cl.png</th>\n",
        "      <td> 1033968</td>\n",
        "      <td> 0.324531</td>\n",
        "      <td> 0.182652</td>\n",
        "      <td> 0.023529</td>\n",
        "      <td> 0.184314</td>\n",
        "      <td> 0.274510</td>\n",
        "      <td> 0.435294</td>\n",
        "      <td> 0.956863</td>\n",
        "      <td> 0.856085</td>\n",
        "      <td>-0.103735</td>\n",
        "    </tr>\n",
        "    <tr>\n",
        "      <th>p214-010-60001-cr.png</th>\n",
        "      <td>  854832</td>\n",
        "      <td> 0.335106</td>\n",
        "      <td> 0.189121</td>\n",
        "      <td> 0.027451</td>\n",
        "      <td> 0.180392</td>\n",
        "      <td> 0.294118</td>\n",
        "      <td> 0.474510</td>\n",
        "      <td> 1.000000</td>\n",
        "      <td> 0.605977</td>\n",
        "      <td>-0.475660</td>\n",
        "    </tr>\n",
        "    <tr>\n",
        "      <th>p214-010-60001-ml.png</th>\n",
        "      <td> 1170384</td>\n",
        "      <td> 0.341614</td>\n",
        "      <td> 0.184175</td>\n",
        "      <td> 0.023529</td>\n",
        "      <td> 0.180392</td>\n",
        "      <td> 0.305882</td>\n",
        "      <td> 0.478431</td>\n",
        "      <td> 0.964706</td>\n",
        "      <td> 0.577949</td>\n",
        "      <td>-0.618552</td>\n",
        "    </tr>\n",
        "    <tr>\n",
        "      <th>p214-010-60001-mr.png</th>\n",
        "      <td> 1120256</td>\n",
        "      <td> 0.341279</td>\n",
        "      <td> 0.179566</td>\n",
        "      <td> 0.031373</td>\n",
        "      <td> 0.184314</td>\n",
        "      <td> 0.321569</td>\n",
        "      <td> 0.470588</td>\n",
        "      <td> 0.996078</td>\n",
        "      <td> 0.509100</td>\n",
        "      <td>-0.599624</td>\n",
        "    </tr>\n",
        "    <tr>\n",
        "      <th>p214-010-60005-cl.png</th>\n",
        "      <td> 1249856</td>\n",
        "      <td> 0.338331</td>\n",
        "      <td> 0.207879</td>\n",
        "      <td> 0.015686</td>\n",
        "      <td> 0.152941</td>\n",
        "      <td> 0.301961</td>\n",
        "      <td> 0.505882</td>\n",
        "      <td> 0.901961</td>\n",
        "      <td> 0.412472</td>\n",
        "      <td>-0.994880</td>\n",
        "    </tr>\n",
        "  </tbody>\n",
        "</table>\n",
        "</div>"
       ],
       "metadata": {},
       "output_type": "pyout",
       "prompt_number": 46,
       "text": [
        "                         count      mean       std       min       25%  \\\n",
        "p214-010-60001-cl.png  1033968  0.324531  0.182652  0.023529  0.184314   \n",
        "p214-010-60001-cr.png   854832  0.335106  0.189121  0.027451  0.180392   \n",
        "p214-010-60001-ml.png  1170384  0.341614  0.184175  0.023529  0.180392   \n",
        "p214-010-60001-mr.png  1120256  0.341279  0.179566  0.031373  0.184314   \n",
        "p214-010-60005-cl.png  1249856  0.338331  0.207879  0.015686  0.152941   \n",
        "\n",
        "                            50%       75%       max      skew  kurtosis  \n",
        "p214-010-60001-cl.png  0.274510  0.435294  0.956863  0.856085 -0.103735  \n",
        "p214-010-60001-cr.png  0.294118  0.474510  1.000000  0.605977 -0.475660  \n",
        "p214-010-60001-ml.png  0.305882  0.478431  0.964706  0.577949 -0.618552  \n",
        "p214-010-60001-mr.png  0.321569  0.470588  0.996078  0.509100 -0.599624  \n",
        "p214-010-60005-cl.png  0.301961  0.505882  0.901961  0.412472 -0.994880  "
       ]
      }
     ],
     "prompt_number": 46
    },
    {
     "cell_type": "code",
     "collapsed": false,
     "input": [
      "hologic_meta = mia.analysis.create_hologic_meta_data(hologic_cluster, '../data/BIRADS.csv')\n",
      "hologic_meta.head()"
     ],
     "language": "python",
     "metadata": {},
     "outputs": [
      {
       "html": [
        "<div style=\"max-height:1000px;max-width:1500px;overflow:auto;\">\n",
        "<table border=\"1\" class=\"dataframe\">\n",
        "  <thead>\n",
        "    <tr style=\"text-align: right;\">\n",
        "      <th></th>\n",
        "      <th>patient_id</th>\n",
        "      <th>side</th>\n",
        "      <th>view</th>\n",
        "      <th>img_name</th>\n",
        "      <th>BIRADS</th>\n",
        "      <th>img_number</th>\n",
        "    </tr>\n",
        "  </thead>\n",
        "  <tbody>\n",
        "    <tr>\n",
        "      <th>p214-010-60001-cl.png</th>\n",
        "      <td> 21401060001</td>\n",
        "      <td> c</td>\n",
        "      <td> l</td>\n",
        "      <td> p214-010-60001-cl.png</td>\n",
        "      <td> 3</td>\n",
        "      <td> 1</td>\n",
        "    </tr>\n",
        "    <tr>\n",
        "      <th>p214-010-60001-cr.png</th>\n",
        "      <td> 21401060001</td>\n",
        "      <td> c</td>\n",
        "      <td> r</td>\n",
        "      <td> p214-010-60001-cr.png</td>\n",
        "      <td> 3</td>\n",
        "      <td> 1</td>\n",
        "    </tr>\n",
        "    <tr>\n",
        "      <th>p214-010-60001-ml.png</th>\n",
        "      <td> 21401060001</td>\n",
        "      <td> m</td>\n",
        "      <td> l</td>\n",
        "      <td> p214-010-60001-ml.png</td>\n",
        "      <td> 3</td>\n",
        "      <td> 1</td>\n",
        "    </tr>\n",
        "    <tr>\n",
        "      <th>p214-010-60001-mr.png</th>\n",
        "      <td> 21401060001</td>\n",
        "      <td> m</td>\n",
        "      <td> r</td>\n",
        "      <td> p214-010-60001-mr.png</td>\n",
        "      <td> 3</td>\n",
        "      <td> 1</td>\n",
        "    </tr>\n",
        "    <tr>\n",
        "      <th>p214-010-60005-cl.png</th>\n",
        "      <td> 21401060005</td>\n",
        "      <td> c</td>\n",
        "      <td> l</td>\n",
        "      <td> p214-010-60005-cl.png</td>\n",
        "      <td> 4</td>\n",
        "      <td> 5</td>\n",
        "    </tr>\n",
        "  </tbody>\n",
        "</table>\n",
        "</div>"
       ],
       "metadata": {},
       "output_type": "pyout",
       "prompt_number": 3,
       "text": [
        "                        patient_id side view               img_name  BIRADS  \\\n",
        "p214-010-60001-cl.png  21401060001    c    l  p214-010-60001-cl.png       3   \n",
        "p214-010-60001-cr.png  21401060001    c    r  p214-010-60001-cr.png       3   \n",
        "p214-010-60001-ml.png  21401060001    m    l  p214-010-60001-ml.png       3   \n",
        "p214-010-60001-mr.png  21401060001    m    r  p214-010-60001-mr.png       3   \n",
        "p214-010-60005-cl.png  21401060005    c    l  p214-010-60005-cl.png       4   \n",
        "\n",
        "                       img_number  \n",
        "p214-010-60001-cl.png           1  \n",
        "p214-010-60001-cr.png           1  \n",
        "p214-010-60001-ml.png           1  \n",
        "p214-010-60001-mr.png           1  \n",
        "p214-010-60005-cl.png           5  "
       ]
      }
     ],
     "prompt_number": 3
    },
    {
     "cell_type": "markdown",
     "metadata": {},
     "source": [
      "#Real Dataset Analysis"
     ]
    },
    {
     "cell_type": "code",
     "collapsed": false,
     "input": [
      "selected_columns = filter(lambda x: x in ['kurtosis', 'skew', 'mean'], hologic.columns)"
     ],
     "language": "python",
     "metadata": {},
     "outputs": [],
     "prompt_number": 94
    },
    {
     "cell_type": "code",
     "collapsed": false,
     "input": [
      "mapping = mia.analysis.tSNE(hologic, verbose=2, learning_rate=300)"
     ],
     "language": "python",
     "metadata": {},
     "outputs": [
      {
       "output_type": "stream",
       "stream": "stdout",
       "text": [
        "[t-SNE] Computing pairwise distances...\n",
        "[t-SNE] Computed conditional probabilities for sample 360 / 360\n",
        "[t-SNE] Mean sigma: 1.138025\n",
        "[t-SNE] Iteration 10: error = 16.4980988, gradient norm = 0.1710645"
       ]
      },
      {
       "output_type": "stream",
       "stream": "stdout",
       "text": [
        "\n",
        "[t-SNE] Iteration 20: error = 14.7514618, gradient norm = 0.1522693"
       ]
      },
      {
       "output_type": "stream",
       "stream": "stdout",
       "text": [
        "\n",
        "[t-SNE] Iteration 30: error = 14.3356695, gradient norm = 0.1490703"
       ]
      },
      {
       "output_type": "stream",
       "stream": "stdout",
       "text": [
        "\n",
        "[t-SNE] Iteration 40: error = 13.8885170, gradient norm = 0.1476228"
       ]
      },
      {
       "output_type": "stream",
       "stream": "stdout",
       "text": [
        "\n",
        "[t-SNE] Iteration 50: error = 14.0658323, gradient norm = 0.1423092"
       ]
      },
      {
       "output_type": "stream",
       "stream": "stdout",
       "text": [
        "\n",
        "[t-SNE] Iteration 60: error = 14.2502065, gradient norm = 0.1525889"
       ]
      },
      {
       "output_type": "stream",
       "stream": "stdout",
       "text": [
        "\n",
        "[t-SNE] Iteration 70: error = 14.2726163, gradient norm = 0.1458728"
       ]
      },
      {
       "output_type": "stream",
       "stream": "stdout",
       "text": [
        "\n",
        "[t-SNE] Iteration 80: error = 14.0104198, gradient norm = 0.1405560"
       ]
      },
      {
       "output_type": "stream",
       "stream": "stdout",
       "text": [
        "\n",
        "[t-SNE] Iteration 83: did not make any progress during the last 30 episodes. Finished.\n",
        "[t-SNE] Error after 83 iterations with early exaggeration: 14.297692\n",
        "[t-SNE] Iteration 90: error = 1.0477474, gradient norm = 0.0243286"
       ]
      },
      {
       "output_type": "stream",
       "stream": "stdout",
       "text": [
        "\n",
        "[t-SNE] Iteration 100: error = 0.7543315, gradient norm = 0.0087214"
       ]
      },
      {
       "output_type": "stream",
       "stream": "stdout",
       "text": [
        "\n",
        "[t-SNE] Iteration 110: error = 0.7141827, gradient norm = 0.0029759"
       ]
      },
      {
       "output_type": "stream",
       "stream": "stdout",
       "text": [
        "\n",
        "[t-SNE] Iteration 120: error = 0.7053682, gradient norm = 0.0010927"
       ]
      },
      {
       "output_type": "stream",
       "stream": "stdout",
       "text": [
        "\n",
        "[t-SNE] Iteration 130: error = 0.7013745, gradient norm = 0.0008200"
       ]
      },
      {
       "output_type": "stream",
       "stream": "stdout",
       "text": [
        "\n",
        "[t-SNE] Iteration 140: error = 0.6989091, gradient norm = 0.0007137"
       ]
      },
      {
       "output_type": "stream",
       "stream": "stdout",
       "text": [
        "\n",
        "[t-SNE] Iteration 150: error = 0.6974379, gradient norm = 0.0007452"
       ]
      },
      {
       "output_type": "stream",
       "stream": "stdout",
       "text": [
        "\n",
        "[t-SNE] Iteration 160: error = 0.6965513, gradient norm = 0.0006670"
       ]
      },
      {
       "output_type": "stream",
       "stream": "stdout",
       "text": [
        "\n",
        "[t-SNE] Iteration 170: error = 0.6960289, gradient norm = 0.0006553"
       ]
      },
      {
       "output_type": "stream",
       "stream": "stdout",
       "text": [
        "\n",
        "[t-SNE] Iteration 180: error = 0.6957326, gradient norm = 0.0006424"
       ]
      },
      {
       "output_type": "stream",
       "stream": "stdout",
       "text": [
        "\n",
        "[t-SNE] Iteration 190: error = 0.6955636, gradient norm = 0.0006310"
       ]
      },
      {
       "output_type": "stream",
       "stream": "stdout",
       "text": [
        "\n",
        "[t-SNE] Iteration 200: error = 0.6954661, gradient norm = 0.0006250"
       ]
      },
      {
       "output_type": "stream",
       "stream": "stdout",
       "text": [
        "\n",
        "[t-SNE] Iteration 210: error = 0.6954093, gradient norm = 0.0006217"
       ]
      },
      {
       "output_type": "stream",
       "stream": "stdout",
       "text": [
        "\n",
        "[t-SNE] Iteration 220: error = 0.6953757, gradient norm = 0.0006197"
       ]
      },
      {
       "output_type": "stream",
       "stream": "stdout",
       "text": [
        "\n",
        "[t-SNE] Iteration 230: error = 0.6953558, gradient norm = 0.0006185"
       ]
      },
      {
       "output_type": "stream",
       "stream": "stdout",
       "text": [
        "\n",
        "[t-SNE] Iteration 240: error = 0.6953440, gradient norm = 0.0006178"
       ]
      },
      {
       "output_type": "stream",
       "stream": "stdout",
       "text": [
        "\n",
        "[t-SNE] Iteration 250: error = 0.6953369, gradient norm = 0.0006174"
       ]
      },
      {
       "output_type": "stream",
       "stream": "stdout",
       "text": [
        "\n",
        "[t-SNE] Iteration 260: error = 0.6953327, gradient norm = 0.0006171"
       ]
      },
      {
       "output_type": "stream",
       "stream": "stdout",
       "text": [
        "\n",
        "[t-SNE] Iteration 270: error = 0.6953301, gradient norm = 0.0006170"
       ]
      },
      {
       "output_type": "stream",
       "stream": "stdout",
       "text": [
        "\n",
        "[t-SNE] Iteration 280: error = 0.6953286, gradient norm = 0.0006169"
       ]
      },
      {
       "output_type": "stream",
       "stream": "stdout",
       "text": [
        "\n",
        "[t-SNE] Iteration 284: error difference 0.000000. Finished.\n",
        "[t-SNE] Error after 284 iterations: 0.695328\n"
       ]
      }
     ],
     "prompt_number": 77
    },
    {
     "cell_type": "code",
     "collapsed": false,
     "input": [
      "mia.plotting.plot_scatter_2d(mapping, [0,1], hologic_meta.BIRADS)"
     ],
     "language": "python",
     "metadata": {},
     "outputs": [
      {
       "metadata": {},
       "output_type": "pyout",
       "prompt_number": 79,
       "text": [
        "<matplotlib.axes._subplots.AxesSubplot at 0x1353e0510>"
       ]
      }
     ],
     "prompt_number": 79
    },
    {
     "cell_type": "code",
     "collapsed": false,
     "input": [
      "mia.plotting.plot_scatter_3d(hologic, selected_columns, hologic_meta.BIRADS)"
     ],
     "language": "python",
     "metadata": {},
     "outputs": [],
     "prompt_number": 95
    },
    {
     "cell_type": "code",
     "collapsed": false,
     "input": [
      "mapping.to_csv('../2015-03-28-real-intensity-mapping.csv')"
     ],
     "language": "python",
     "metadata": {},
     "outputs": [],
     "prompt_number": 44
    },
    {
     "cell_type": "markdown",
     "metadata": {},
     "source": [
      "Scatter matrix of the properties"
     ]
    },
    {
     "cell_type": "code",
     "collapsed": false,
     "input": [
      "h = hologic[selected_columns].copy()\n",
      "h['BIRADS'] = hologic_meta.BIRADS\n",
      "mia.plotting.plot_scattermatrix(h, 'BIRADS')"
     ],
     "language": "python",
     "metadata": {},
     "outputs": [],
     "prompt_number": 73
    },
    {
     "cell_type": "code",
     "collapsed": false,
     "input": [
      "mapping['class'] = hologic_meta.BIRADS\n",
      "mia.io_tools.dump_mapping_to_json(mapping, [0,1], '../mapping_viz/data.json')"
     ],
     "language": "python",
     "metadata": {},
     "outputs": [],
     "prompt_number": 72
    },
    {
     "cell_type": "code",
     "collapsed": false,
     "input": [
      "class_1 = hologic[hologic_meta.BIRADS == 1]\n",
      "class_4 = hologic[hologic_meta.BIRADS == 4]\n",
      "# left = class_1[mapping[0] < 0 ]\n",
      "# right = class_1[mapping[0] >= 0]\n",
      "\n",
      "class_1.describe() - class_4.describe()"
     ],
     "language": "python",
     "metadata": {},
     "outputs": [
      {
       "html": [
        "<div style=\"max-height:1000px;max-width:1500px;overflow:auto;\">\n",
        "<table border=\"1\" class=\"dataframe\">\n",
        "  <thead>\n",
        "    <tr style=\"text-align: right;\">\n",
        "      <th></th>\n",
        "      <th>count</th>\n",
        "      <th>mean</th>\n",
        "      <th>std</th>\n",
        "      <th>min</th>\n",
        "      <th>25%</th>\n",
        "      <th>50%</th>\n",
        "      <th>75%</th>\n",
        "      <th>max</th>\n",
        "      <th>skew</th>\n",
        "      <th>kurtosis</th>\n",
        "    </tr>\n",
        "  </thead>\n",
        "  <tbody>\n",
        "    <tr>\n",
        "      <th>count</th>\n",
        "      <td>      -8.000000</td>\n",
        "      <td>-8.000000</td>\n",
        "      <td>-8.000000</td>\n",
        "      <td>-8.000000</td>\n",
        "      <td>-8.000000</td>\n",
        "      <td>-8.000000</td>\n",
        "      <td>-8.000000</td>\n",
        "      <td>-8.000000</td>\n",
        "      <td>-8.000000</td>\n",
        "      <td>-8.000000</td>\n",
        "    </tr>\n",
        "    <tr>\n",
        "      <th>mean</th>\n",
        "      <td> 2245849.428571</td>\n",
        "      <td>-0.015390</td>\n",
        "      <td>-0.033828</td>\n",
        "      <td> 0.007064</td>\n",
        "      <td> 0.011432</td>\n",
        "      <td> 0.005523</td>\n",
        "      <td>-0.039793</td>\n",
        "      <td> 0.004193</td>\n",
        "      <td>-0.206480</td>\n",
        "      <td> 0.003884</td>\n",
        "    </tr>\n",
        "    <tr>\n",
        "      <th>std</th>\n",
        "      <td>  971690.816861</td>\n",
        "      <td>-0.006580</td>\n",
        "      <td>-0.013681</td>\n",
        "      <td> 0.006919</td>\n",
        "      <td>-0.010602</td>\n",
        "      <td>-0.013983</td>\n",
        "      <td>-0.017689</td>\n",
        "      <td> 0.005092</td>\n",
        "      <td>-0.025865</td>\n",
        "      <td> 0.154963</td>\n",
        "    </tr>\n",
        "    <tr>\n",
        "      <th>min</th>\n",
        "      <td>  773680.000000</td>\n",
        "      <td> 0.010058</td>\n",
        "      <td>-0.019379</td>\n",
        "      <td>-0.007843</td>\n",
        "      <td> 0.023529</td>\n",
        "      <td> 0.039216</td>\n",
        "      <td>-0.003922</td>\n",
        "      <td> 0.035294</td>\n",
        "      <td>-0.223580</td>\n",
        "      <td>-0.059259</td>\n",
        "    </tr>\n",
        "    <tr>\n",
        "      <th>25%</th>\n",
        "      <td> 1218908.000000</td>\n",
        "      <td>-0.014993</td>\n",
        "      <td>-0.024057</td>\n",
        "      <td> 0.003922</td>\n",
        "      <td> 0.023529</td>\n",
        "      <td> 0.011765</td>\n",
        "      <td>-0.031373</td>\n",
        "      <td> 0.000980</td>\n",
        "      <td>-0.107588</td>\n",
        "      <td> 0.045777</td>\n",
        "    </tr>\n",
        "    <tr>\n",
        "      <th>50%</th>\n",
        "      <td> 2354928.000000</td>\n",
        "      <td>-0.018932</td>\n",
        "      <td>-0.031975</td>\n",
        "      <td> 0.007843</td>\n",
        "      <td> 0.000000</td>\n",
        "      <td>-0.005882</td>\n",
        "      <td>-0.027451</td>\n",
        "      <td>-0.013725</td>\n",
        "      <td>-0.136601</td>\n",
        "      <td>-0.074180</td>\n",
        "    </tr>\n",
        "    <tr>\n",
        "      <th>75%</th>\n",
        "      <td> 3074100.000000</td>\n",
        "      <td>-0.022482</td>\n",
        "      <td>-0.045443</td>\n",
        "      <td> 0.011765</td>\n",
        "      <td> 0.000000</td>\n",
        "      <td>-0.009804</td>\n",
        "      <td>-0.040196</td>\n",
        "      <td> 0.003922</td>\n",
        "      <td>-0.294951</td>\n",
        "      <td>-0.002076</td>\n",
        "    </tr>\n",
        "    <tr>\n",
        "      <th>max</th>\n",
        "      <td> 3429008.000000</td>\n",
        "      <td>-0.026202</td>\n",
        "      <td>-0.076477</td>\n",
        "      <td> 0.019608</td>\n",
        "      <td>-0.031373</td>\n",
        "      <td> 0.000000</td>\n",
        "      <td>-0.086275</td>\n",
        "      <td> 0.003922</td>\n",
        "      <td>-0.183079</td>\n",
        "      <td> 1.875380</td>\n",
        "    </tr>\n",
        "  </tbody>\n",
        "</table>\n",
        "</div>"
       ],
       "metadata": {},
       "output_type": "pyout",
       "prompt_number": 104,
       "text": [
        "                count      mean       std       min       25%       50%  \\\n",
        "count       -8.000000 -8.000000 -8.000000 -8.000000 -8.000000 -8.000000   \n",
        "mean   2245849.428571 -0.015390 -0.033828  0.007064  0.011432  0.005523   \n",
        "std     971690.816861 -0.006580 -0.013681  0.006919 -0.010602 -0.013983   \n",
        "min     773680.000000  0.010058 -0.019379 -0.007843  0.023529  0.039216   \n",
        "25%    1218908.000000 -0.014993 -0.024057  0.003922  0.023529  0.011765   \n",
        "50%    2354928.000000 -0.018932 -0.031975  0.007843  0.000000 -0.005882   \n",
        "75%    3074100.000000 -0.022482 -0.045443  0.011765  0.000000 -0.009804   \n",
        "max    3429008.000000 -0.026202 -0.076477  0.019608 -0.031373  0.000000   \n",
        "\n",
        "            75%       max      skew  kurtosis  \n",
        "count -8.000000 -8.000000 -8.000000 -8.000000  \n",
        "mean  -0.039793  0.004193 -0.206480  0.003884  \n",
        "std   -0.017689  0.005092 -0.025865  0.154963  \n",
        "min   -0.003922  0.035294 -0.223580 -0.059259  \n",
        "25%   -0.031373  0.000980 -0.107588  0.045777  \n",
        "50%   -0.027451 -0.013725 -0.136601 -0.074180  \n",
        "75%   -0.040196  0.003922 -0.294951 -0.002076  \n",
        "max   -0.086275  0.003922 -0.183079  1.875380  "
       ]
      }
     ],
     "prompt_number": 104
    },
    {
     "cell_type": "code",
     "collapsed": false,
     "input": [
      "hol_norm = mia.analysis.normalize_data_frame(hologic)\n",
      "hol_norm.columns = hologic.columns\n",
      "hol_norm = hol_norm[selected_columns]\n",
      "hol_norm['BIRADS'] = hologic_meta.BIRADS\n",
      "pd.tools.plotting.radviz(hol_norm, 'BIRADS')"
     ],
     "language": "python",
     "metadata": {},
     "outputs": [
      {
       "metadata": {},
       "output_type": "pyout",
       "prompt_number": 93,
       "text": [
        "<matplotlib.axes._subplots.AxesSubplot at 0x12e23edd0>"
       ]
      }
     ],
     "prompt_number": 93
    },
    {
     "cell_type": "markdown",
     "metadata": {},
     "source": [
      "#With Phantoms"
     ]
    },
    {
     "cell_type": "code",
     "collapsed": false,
     "input": [
      "phantoms = pd.DataFrame.from_csv('../2015-03-28-phantom-intensity.csv')\n",
      "phantoms.head()"
     ],
     "language": "python",
     "metadata": {},
     "outputs": [
      {
       "html": [
        "<div style=\"max-height:1000px;max-width:1500px;overflow:auto;\">\n",
        "<table border=\"1\" class=\"dataframe\">\n",
        "  <thead>\n",
        "    <tr style=\"text-align: right;\">\n",
        "      <th></th>\n",
        "      <th>count</th>\n",
        "      <th>mean</th>\n",
        "      <th>std</th>\n",
        "      <th>min</th>\n",
        "      <th>25%</th>\n",
        "      <th>50%</th>\n",
        "      <th>75%</th>\n",
        "      <th>max</th>\n",
        "      <th>skew</th>\n",
        "      <th>kurtosis</th>\n",
        "    </tr>\n",
        "  </thead>\n",
        "  <tbody>\n",
        "    <tr>\n",
        "      <th>test_Mix_DPerc0_c_0.dcm</th>\n",
        "      <td> 421792</td>\n",
        "      <td> 0.976549</td>\n",
        "      <td> 0.014647</td>\n",
        "      <td> 0.867536</td>\n",
        "      <td> 0.977173</td>\n",
        "      <td> 0.981674</td>\n",
        "      <td> 0.984085</td>\n",
        "      <td> 0.996689</td>\n",
        "      <td>-2.630465</td>\n",
        "      <td>  7.921945</td>\n",
        "    </tr>\n",
        "    <tr>\n",
        "      <th>test_Mix_DPerc0_c_1.dcm</th>\n",
        "      <td> 421792</td>\n",
        "      <td> 0.976739</td>\n",
        "      <td> 0.015084</td>\n",
        "      <td> 0.859236</td>\n",
        "      <td> 0.977493</td>\n",
        "      <td> 0.981964</td>\n",
        "      <td> 0.984314</td>\n",
        "      <td> 0.996689</td>\n",
        "      <td>-2.819386</td>\n",
        "      <td>  9.471373</td>\n",
        "    </tr>\n",
        "    <tr>\n",
        "      <th>test_Mix_DPerc0_c_10.dcm</th>\n",
        "      <td> 421516</td>\n",
        "      <td> 0.974648</td>\n",
        "      <td> 0.024636</td>\n",
        "      <td> 0.485496</td>\n",
        "      <td> 0.977661</td>\n",
        "      <td> 0.981994</td>\n",
        "      <td> 0.984298</td>\n",
        "      <td> 0.996704</td>\n",
        "      <td>-5.256216</td>\n",
        "      <td> 41.179821</td>\n",
        "    </tr>\n",
        "    <tr>\n",
        "      <th>test_Mix_DPerc0_c_11.dcm</th>\n",
        "      <td> 421516</td>\n",
        "      <td> 0.974302</td>\n",
        "      <td> 0.028131</td>\n",
        "      <td> 0.104173</td>\n",
        "      <td> 0.977813</td>\n",
        "      <td> 0.982269</td>\n",
        "      <td> 0.984588</td>\n",
        "      <td> 0.996658</td>\n",
        "      <td>-6.731141</td>\n",
        "      <td> 78.174573</td>\n",
        "    </tr>\n",
        "    <tr>\n",
        "      <th>test_Mix_DPerc0_c_12.dcm</th>\n",
        "      <td> 421312</td>\n",
        "      <td> 0.974203</td>\n",
        "      <td> 0.027126</td>\n",
        "      <td> 0.237430</td>\n",
        "      <td> 0.977508</td>\n",
        "      <td> 0.982040</td>\n",
        "      <td> 0.984375</td>\n",
        "      <td> 0.996658</td>\n",
        "      <td>-6.138902</td>\n",
        "      <td> 60.294812</td>\n",
        "    </tr>\n",
        "  </tbody>\n",
        "</table>\n",
        "</div>"
       ],
       "metadata": {},
       "output_type": "pyout",
       "prompt_number": 112,
       "text": [
        "                           count      mean       std       min       25%  \\\n",
        "test_Mix_DPerc0_c_0.dcm   421792  0.976549  0.014647  0.867536  0.977173   \n",
        "test_Mix_DPerc0_c_1.dcm   421792  0.976739  0.015084  0.859236  0.977493   \n",
        "test_Mix_DPerc0_c_10.dcm  421516  0.974648  0.024636  0.485496  0.977661   \n",
        "test_Mix_DPerc0_c_11.dcm  421516  0.974302  0.028131  0.104173  0.977813   \n",
        "test_Mix_DPerc0_c_12.dcm  421312  0.974203  0.027126  0.237430  0.977508   \n",
        "\n",
        "                               50%       75%       max      skew   kurtosis  \n",
        "test_Mix_DPerc0_c_0.dcm   0.981674  0.984085  0.996689 -2.630465   7.921945  \n",
        "test_Mix_DPerc0_c_1.dcm   0.981964  0.984314  0.996689 -2.819386   9.471373  \n",
        "test_Mix_DPerc0_c_10.dcm  0.981994  0.984298  0.996704 -5.256216  41.179821  \n",
        "test_Mix_DPerc0_c_11.dcm  0.982269  0.984588  0.996658 -6.731141  78.174573  \n",
        "test_Mix_DPerc0_c_12.dcm  0.982040  0.984375  0.996658 -6.138902  60.294812  "
       ]
      }
     ],
     "prompt_number": 112
    },
    {
     "cell_type": "code",
     "collapsed": false,
     "input": [
      "phantom_meta = mia.analysis.create_synthetic_meta_data(phantoms, '/Volumes/Seagate/2015-03-26/synthetic_meta_data_cleaned.csv')\n",
      "#replace BIRADS inspecific BIRADS classes\n",
      "phantom_meta.BIRADS.replace('3 or 4', 4, inplace=True)\n",
      "phantom_meta.BIRADS.replace(re.compile(r'2 \\([a-z]+\\)'), 2, inplace=True)\n",
      "phantom_meta.BIRADS = phantom_meta.BIRADS.astype(float)\n",
      "phantom_meta.head()"
     ],
     "language": "python",
     "metadata": {},
     "outputs": [
      {
       "html": [
        "<div style=\"max-height:1000px;max-width:1500px;overflow:auto;\">\n",
        "<table border=\"1\" class=\"dataframe\">\n",
        "  <thead>\n",
        "    <tr style=\"text-align: right;\">\n",
        "      <th></th>\n",
        "      <th>Vol</th>\n",
        "      <th>CmprTh</th>\n",
        "      <th>SkTh</th>\n",
        "      <th>LigThCrs</th>\n",
        "      <th>LigThFn</th>\n",
        "      <th>#cmprts</th>\n",
        "      <th>#cmprts.1</th>\n",
        "      <th>Dperc</th>\n",
        "      <th>VBD</th>\n",
        "      <th>VBD.1</th>\n",
        "      <th>BIRADS</th>\n",
        "      <th>min_speed</th>\n",
        "      <th>max_speed</th>\n",
        "      <th>min_ratio</th>\n",
        "      <th>max_ratio</th>\n",
        "      <th>phantom_name</th>\n",
        "    </tr>\n",
        "  </thead>\n",
        "  <tbody>\n",
        "    <tr>\n",
        "      <th>test_Mix_DPerc0_c_0.dcm</th>\n",
        "      <td> 436</td>\n",
        "      <td> 5</td>\n",
        "      <td> 0.5</td>\n",
        "      <td> 400</td>\n",
        "      <td> 200</td>\n",
        "      <td> 333</td>\n",
        "      <td> 1000</td>\n",
        "      <td> 0</td>\n",
        "      <td> 24</td>\n",
        "      <td> 21</td>\n",
        "      <td> 1</td>\n",
        "      <td> 0.5</td>\n",
        "      <td> 2</td>\n",
        "      <td> 0.5</td>\n",
        "      <td> 2</td>\n",
        "      <td> test_Mix_DPerc0_c</td>\n",
        "    </tr>\n",
        "    <tr>\n",
        "      <th>test_Mix_DPerc0_c_1.dcm</th>\n",
        "      <td> 436</td>\n",
        "      <td> 5</td>\n",
        "      <td> 0.5</td>\n",
        "      <td> 400</td>\n",
        "      <td> 200</td>\n",
        "      <td> 333</td>\n",
        "      <td> 1000</td>\n",
        "      <td> 0</td>\n",
        "      <td> 24</td>\n",
        "      <td> 21</td>\n",
        "      <td> 1</td>\n",
        "      <td> 0.5</td>\n",
        "      <td> 2</td>\n",
        "      <td> 0.5</td>\n",
        "      <td> 2</td>\n",
        "      <td> test_Mix_DPerc0_c</td>\n",
        "    </tr>\n",
        "    <tr>\n",
        "      <th>test_Mix_DPerc0_c_10.dcm</th>\n",
        "      <td> 436</td>\n",
        "      <td> 5</td>\n",
        "      <td> 0.5</td>\n",
        "      <td> 400</td>\n",
        "      <td> 200</td>\n",
        "      <td> 333</td>\n",
        "      <td> 1000</td>\n",
        "      <td> 0</td>\n",
        "      <td> 24</td>\n",
        "      <td> 21</td>\n",
        "      <td> 1</td>\n",
        "      <td> 0.5</td>\n",
        "      <td> 2</td>\n",
        "      <td> 0.5</td>\n",
        "      <td> 2</td>\n",
        "      <td> test_Mix_DPerc0_c</td>\n",
        "    </tr>\n",
        "    <tr>\n",
        "      <th>test_Mix_DPerc0_c_11.dcm</th>\n",
        "      <td> 436</td>\n",
        "      <td> 5</td>\n",
        "      <td> 0.5</td>\n",
        "      <td> 400</td>\n",
        "      <td> 200</td>\n",
        "      <td> 333</td>\n",
        "      <td> 1000</td>\n",
        "      <td> 0</td>\n",
        "      <td> 24</td>\n",
        "      <td> 21</td>\n",
        "      <td> 1</td>\n",
        "      <td> 0.5</td>\n",
        "      <td> 2</td>\n",
        "      <td> 0.5</td>\n",
        "      <td> 2</td>\n",
        "      <td> test_Mix_DPerc0_c</td>\n",
        "    </tr>\n",
        "    <tr>\n",
        "      <th>test_Mix_DPerc0_c_12.dcm</th>\n",
        "      <td> 436</td>\n",
        "      <td> 5</td>\n",
        "      <td> 0.5</td>\n",
        "      <td> 400</td>\n",
        "      <td> 200</td>\n",
        "      <td> 333</td>\n",
        "      <td> 1000</td>\n",
        "      <td> 0</td>\n",
        "      <td> 24</td>\n",
        "      <td> 21</td>\n",
        "      <td> 1</td>\n",
        "      <td> 0.5</td>\n",
        "      <td> 2</td>\n",
        "      <td> 0.5</td>\n",
        "      <td> 2</td>\n",
        "      <td> test_Mix_DPerc0_c</td>\n",
        "    </tr>\n",
        "  </tbody>\n",
        "</table>\n",
        "</div>"
       ],
       "metadata": {},
       "output_type": "pyout",
       "prompt_number": 113,
       "text": [
        "                          Vol  CmprTh  SkTh  LigThCrs  LigThFn  #cmprts  \\\n",
        "test_Mix_DPerc0_c_0.dcm   436       5   0.5       400      200      333   \n",
        "test_Mix_DPerc0_c_1.dcm   436       5   0.5       400      200      333   \n",
        "test_Mix_DPerc0_c_10.dcm  436       5   0.5       400      200      333   \n",
        "test_Mix_DPerc0_c_11.dcm  436       5   0.5       400      200      333   \n",
        "test_Mix_DPerc0_c_12.dcm  436       5   0.5       400      200      333   \n",
        "\n",
        "                          #cmprts.1  Dperc  VBD  VBD.1  BIRADS  min_speed  \\\n",
        "test_Mix_DPerc0_c_0.dcm        1000      0   24     21       1        0.5   \n",
        "test_Mix_DPerc0_c_1.dcm        1000      0   24     21       1        0.5   \n",
        "test_Mix_DPerc0_c_10.dcm       1000      0   24     21       1        0.5   \n",
        "test_Mix_DPerc0_c_11.dcm       1000      0   24     21       1        0.5   \n",
        "test_Mix_DPerc0_c_12.dcm       1000      0   24     21       1        0.5   \n",
        "\n",
        "                          max_speed  min_ratio  max_ratio       phantom_name  \n",
        "test_Mix_DPerc0_c_0.dcm           2        0.5          2  test_Mix_DPerc0_c  \n",
        "test_Mix_DPerc0_c_1.dcm           2        0.5          2  test_Mix_DPerc0_c  \n",
        "test_Mix_DPerc0_c_10.dcm          2        0.5          2  test_Mix_DPerc0_c  \n",
        "test_Mix_DPerc0_c_11.dcm          2        0.5          2  test_Mix_DPerc0_c  \n",
        "test_Mix_DPerc0_c_12.dcm          2        0.5          2  test_Mix_DPerc0_c  "
       ]
      }
     ],
     "prompt_number": 113
    },
    {
     "cell_type": "code",
     "collapsed": false,
     "input": [
      "import random\n",
      "group = phantoms.groupby(phantom_meta.phantom_name)\n",
      "\n",
      "def select_random(x):\n",
      "    return x.ix[random.sample(x.index, 1)]\n",
      "random_synthetic_features = group.apply(select_random)\n",
      "\n",
      "random_synthetic_features.reset_index(drop=True, level=0, inplace=True)\n",
      "random_synthetic_features"
     ],
     "language": "python",
     "metadata": {},
     "outputs": [
      {
       "html": [
        "<div style=\"max-height:1000px;max-width:1500px;overflow:auto;\">\n",
        "<table border=\"1\" class=\"dataframe\">\n",
        "  <thead>\n",
        "    <tr style=\"text-align: right;\">\n",
        "      <th></th>\n",
        "      <th>count</th>\n",
        "      <th>mean</th>\n",
        "      <th>std</th>\n",
        "      <th>min</th>\n",
        "      <th>25%</th>\n",
        "      <th>50%</th>\n",
        "      <th>75%</th>\n",
        "      <th>max</th>\n",
        "      <th>skew</th>\n",
        "      <th>kurtosis</th>\n",
        "    </tr>\n",
        "  </thead>\n",
        "  <tbody>\n",
        "    <tr>\n",
        "      <th>test_Mix_DPerc0_c_2.dcm</th>\n",
        "      <td> 421155</td>\n",
        "      <td> 0.976388</td>\n",
        "      <td> 0.013857</td>\n",
        "      <td> 0.879683</td>\n",
        "      <td> 0.976928</td>\n",
        "      <td> 0.981292</td>\n",
        "      <td> 0.983566</td>\n",
        "      <td> 0.996780</td>\n",
        "      <td>-2.463729</td>\n",
        "      <td>  6.445373</td>\n",
        "    </tr>\n",
        "    <tr>\n",
        "      <th>test_Mix_DPerc10_c_7.dcm</th>\n",
        "      <td> 421452</td>\n",
        "      <td> 0.977100</td>\n",
        "      <td> 0.013874</td>\n",
        "      <td> 0.872251</td>\n",
        "      <td> 0.976532</td>\n",
        "      <td> 0.980652</td>\n",
        "      <td> 0.984558</td>\n",
        "      <td> 0.997543</td>\n",
        "      <td>-2.300235</td>\n",
        "      <td>  6.268264</td>\n",
        "    </tr>\n",
        "    <tr>\n",
        "      <th>test_Mix_DPerc20_c_2.dcm</th>\n",
        "      <td> 421452</td>\n",
        "      <td> 0.979687</td>\n",
        "      <td> 0.013570</td>\n",
        "      <td> 0.863142</td>\n",
        "      <td> 0.977569</td>\n",
        "      <td> 0.982406</td>\n",
        "      <td> 0.987488</td>\n",
        "      <td> 0.997452</td>\n",
        "      <td>-2.916876</td>\n",
        "      <td> 12.114483</td>\n",
        "    </tr>\n",
        "    <tr>\n",
        "      <th>test_Mix_DPerc35_c_4.dcm</th>\n",
        "      <td> 421689</td>\n",
        "      <td> 0.980394</td>\n",
        "      <td> 0.015766</td>\n",
        "      <td> 0.848737</td>\n",
        "      <td> 0.977966</td>\n",
        "      <td> 0.984146</td>\n",
        "      <td> 0.989502</td>\n",
        "      <td> 0.997757</td>\n",
        "      <td>-2.833318</td>\n",
        "      <td> 10.690941</td>\n",
        "    </tr>\n",
        "    <tr>\n",
        "      <th>test_Mix_DPerc5_c_10.dcm</th>\n",
        "      <td> 421399</td>\n",
        "      <td> 0.976306</td>\n",
        "      <td> 0.015404</td>\n",
        "      <td> 0.820600</td>\n",
        "      <td> 0.976867</td>\n",
        "      <td> 0.981079</td>\n",
        "      <td> 0.983978</td>\n",
        "      <td> 0.997238</td>\n",
        "      <td>-3.149511</td>\n",
        "      <td> 13.230049</td>\n",
        "    </tr>\n",
        "    <tr>\n",
        "      <th>test_Mix_DPerc75_c_11.dcm</th>\n",
        "      <td> 421520</td>\n",
        "      <td> 0.983768</td>\n",
        "      <td> 0.015330</td>\n",
        "      <td> 0.838193</td>\n",
        "      <td> 0.979675</td>\n",
        "      <td> 0.987243</td>\n",
        "      <td> 0.993637</td>\n",
        "      <td> 0.997787</td>\n",
        "      <td>-3.298324</td>\n",
        "      <td> 16.340042</td>\n",
        "    </tr>\n",
        "  </tbody>\n",
        "</table>\n",
        "</div>"
       ],
       "metadata": {},
       "output_type": "pyout",
       "prompt_number": 114,
       "text": [
        "                            count      mean       std       min       25%  \\\n",
        "test_Mix_DPerc0_c_2.dcm    421155  0.976388  0.013857  0.879683  0.976928   \n",
        "test_Mix_DPerc10_c_7.dcm   421452  0.977100  0.013874  0.872251  0.976532   \n",
        "test_Mix_DPerc20_c_2.dcm   421452  0.979687  0.013570  0.863142  0.977569   \n",
        "test_Mix_DPerc35_c_4.dcm   421689  0.980394  0.015766  0.848737  0.977966   \n",
        "test_Mix_DPerc5_c_10.dcm   421399  0.976306  0.015404  0.820600  0.976867   \n",
        "test_Mix_DPerc75_c_11.dcm  421520  0.983768  0.015330  0.838193  0.979675   \n",
        "\n",
        "                                50%       75%       max      skew   kurtosis  \n",
        "test_Mix_DPerc0_c_2.dcm    0.981292  0.983566  0.996780 -2.463729   6.445373  \n",
        "test_Mix_DPerc10_c_7.dcm   0.980652  0.984558  0.997543 -2.300235   6.268264  \n",
        "test_Mix_DPerc20_c_2.dcm   0.982406  0.987488  0.997452 -2.916876  12.114483  \n",
        "test_Mix_DPerc35_c_4.dcm   0.984146  0.989502  0.997757 -2.833318  10.690941  \n",
        "test_Mix_DPerc5_c_10.dcm   0.981079  0.983978  0.997238 -3.149511  13.230049  \n",
        "test_Mix_DPerc75_c_11.dcm  0.987243  0.993637  0.997787 -3.298324  16.340042  "
       ]
      }
     ],
     "prompt_number": 114
    },
    {
     "cell_type": "code",
     "collapsed": false,
     "input": [
      "features = pd.concat([hologic_cluster, random_synthetic_features])\n",
      "\n",
      "class_labels = pd.concat([hologic_meta.BIRADS, phantom_meta.loc[random_synthetic_features.index].BIRADS])\n",
      "class_labels.shape"
     ],
     "language": "python",
     "metadata": {},
     "outputs": [
      {
       "metadata": {},
       "output_type": "pyout",
       "prompt_number": 115,
       "text": [
        "(366,)"
       ]
      }
     ],
     "prompt_number": 115
    },
    {
     "cell_type": "code",
     "collapsed": false,
     "input": [
      "joint_mapping = mia.analysis.tSNE(features, verbose=2, learning_rate=300)"
     ],
     "language": "python",
     "metadata": {},
     "outputs": [
      {
       "output_type": "stream",
       "stream": "stdout",
       "text": [
        "[t-SNE] Computing pairwise distances...\n",
        "[t-SNE] Computed conditional probabilities for sample 366 / 366"
       ]
      },
      {
       "output_type": "stream",
       "stream": "stdout",
       "text": [
        "\n",
        "[t-SNE] Mean sigma: 0.721936\n",
        "[t-SNE] Iteration 10: error = 16.1792125, gradient norm = 0.1742892"
       ]
      },
      {
       "output_type": "stream",
       "stream": "stdout",
       "text": [
        "\n",
        "[t-SNE] Iteration 20: error = 13.4244793, gradient norm = 0.1609672"
       ]
      },
      {
       "output_type": "stream",
       "stream": "stdout",
       "text": [
        "\n",
        "[t-SNE] Iteration 30: error = 13.6572978, gradient norm = 0.1455846"
       ]
      },
      {
       "output_type": "stream",
       "stream": "stdout",
       "text": [
        "\n",
        "[t-SNE] Iteration 40: error = 13.8237459, gradient norm = 0.1412720"
       ]
      },
      {
       "output_type": "stream",
       "stream": "stdout",
       "text": [
        "\n",
        "[t-SNE] Iteration 50: error = 13.9072265, gradient norm = 0.1354474"
       ]
      },
      {
       "output_type": "stream",
       "stream": "stdout",
       "text": [
        "\n",
        "[t-SNE] Iteration 60: error = 13.3592098, gradient norm = 0.1587049"
       ]
      },
      {
       "output_type": "stream",
       "stream": "stdout",
       "text": [
        "\n",
        "[t-SNE] Iteration 70: error = 13.5264709, gradient norm = 0.1453783"
       ]
      },
      {
       "output_type": "stream",
       "stream": "stdout",
       "text": [
        "\n",
        "[t-SNE] Iteration 80: error = 13.4277231, gradient norm = 0.1391117"
       ]
      },
      {
       "output_type": "stream",
       "stream": "stdout",
       "text": [
        "\n",
        "[t-SNE] Iteration 83: did not make any progress during the last 30 episodes. Finished.\n",
        "[t-SNE] Error after 83 iterations with early exaggeration: 13.335394\n",
        "[t-SNE] Iteration 90: error = 0.9379367, gradient norm = 0.0232923"
       ]
      },
      {
       "output_type": "stream",
       "stream": "stdout",
       "text": [
        "\n",
        "[t-SNE] Iteration 100: error = 0.6464655, gradient norm = 0.0093879"
       ]
      },
      {
       "output_type": "stream",
       "stream": "stdout",
       "text": [
        "\n",
        "[t-SNE] Iteration 110: error = 0.6006694, gradient norm = 0.0028309"
       ]
      },
      {
       "output_type": "stream",
       "stream": "stdout",
       "text": [
        "\n",
        "[t-SNE] Iteration 120: error = 0.5909515, gradient norm = 0.0011089"
       ]
      },
      {
       "output_type": "stream",
       "stream": "stdout",
       "text": [
        "\n",
        "[t-SNE] Iteration 130: error = 0.5869502, gradient norm = 0.0007166"
       ]
      },
      {
       "output_type": "stream",
       "stream": "stdout",
       "text": [
        "\n",
        "[t-SNE] Iteration 140: error = 0.5849960, gradient norm = 0.0006285"
       ]
      },
      {
       "output_type": "stream",
       "stream": "stdout",
       "text": [
        "\n",
        "[t-SNE] Iteration 150: error = 0.5839584, gradient norm = 0.0006030"
       ]
      },
      {
       "output_type": "stream",
       "stream": "stdout",
       "text": [
        "\n",
        "[t-SNE] Iteration 160: error = 0.5833810, gradient norm = 0.0005895"
       ]
      },
      {
       "output_type": "stream",
       "stream": "stdout",
       "text": [
        "\n",
        "[t-SNE] Iteration 170: error = 0.5830498, gradient norm = 0.0005823"
       ]
      },
      {
       "output_type": "stream",
       "stream": "stdout",
       "text": [
        "\n",
        "[t-SNE] Iteration 180: error = 0.5828564, gradient norm = 0.0005780"
       ]
      },
      {
       "output_type": "stream",
       "stream": "stdout",
       "text": [
        "\n",
        "[t-SNE] Iteration 190: error = 0.5827424, gradient norm = 0.0005754"
       ]
      },
      {
       "output_type": "stream",
       "stream": "stdout",
       "text": [
        "\n",
        "[t-SNE] Iteration 200: error = 0.5826746, gradient norm = 0.0005739"
       ]
      },
      {
       "output_type": "stream",
       "stream": "stdout",
       "text": [
        "\n",
        "[t-SNE] Iteration 210: error = 0.5826343, gradient norm = 0.0005730"
       ]
      },
      {
       "output_type": "stream",
       "stream": "stdout",
       "text": [
        "\n",
        "[t-SNE] Iteration 220: error = 0.5826102, gradient norm = 0.0005725"
       ]
      },
      {
       "output_type": "stream",
       "stream": "stdout",
       "text": [
        "\n",
        "[t-SNE] Iteration 230: error = 0.5825958, gradient norm = 0.0005722"
       ]
      },
      {
       "output_type": "stream",
       "stream": "stdout",
       "text": [
        "\n",
        "[t-SNE] Iteration 240: error = 0.5825872, gradient norm = 0.0005720"
       ]
      },
      {
       "output_type": "stream",
       "stream": "stdout",
       "text": [
        "\n",
        "[t-SNE] Iteration 250: error = 0.5825821, gradient norm = 0.0005719"
       ]
      },
      {
       "output_type": "stream",
       "stream": "stdout",
       "text": [
        "\n",
        "[t-SNE] Iteration 260: error = 0.5825790, gradient norm = 0.0005718"
       ]
      },
      {
       "output_type": "stream",
       "stream": "stdout",
       "text": [
        "\n",
        "[t-SNE] Iteration 270: error = 0.5825771, gradient norm = 0.0005718"
       ]
      },
      {
       "output_type": "stream",
       "stream": "stdout",
       "text": [
        "\n",
        "[t-SNE] Iteration 278: error difference 0.000000. Finished."
       ]
      },
      {
       "output_type": "stream",
       "stream": "stdout",
       "text": [
        "\n",
        "[t-SNE] Error after 278 iterations: 0.582576\n"
       ]
      }
     ],
     "prompt_number": 122
    },
    {
     "cell_type": "code",
     "collapsed": false,
     "input": [
      "%matplotlib qt\n",
      "joint_mapping['BIRADS'] = class_labels\n",
      "hol_map = joint_mapping[:-6]\n",
      "hol_map.shape\n",
      "\n",
      "syn_map = joint_mapping[-6:]\n",
      "syn_map.head()\n",
      "\n",
      "ax = mia.plotting.plot_scatter_2d(hol_map, [0,1], 'BIRADS')\n",
      "ax = mia.plotting.plot_scatter_2d(syn_map, [0,1], 'BIRADS', ax=ax, marker='^', s=50)"
     ],
     "language": "python",
     "metadata": {},
     "outputs": [],
     "prompt_number": 123
    },
    {
     "cell_type": "code",
     "collapsed": false,
     "input": [
      "hologic.describe()"
     ],
     "language": "python",
     "metadata": {},
     "outputs": [
      {
       "html": [
        "<div style=\"max-height:1000px;max-width:1500px;overflow:auto;\">\n",
        "<table border=\"1\" class=\"dataframe\">\n",
        "  <thead>\n",
        "    <tr style=\"text-align: right;\">\n",
        "      <th></th>\n",
        "      <th>count</th>\n",
        "      <th>mean</th>\n",
        "      <th>std</th>\n",
        "      <th>min</th>\n",
        "      <th>25%</th>\n",
        "      <th>50%</th>\n",
        "      <th>75%</th>\n",
        "      <th>max</th>\n",
        "      <th>skew</th>\n",
        "      <th>kurtosis</th>\n",
        "    </tr>\n",
        "  </thead>\n",
        "  <tbody>\n",
        "    <tr>\n",
        "      <th>count</th>\n",
        "      <td>     360.000000</td>\n",
        "      <td> 360.000000</td>\n",
        "      <td> 360.000000</td>\n",
        "      <td> 360.000000</td>\n",
        "      <td> 360.000000</td>\n",
        "      <td> 360.000000</td>\n",
        "      <td> 360.000000</td>\n",
        "      <td> 360.000000</td>\n",
        "      <td> 360.000000</td>\n",
        "      <td> 360.000000</td>\n",
        "    </tr>\n",
        "    <tr>\n",
        "      <th>mean</th>\n",
        "      <td> 2817220.533333</td>\n",
        "      <td>   0.300174</td>\n",
        "      <td>   0.140723</td>\n",
        "      <td>   0.030414</td>\n",
        "      <td>   0.183497</td>\n",
        "      <td>   0.286013</td>\n",
        "      <td>   0.398660</td>\n",
        "      <td>   0.901329</td>\n",
        "      <td>   0.474393</td>\n",
        "      <td>  -0.206034</td>\n",
        "    </tr>\n",
        "    <tr>\n",
        "      <th>std</th>\n",
        "      <td> 1518976.331463</td>\n",
        "      <td>   0.027252</td>\n",
        "      <td>   0.029524</td>\n",
        "      <td>   0.017896</td>\n",
        "      <td>   0.031410</td>\n",
        "      <td>   0.038208</td>\n",
        "      <td>   0.048177</td>\n",
        "      <td>   0.072678</td>\n",
        "      <td>   0.374146</td>\n",
        "      <td>   0.816320</td>\n",
        "    </tr>\n",
        "    <tr>\n",
        "      <th>min</th>\n",
        "      <td>  617600.000000</td>\n",
        "      <td>   0.228634</td>\n",
        "      <td>   0.078955</td>\n",
        "      <td>   0.000000</td>\n",
        "      <td>   0.094118</td>\n",
        "      <td>   0.184314</td>\n",
        "      <td>   0.290196</td>\n",
        "      <td>   0.662745</td>\n",
        "      <td>  -0.506836</td>\n",
        "      <td>  -1.377802</td>\n",
        "    </tr>\n",
        "    <tr>\n",
        "      <th>25%</th>\n",
        "      <td> 1675040.000000</td>\n",
        "      <td>   0.283351</td>\n",
        "      <td>   0.119196</td>\n",
        "      <td>   0.019608</td>\n",
        "      <td>   0.160784</td>\n",
        "      <td>   0.262745</td>\n",
        "      <td>   0.364706</td>\n",
        "      <td>   0.850980</td>\n",
        "      <td>   0.189885</td>\n",
        "      <td>  -0.797907</td>\n",
        "    </tr>\n",
        "    <tr>\n",
        "      <th>50%</th>\n",
        "      <td> 2304328.000000</td>\n",
        "      <td>   0.296968</td>\n",
        "      <td>   0.136649</td>\n",
        "      <td>   0.027451</td>\n",
        "      <td>   0.184314</td>\n",
        "      <td>   0.286275</td>\n",
        "      <td>   0.396078</td>\n",
        "      <td>   0.909804</td>\n",
        "      <td>   0.449050</td>\n",
        "      <td>  -0.409374</td>\n",
        "    </tr>\n",
        "    <tr>\n",
        "      <th>75%</th>\n",
        "      <td> 3635468.000000</td>\n",
        "      <td>   0.314018</td>\n",
        "      <td>   0.161092</td>\n",
        "      <td>   0.039216</td>\n",
        "      <td>   0.203922</td>\n",
        "      <td>   0.305882</td>\n",
        "      <td>   0.427451</td>\n",
        "      <td>   0.956863</td>\n",
        "      <td>   0.765841</td>\n",
        "      <td>   0.140670</td>\n",
        "    </tr>\n",
        "    <tr>\n",
        "      <th>max</th>\n",
        "      <td> 7497904.000000</td>\n",
        "      <td>   0.405543</td>\n",
        "      <td>   0.228753</td>\n",
        "      <td>   0.117647</td>\n",
        "      <td>   0.313725</td>\n",
        "      <td>   0.411765</td>\n",
        "      <td>   0.576471</td>\n",
        "      <td>   1.000000</td>\n",
        "      <td>   1.696356</td>\n",
        "      <td>   3.227792</td>\n",
        "    </tr>\n",
        "  </tbody>\n",
        "</table>\n",
        "</div>"
       ],
       "metadata": {},
       "output_type": "pyout",
       "prompt_number": 129,
       "text": [
        "                count        mean         std         min         25%  \\\n",
        "count      360.000000  360.000000  360.000000  360.000000  360.000000   \n",
        "mean   2817220.533333    0.300174    0.140723    0.030414    0.183497   \n",
        "std    1518976.331463    0.027252    0.029524    0.017896    0.031410   \n",
        "min     617600.000000    0.228634    0.078955    0.000000    0.094118   \n",
        "25%    1675040.000000    0.283351    0.119196    0.019608    0.160784   \n",
        "50%    2304328.000000    0.296968    0.136649    0.027451    0.184314   \n",
        "75%    3635468.000000    0.314018    0.161092    0.039216    0.203922   \n",
        "max    7497904.000000    0.405543    0.228753    0.117647    0.313725   \n",
        "\n",
        "              50%         75%         max        skew    kurtosis  \n",
        "count  360.000000  360.000000  360.000000  360.000000  360.000000  \n",
        "mean     0.286013    0.398660    0.901329    0.474393   -0.206034  \n",
        "std      0.038208    0.048177    0.072678    0.374146    0.816320  \n",
        "min      0.184314    0.290196    0.662745   -0.506836   -1.377802  \n",
        "25%      0.262745    0.364706    0.850980    0.189885   -0.797907  \n",
        "50%      0.286275    0.396078    0.909804    0.449050   -0.409374  \n",
        "75%      0.305882    0.427451    0.956863    0.765841    0.140670  \n",
        "max      0.411765    0.576471    1.000000    1.696356    3.227792  "
       ]
      }
     ],
     "prompt_number": 129
    }
   ],
   "metadata": {}
  }
 ]
}