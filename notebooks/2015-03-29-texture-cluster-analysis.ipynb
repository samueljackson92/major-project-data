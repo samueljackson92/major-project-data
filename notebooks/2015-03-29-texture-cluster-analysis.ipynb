{
 "metadata": {
  "name": "",
  "signature": "sha256:e3c6676f0828695fcd5b2e80aca96a32a2c33b9a02440130cfa4424ebafb73eb"
 },
 "nbformat": 3,
 "nbformat_minor": 0,
 "worksheets": [
  {
   "cells": [
    {
     "cell_type": "code",
     "collapsed": false,
     "input": [
      "%matplotlib qt\n",
      "import pandas as pd\n",
      "import numpy as np\n",
      "import re\n",
      "import mia"
     ],
     "language": "python",
     "metadata": {},
     "outputs": [],
     "prompt_number": 113
    },
    {
     "cell_type": "code",
     "collapsed": false,
     "input": [
      "hologic_cluster = pd.DataFrame.from_csv('../2015-03-28-real-texture-cluster.csv')\n",
      "hologic_cluster.head()"
     ],
     "language": "python",
     "metadata": {},
     "outputs": [
      {
       "html": [
        "<div style=\"max-height:1000px;max-width:1500px;overflow:auto;\">\n",
        "<table border=\"1\" class=\"dataframe\">\n",
        "  <thead>\n",
        "    <tr style=\"text-align: right;\">\n",
        "      <th></th>\n",
        "      <th>contrast_cluster_1</th>\n",
        "      <th>dissimilarity_cluster_1</th>\n",
        "      <th>homogeneity_cluster_1</th>\n",
        "      <th>energy_cluster_1</th>\n",
        "      <th>contrast_cluster_2</th>\n",
        "      <th>dissimilarity_cluster_2</th>\n",
        "      <th>homogeneity_cluster_2</th>\n",
        "      <th>energy_cluster_2</th>\n",
        "      <th>contrast_cluster_3</th>\n",
        "      <th>dissimilarity_cluster_3</th>\n",
        "      <th>homogeneity_cluster_3</th>\n",
        "      <th>energy_cluster_3</th>\n",
        "      <th>contrast_cluster_4</th>\n",
        "      <th>dissimilarity_cluster_4</th>\n",
        "      <th>homogeneity_cluster_4</th>\n",
        "      <th>energy_cluster_4</th>\n",
        "    </tr>\n",
        "  </thead>\n",
        "  <tbody>\n",
        "    <tr>\n",
        "      <th>p214-010-60001-cl.png</th>\n",
        "      <td> 2.931535e+08</td>\n",
        "      <td> 7003850.25</td>\n",
        "      <td> 8130257.674942</td>\n",
        "      <td> 51371.507991</td>\n",
        "      <td> 8.260166e+08</td>\n",
        "      <td> 12106920.25</td>\n",
        "      <td> 8178692.790514</td>\n",
        "      <td> 51247.278008</td>\n",
        "      <td> 1.189669e+09</td>\n",
        "      <td> 10889315.75</td>\n",
        "      <td> 8309986.114009</td>\n",
        "      <td> 46728.453963</td>\n",
        "      <td> 7.767933e+08</td>\n",
        "      <td> 5886436.25</td>\n",
        "      <td> 8380532.207002</td>\n",
        "      <td> 43973.709887</td>\n",
        "    </tr>\n",
        "    <tr>\n",
        "      <th>p214-010-60001-cr.png</th>\n",
        "      <td> 1.856295e+08</td>\n",
        "      <td> 4623518.75</td>\n",
        "      <td> 8241054.817176</td>\n",
        "      <td> 52008.002383</td>\n",
        "      <td> 6.412453e+08</td>\n",
        "      <td>  9141035.75</td>\n",
        "      <td> 8250194.492365</td>\n",
        "      <td> 57204.728899</td>\n",
        "      <td> 1.151640e+09</td>\n",
        "      <td> 10339648.50</td>\n",
        "      <td> 8311361.858274</td>\n",
        "      <td> 48833.499865</td>\n",
        "      <td> 7.751633e+08</td>\n",
        "      <td> 5625592.50</td>\n",
        "      <td> 8402698.450330</td>\n",
        "      <td> 47068.058470</td>\n",
        "    </tr>\n",
        "    <tr>\n",
        "      <th>p214-010-60001-ml.png</th>\n",
        "      <td> 2.225075e+08</td>\n",
        "      <td> 5867047.50</td>\n",
        "      <td> 8121710.629886</td>\n",
        "      <td> 53939.606377</td>\n",
        "      <td> 8.938307e+08</td>\n",
        "      <td> 12497527.25</td>\n",
        "      <td> 8178878.867447</td>\n",
        "      <td> 60888.448918</td>\n",
        "      <td> 1.785641e+09</td>\n",
        "      <td> 16247420.50</td>\n",
        "      <td> 8210113.855566</td>\n",
        "      <td> 39805.116295</td>\n",
        "      <td> 1.237097e+09</td>\n",
        "      <td> 9180578.50</td>\n",
        "      <td> 8338267.205284</td>\n",
        "      <td> 40480.385535</td>\n",
        "    </tr>\n",
        "    <tr>\n",
        "      <th>p214-010-60001-mr.png</th>\n",
        "      <td> 2.280928e+08</td>\n",
        "      <td> 5802305.25</td>\n",
        "      <td> 8143748.833719</td>\n",
        "      <td> 56363.712378</td>\n",
        "      <td> 1.047522e+09</td>\n",
        "      <td> 13875836.25</td>\n",
        "      <td> 8165493.907820</td>\n",
        "      <td> 53059.072536</td>\n",
        "      <td> 1.850879e+09</td>\n",
        "      <td> 16737395.50</td>\n",
        "      <td> 8209670.079957</td>\n",
        "      <td> 47579.096741</td>\n",
        "      <td> 1.073341e+09</td>\n",
        "      <td> 7801042.00</td>\n",
        "      <td> 8371460.064432</td>\n",
        "      <td> 57173.612063</td>\n",
        "    </tr>\n",
        "    <tr>\n",
        "      <th>p214-010-60005-cl.png</th>\n",
        "      <td> 1.563874e+08</td>\n",
        "      <td> 4584042.25</td>\n",
        "      <td> 8163100.805695</td>\n",
        "      <td> 37606.734376</td>\n",
        "      <td> 6.720121e+08</td>\n",
        "      <td>  9797939.50</td>\n",
        "      <td> 8198951.000702</td>\n",
        "      <td> 36979.949572</td>\n",
        "      <td> 1.548208e+09</td>\n",
        "      <td> 13951816.50</td>\n",
        "      <td> 8220116.309021</td>\n",
        "      <td> 32055.018330</td>\n",
        "      <td> 1.131708e+09</td>\n",
        "      <td> 8562726.25</td>\n",
        "      <td> 8306607.852877</td>\n",
        "      <td> 55253.097523</td>\n",
        "    </tr>\n",
        "  </tbody>\n",
        "</table>\n",
        "</div>"
       ],
       "metadata": {},
       "output_type": "pyout",
       "prompt_number": 104,
       "text": [
        "                       contrast_cluster_1  dissimilarity_cluster_1  \\\n",
        "p214-010-60001-cl.png        2.931535e+08               7003850.25   \n",
        "p214-010-60001-cr.png        1.856295e+08               4623518.75   \n",
        "p214-010-60001-ml.png        2.225075e+08               5867047.50   \n",
        "p214-010-60001-mr.png        2.280928e+08               5802305.25   \n",
        "p214-010-60005-cl.png        1.563874e+08               4584042.25   \n",
        "\n",
        "                       homogeneity_cluster_1  energy_cluster_1  \\\n",
        "p214-010-60001-cl.png         8130257.674942      51371.507991   \n",
        "p214-010-60001-cr.png         8241054.817176      52008.002383   \n",
        "p214-010-60001-ml.png         8121710.629886      53939.606377   \n",
        "p214-010-60001-mr.png         8143748.833719      56363.712378   \n",
        "p214-010-60005-cl.png         8163100.805695      37606.734376   \n",
        "\n",
        "                       contrast_cluster_2  dissimilarity_cluster_2  \\\n",
        "p214-010-60001-cl.png        8.260166e+08              12106920.25   \n",
        "p214-010-60001-cr.png        6.412453e+08               9141035.75   \n",
        "p214-010-60001-ml.png        8.938307e+08              12497527.25   \n",
        "p214-010-60001-mr.png        1.047522e+09              13875836.25   \n",
        "p214-010-60005-cl.png        6.720121e+08               9797939.50   \n",
        "\n",
        "                       homogeneity_cluster_2  energy_cluster_2  \\\n",
        "p214-010-60001-cl.png         8178692.790514      51247.278008   \n",
        "p214-010-60001-cr.png         8250194.492365      57204.728899   \n",
        "p214-010-60001-ml.png         8178878.867447      60888.448918   \n",
        "p214-010-60001-mr.png         8165493.907820      53059.072536   \n",
        "p214-010-60005-cl.png         8198951.000702      36979.949572   \n",
        "\n",
        "                       contrast_cluster_3  dissimilarity_cluster_3  \\\n",
        "p214-010-60001-cl.png        1.189669e+09              10889315.75   \n",
        "p214-010-60001-cr.png        1.151640e+09              10339648.50   \n",
        "p214-010-60001-ml.png        1.785641e+09              16247420.50   \n",
        "p214-010-60001-mr.png        1.850879e+09              16737395.50   \n",
        "p214-010-60005-cl.png        1.548208e+09              13951816.50   \n",
        "\n",
        "                       homogeneity_cluster_3  energy_cluster_3  \\\n",
        "p214-010-60001-cl.png         8309986.114009      46728.453963   \n",
        "p214-010-60001-cr.png         8311361.858274      48833.499865   \n",
        "p214-010-60001-ml.png         8210113.855566      39805.116295   \n",
        "p214-010-60001-mr.png         8209670.079957      47579.096741   \n",
        "p214-010-60005-cl.png         8220116.309021      32055.018330   \n",
        "\n",
        "                       contrast_cluster_4  dissimilarity_cluster_4  \\\n",
        "p214-010-60001-cl.png        7.767933e+08               5886436.25   \n",
        "p214-010-60001-cr.png        7.751633e+08               5625592.50   \n",
        "p214-010-60001-ml.png        1.237097e+09               9180578.50   \n",
        "p214-010-60001-mr.png        1.073341e+09               7801042.00   \n",
        "p214-010-60005-cl.png        1.131708e+09               8562726.25   \n",
        "\n",
        "                       homogeneity_cluster_4  energy_cluster_4  \n",
        "p214-010-60001-cl.png         8380532.207002      43973.709887  \n",
        "p214-010-60001-cr.png         8402698.450330      47068.058470  \n",
        "p214-010-60001-ml.png         8338267.205284      40480.385535  \n",
        "p214-010-60001-mr.png         8371460.064432      57173.612063  \n",
        "p214-010-60005-cl.png         8306607.852877      55253.097523  "
       ]
      }
     ],
     "prompt_number": 104
    },
    {
     "cell_type": "code",
     "collapsed": false,
     "input": [
      "hologic_meta = mia.analysis.create_hologic_meta_data(hologic_cluster, '../data/BIRADS.csv')\n",
      "hologic_meta.head()"
     ],
     "language": "python",
     "metadata": {},
     "outputs": [
      {
       "html": [
        "<div style=\"max-height:1000px;max-width:1500px;overflow:auto;\">\n",
        "<table border=\"1\" class=\"dataframe\">\n",
        "  <thead>\n",
        "    <tr style=\"text-align: right;\">\n",
        "      <th></th>\n",
        "      <th>patient_id</th>\n",
        "      <th>side</th>\n",
        "      <th>view</th>\n",
        "      <th>img_name</th>\n",
        "      <th>BIRADS</th>\n",
        "      <th>img_number</th>\n",
        "    </tr>\n",
        "  </thead>\n",
        "  <tbody>\n",
        "    <tr>\n",
        "      <th>p214-010-60001-cl.png</th>\n",
        "      <td> 21401060001</td>\n",
        "      <td> c</td>\n",
        "      <td> l</td>\n",
        "      <td> p214-010-60001-cl.png</td>\n",
        "      <td> 3</td>\n",
        "      <td> 1</td>\n",
        "    </tr>\n",
        "    <tr>\n",
        "      <th>p214-010-60001-cr.png</th>\n",
        "      <td> 21401060001</td>\n",
        "      <td> c</td>\n",
        "      <td> r</td>\n",
        "      <td> p214-010-60001-cr.png</td>\n",
        "      <td> 3</td>\n",
        "      <td> 1</td>\n",
        "    </tr>\n",
        "    <tr>\n",
        "      <th>p214-010-60001-ml.png</th>\n",
        "      <td> 21401060001</td>\n",
        "      <td> m</td>\n",
        "      <td> l</td>\n",
        "      <td> p214-010-60001-ml.png</td>\n",
        "      <td> 3</td>\n",
        "      <td> 1</td>\n",
        "    </tr>\n",
        "    <tr>\n",
        "      <th>p214-010-60001-mr.png</th>\n",
        "      <td> 21401060001</td>\n",
        "      <td> m</td>\n",
        "      <td> r</td>\n",
        "      <td> p214-010-60001-mr.png</td>\n",
        "      <td> 3</td>\n",
        "      <td> 1</td>\n",
        "    </tr>\n",
        "    <tr>\n",
        "      <th>p214-010-60005-cl.png</th>\n",
        "      <td> 21401060005</td>\n",
        "      <td> c</td>\n",
        "      <td> l</td>\n",
        "      <td> p214-010-60005-cl.png</td>\n",
        "      <td> 4</td>\n",
        "      <td> 5</td>\n",
        "    </tr>\n",
        "  </tbody>\n",
        "</table>\n",
        "</div>"
       ],
       "metadata": {},
       "output_type": "pyout",
       "prompt_number": 105,
       "text": [
        "                        patient_id side view               img_name  BIRADS  \\\n",
        "p214-010-60001-cl.png  21401060001    c    l  p214-010-60001-cl.png       3   \n",
        "p214-010-60001-cr.png  21401060001    c    r  p214-010-60001-cr.png       3   \n",
        "p214-010-60001-ml.png  21401060001    m    l  p214-010-60001-ml.png       3   \n",
        "p214-010-60001-mr.png  21401060001    m    r  p214-010-60001-mr.png       3   \n",
        "p214-010-60005-cl.png  21401060005    c    l  p214-010-60005-cl.png       4   \n",
        "\n",
        "                       img_number  \n",
        "p214-010-60001-cl.png           1  \n",
        "p214-010-60001-cr.png           1  \n",
        "p214-010-60001-ml.png           1  \n",
        "p214-010-60001-mr.png           1  \n",
        "p214-010-60005-cl.png           5  "
       ]
      }
     ],
     "prompt_number": 105
    },
    {
     "cell_type": "markdown",
     "metadata": {},
     "source": [
      "#Real Dataset Analysis"
     ]
    },
    {
     "cell_type": "code",
     "collapsed": false,
     "input": [
      "columns = filter(lambda x: 'homogeneity' in x, hologic_cluster.columns)"
     ],
     "language": "python",
     "metadata": {},
     "outputs": [],
     "prompt_number": 185
    },
    {
     "cell_type": "markdown",
     "metadata": {},
     "source": [
      "Scatter matrix of the clusters. From this is is noted that Homogeneity is the major cause for the splitting as it's bimodal across all clusters. Contrast and dissimilarity show correlations from high to low risk. Enegery also shows this trend, but it's correlation is weaker."
     ]
    },
    {
     "cell_type": "code",
     "collapsed": false,
     "input": [
      "hc = hologic_cluster[filter(lambda x: '1' in x, hologic_cluster.columns)].copy()\n",
      "hc['BIRADS'] = hologic_meta.BIRADS\n",
      "mia.plotting.plot_scattermatrix(hc, 'BIRADS')"
     ],
     "language": "python",
     "metadata": {},
     "outputs": [
      {
       "metadata": {},
       "output_type": "display_data",
       "png": "[encoded data removed]",
       "text": [
        "<matplotlib.figure.Figure at 0x12623dd50>"
       ]
      }
     ],
     "prompt_number": 194
    },
    {
     "cell_type": "markdown",
     "metadata": {},
     "source": [
      "The bimodal-ness of homogeneity can be better seen when plotted as a histogram for each cluster:"
     ]
    },
    {
     "cell_type": "code",
     "collapsed": false,
     "input": [
      "%matplotlib inline\n",
      "hc = hologic_cluster.copy()\n",
      "hc['class'] = hologic_meta.BIRADS\n",
      "mia.plotting.plot_risk_classes(hc, 'homogeneity_cluster_4')"
     ],
     "language": "python",
     "metadata": {},
     "outputs": [
      {
       "metadata": {},
       "output_type": "display_data",
       "png": "[encoded data removed]",
       "text": [
        "<matplotlib.figure.Figure at 0x127cad610>"
       ]
      }
     ],
     "prompt_number": 193
    },
    {
     "cell_type": "code",
     "collapsed": false,
     "input": [
      "mapping = mia.analysis.tSNE(hologic_cluster[columns], n_components=2, verbose=2, learning_rate=300)"
     ],
     "language": "python",
     "metadata": {},
     "outputs": [
      {
       "output_type": "stream",
       "stream": "stdout",
       "text": [
        "[t-SNE] Computing pairwise distances...\n",
        "[t-SNE] Computed conditional probabilities for sample 360 / 360"
       ]
      },
      {
       "output_type": "stream",
       "stream": "stdout",
       "text": [
        "\n",
        "[t-SNE] Mean sigma: 0.574917\n",
        "[t-SNE] Iteration 10: error = 16.1541876, gradient norm = 0.1719006"
       ]
      },
      {
       "output_type": "stream",
       "stream": "stdout",
       "text": [
        "\n",
        "[t-SNE] Iteration 20: error = 13.2540182, gradient norm = 0.1536431"
       ]
      },
      {
       "output_type": "stream",
       "stream": "stdout",
       "text": [
        "\n",
        "[t-SNE] Iteration 30: error = 12.5407164, gradient norm = 0.1586372"
       ]
      },
      {
       "output_type": "stream",
       "stream": "stdout",
       "text": [
        "\n",
        "[t-SNE] Iteration 40: error = 12.8821844, gradient norm = 0.1474866"
       ]
      },
      {
       "output_type": "stream",
       "stream": "stdout",
       "text": [
        "\n",
        "[t-SNE] Iteration 50: error = 12.8103744, gradient norm = 0.1423375"
       ]
      },
      {
       "output_type": "stream",
       "stream": "stdout",
       "text": [
        "\n",
        "[t-SNE] Iteration 60: error = 12.7278322, gradient norm = 0.1492145"
       ]
      },
      {
       "output_type": "stream",
       "stream": "stdout",
       "text": [
        "\n",
        "[t-SNE] Iteration 70: error = 12.9535844, gradient norm = 0.1467182"
       ]
      },
      {
       "output_type": "stream",
       "stream": "stdout",
       "text": [
        "\n",
        "[t-SNE] Iteration 80: error = 12.9187282, gradient norm = 0.1383605"
       ]
      },
      {
       "output_type": "stream",
       "stream": "stdout",
       "text": [
        "\n",
        "[t-SNE] Iteration 83: did not make any progress during the last 30 episodes. Finished.\n",
        "[t-SNE] Error after 83 iterations with early exaggeration: 12.640844\n",
        "[t-SNE] Iteration 90: error = 0.8356086, gradient norm = 0.0233477"
       ]
      },
      {
       "output_type": "stream",
       "stream": "stdout",
       "text": [
        "\n",
        "[t-SNE] Iteration 100: error = 0.5918354, gradient norm = 0.0087953"
       ]
      },
      {
       "output_type": "stream",
       "stream": "stdout",
       "text": [
        "\n",
        "[t-SNE] Iteration 110: error = 0.5427384, gradient norm = 0.0032808"
       ]
      },
      {
       "output_type": "stream",
       "stream": "stdout",
       "text": [
        "\n",
        "[t-SNE] Iteration 120: error = 0.5263414, gradient norm = 0.0016312"
       ]
      },
      {
       "output_type": "stream",
       "stream": "stdout",
       "text": [
        "\n",
        "[t-SNE] Iteration 130: error = 0.5209433, gradient norm = 0.0008191"
       ]
      },
      {
       "output_type": "stream",
       "stream": "stdout",
       "text": [
        "\n",
        "[t-SNE] Iteration 140: error = 0.5183772, gradient norm = 0.0006766"
       ]
      },
      {
       "output_type": "stream",
       "stream": "stdout",
       "text": [
        "\n",
        "[t-SNE] Iteration 150: error = 0.5169651, gradient norm = 0.0006389"
       ]
      },
      {
       "output_type": "stream",
       "stream": "stdout",
       "text": [
        "\n",
        "[t-SNE] Iteration 160: error = 0.5161954, gradient norm = 0.0006213"
       ]
      },
      {
       "output_type": "stream",
       "stream": "stdout",
       "text": [
        "\n",
        "[t-SNE] Iteration 170: error = 0.5157535, gradient norm = 0.0006135"
       ]
      },
      {
       "output_type": "stream",
       "stream": "stdout",
       "text": [
        "\n",
        "[t-SNE] Iteration 180: error = 0.5154955, gradient norm = 0.0006089"
       ]
      },
      {
       "output_type": "stream",
       "stream": "stdout",
       "text": [
        "\n",
        "[t-SNE] Iteration 190: error = 0.5153432, gradient norm = 0.0006062"
       ]
      },
      {
       "output_type": "stream",
       "stream": "stdout",
       "text": [
        "\n",
        "[t-SNE] Iteration 200: error = 0.5152528, gradient norm = 0.0006047"
       ]
      },
      {
       "output_type": "stream",
       "stream": "stdout",
       "text": [
        "\n",
        "[t-SNE] Iteration 210: error = 0.5151990, gradient norm = 0.0006037"
       ]
      },
      {
       "output_type": "stream",
       "stream": "stdout",
       "text": [
        "\n",
        "[t-SNE] Iteration 220: error = 0.5151668, gradient norm = 0.0006032"
       ]
      },
      {
       "output_type": "stream",
       "stream": "stdout",
       "text": [
        "\n",
        "[t-SNE] Iteration 230: error = 0.5151476, gradient norm = 0.0006028"
       ]
      },
      {
       "output_type": "stream",
       "stream": "stdout",
       "text": [
        "\n",
        "[t-SNE] Iteration 240: error = 0.5151362, gradient norm = 0.0006026"
       ]
      },
      {
       "output_type": "stream",
       "stream": "stdout",
       "text": [
        "\n",
        "[t-SNE] Iteration 250: error = 0.5151293, gradient norm = 0.0006025"
       ]
      },
      {
       "output_type": "stream",
       "stream": "stdout",
       "text": [
        "\n",
        "[t-SNE] Iteration 260: error = 0.5151252, gradient norm = 0.0006025"
       ]
      },
      {
       "output_type": "stream",
       "stream": "stdout",
       "text": [
        "\n",
        "[t-SNE] Iteration 270: error = 0.5151227, gradient norm = 0.0006024"
       ]
      },
      {
       "output_type": "stream",
       "stream": "stdout",
       "text": [
        "\n",
        "[t-SNE] Iteration 280: error = 0.5151212, gradient norm = 0.0006024"
       ]
      },
      {
       "output_type": "stream",
       "stream": "stdout",
       "text": [
        "\n",
        "[t-SNE] Iteration 283: error difference 0.000000. Finished.\n",
        "[t-SNE] Error after 283 iterations: 0.515121\n"
       ]
      }
     ],
     "prompt_number": 177
    },
    {
     "cell_type": "code",
     "collapsed": false,
     "input": [
      "mia.plotting.plot_scatter_2d(mapping, [0,1], hologic_meta.BIRADS)"
     ],
     "language": "python",
     "metadata": {},
     "outputs": [
      {
       "metadata": {},
       "output_type": "pyout",
       "prompt_number": 178,
       "text": [
        "<matplotlib.axes._subplots.AxesSubplot at 0x133f1bf50>"
       ]
      }
     ],
     "prompt_number": 178
    },
    {
     "cell_type": "code",
     "collapsed": false,
     "input": [
      "mia.analysis.measure_closeness(mapping, hologic_meta.img_name).mean()"
     ],
     "language": "python",
     "metadata": {},
     "outputs": [
      {
       "metadata": {},
       "output_type": "pyout",
       "prompt_number": 196,
       "text": [
        "5.3192683969678507"
       ]
      }
     ],
     "prompt_number": 196
    },
    {
     "cell_type": "code",
     "collapsed": false,
     "input": [
      "left_cluster = hologic_cluster[mapping[0] < 0]\n",
      "right_cluster = hologic_cluster[mapping[0] >= 0]\n",
      "\n",
      "# columns = filter(lambda x: 'cluster_4' in x, hologic_cluster.columns)\n",
      "# mapping[]\n",
      "mask = filter(lambda x: '61246' in x, mapping.index)\n",
      "hologic_cluster.loc[mask].describe() - hologic_cluster[hologic_meta.BIRADS == 1].describe()"
     ],
     "language": "python",
     "metadata": {},
     "outputs": [
      {
       "html": [
        "<div style=\"max-height:1000px;max-width:1500px;overflow:auto;\">\n",
        "<table border=\"1\" class=\"dataframe\">\n",
        "  <thead>\n",
        "    <tr style=\"text-align: right;\">\n",
        "      <th></th>\n",
        "      <th>contrast_cluster_1</th>\n",
        "      <th>dissimilarity_cluster_1</th>\n",
        "      <th>homogeneity_cluster_1</th>\n",
        "      <th>energy_cluster_1</th>\n",
        "      <th>contrast_cluster_2</th>\n",
        "      <th>dissimilarity_cluster_2</th>\n",
        "      <th>homogeneity_cluster_2</th>\n",
        "      <th>energy_cluster_2</th>\n",
        "      <th>contrast_cluster_3</th>\n",
        "      <th>dissimilarity_cluster_3</th>\n",
        "      <th>homogeneity_cluster_3</th>\n",
        "      <th>energy_cluster_3</th>\n",
        "      <th>contrast_cluster_4</th>\n",
        "      <th>dissimilarity_cluster_4</th>\n",
        "      <th>homogeneity_cluster_4</th>\n",
        "      <th>energy_cluster_4</th>\n",
        "    </tr>\n",
        "  </thead>\n",
        "  <tbody>\n",
        "    <tr>\n",
        "      <th>count</th>\n",
        "      <td>-5.200000e+01</td>\n",
        "      <td>      -52.000000</td>\n",
        "      <td>     -52.000000</td>\n",
        "      <td>   -52.000000</td>\n",
        "      <td>-5.200000e+01</td>\n",
        "      <td>      -52.000000</td>\n",
        "      <td>     -52.000000</td>\n",
        "      <td>    -52.000000</td>\n",
        "      <td>-5.200000e+01</td>\n",
        "      <td>      -52.000000</td>\n",
        "      <td>     -52.000000</td>\n",
        "      <td>    -52.000000</td>\n",
        "      <td>-5.200000e+01</td>\n",
        "      <td>      -52.000000</td>\n",
        "      <td>     -52.000000</td>\n",
        "      <td>    -52.000000</td>\n",
        "    </tr>\n",
        "    <tr>\n",
        "      <th>mean</th>\n",
        "      <td> 9.160567e+07</td>\n",
        "      <td>    74524.982143</td>\n",
        "      <td>-4061161.758205</td>\n",
        "      <td>-18304.689283</td>\n",
        "      <td>-5.051321e+08</td>\n",
        "      <td> -7603719.178571</td>\n",
        "      <td>-4147655.094432</td>\n",
        "      <td> -20643.333663</td>\n",
        "      <td>-3.373641e+09</td>\n",
        "      <td>-36808132.767857</td>\n",
        "      <td>-3666362.056107</td>\n",
        "      <td> -42376.793559</td>\n",
        "      <td>-3.327056e+09</td>\n",
        "      <td>-31426773.834821</td>\n",
        "      <td>-3804590.423466</td>\n",
        "      <td> -29025.715724</td>\n",
        "    </tr>\n",
        "    <tr>\n",
        "      <th>std</th>\n",
        "      <td>-1.603533e+08</td>\n",
        "      <td> -5406764.273350</td>\n",
        "      <td>-1618317.125137</td>\n",
        "      <td>-19830.220933</td>\n",
        "      <td>-7.159395e+08</td>\n",
        "      <td>-12883083.536642</td>\n",
        "      <td>-1569686.264484</td>\n",
        "      <td> -25174.014670</td>\n",
        "      <td>-1.874185e+09</td>\n",
        "      <td>-22761707.482165</td>\n",
        "      <td>-1522252.920157</td>\n",
        "      <td> -30145.025223</td>\n",
        "      <td>-1.554493e+09</td>\n",
        "      <td>-15425890.091613</td>\n",
        "      <td>-1602577.047234</td>\n",
        "      <td> -19292.470167</td>\n",
        "    </tr>\n",
        "    <tr>\n",
        "      <th>min</th>\n",
        "      <td> 3.823331e+08</td>\n",
        "      <td>  9378632.750000</td>\n",
        "      <td>       0.000000</td>\n",
        "      <td> 22302.068686</td>\n",
        "      <td> 1.215520e+09</td>\n",
        "      <td> 20742859.000000</td>\n",
        "      <td>       0.000000</td>\n",
        "      <td>  22709.714106</td>\n",
        "      <td> 0.000000e+00</td>\n",
        "      <td>        0.000000</td>\n",
        "      <td>   20266.891924</td>\n",
        "      <td>   5965.814005</td>\n",
        "      <td> 0.000000e+00</td>\n",
        "      <td>        0.000000</td>\n",
        "      <td>  218008.899588</td>\n",
        "      <td>   4024.187474</td>\n",
        "    </tr>\n",
        "    <tr>\n",
        "      <th>25%</th>\n",
        "      <td> 2.387171e+08</td>\n",
        "      <td>  6330557.437500</td>\n",
        "      <td>-4194017.424574</td>\n",
        "      <td> -1511.915397</td>\n",
        "      <td>-5.778795e+06</td>\n",
        "      <td>   755407.062500</td>\n",
        "      <td>-4202539.132652</td>\n",
        "      <td>  -1039.978464</td>\n",
        "      <td>-1.904371e+09</td>\n",
        "      <td>-18989405.625000</td>\n",
        "      <td>-3815734.235083</td>\n",
        "      <td> -21753.060392</td>\n",
        "      <td>-2.172337e+09</td>\n",
        "      <td>-17971034.187500</td>\n",
        "      <td>-4219773.376121</td>\n",
        "      <td> -15959.627871</td>\n",
        "    </tr>\n",
        "    <tr>\n",
        "      <th>50%</th>\n",
        "      <td> 8.880562e+07</td>\n",
        "      <td>  -190636.000000</td>\n",
        "      <td>-4574191.429087</td>\n",
        "      <td>-18499.407759</td>\n",
        "      <td>-4.143155e+08</td>\n",
        "      <td> -6934196.375000</td>\n",
        "      <td>-4664886.311245</td>\n",
        "      <td> -14429.145909</td>\n",
        "      <td>-3.429784e+09</td>\n",
        "      <td>-33118396.125000</td>\n",
        "      <td>-4180971.192237</td>\n",
        "      <td> -38970.849494</td>\n",
        "      <td>-3.478431e+09</td>\n",
        "      <td>-31447243.125000</td>\n",
        "      <td>-4406834.832800</td>\n",
        "      <td> -30190.599009</td>\n",
        "    </tr>\n",
        "    <tr>\n",
        "      <th>75%</th>\n",
        "      <td> 2.835360e+07</td>\n",
        "      <td> -3909092.812500</td>\n",
        "      <td>-4986291.515469</td>\n",
        "      <td>-30188.766977</td>\n",
        "      <td>-8.355635e+08</td>\n",
        "      <td>-14812328.625000</td>\n",
        "      <td>-5032462.009876</td>\n",
        "      <td> -32851.642817</td>\n",
        "      <td>-4.576160e+09</td>\n",
        "      <td>-51285987.125000</td>\n",
        "      <td>-4581666.947618</td>\n",
        "      <td> -56118.123489</td>\n",
        "      <td>-4.471933e+09</td>\n",
        "      <td>-42422963.500000</td>\n",
        "      <td>-4554812.161786</td>\n",
        "      <td> -40418.875428</td>\n",
        "    </tr>\n",
        "    <tr>\n",
        "      <th>max</th>\n",
        "      <td>-5.056405e+08</td>\n",
        "      <td>-15772208.000000</td>\n",
        "      <td>-5508030.187789</td>\n",
        "      <td>-71767.455048</td>\n",
        "      <td>-2.995128e+09</td>\n",
        "      <td>-43548365.000000</td>\n",
        "      <td>-5568131.421848</td>\n",
        "      <td>-109680.219475</td>\n",
        "      <td>-7.532141e+09</td>\n",
        "      <td>-92935277.000000</td>\n",
        "      <td>-4947226.463877</td>\n",
        "      <td>-159337.533306</td>\n",
        "      <td>-6.141837e+09</td>\n",
        "      <td>-66472843.250000</td>\n",
        "      <td>-4989668.123093</td>\n",
        "      <td>-100752.339516</td>\n",
        "    </tr>\n",
        "  </tbody>\n",
        "</table>\n",
        "</div>"
       ],
       "metadata": {},
       "output_type": "pyout",
       "prompt_number": 106,
       "text": [
        "       contrast_cluster_1  dissimilarity_cluster_1  homogeneity_cluster_1  \\\n",
        "count       -5.200000e+01               -52.000000             -52.000000   \n",
        "mean         9.160567e+07             74524.982143        -4061161.758205   \n",
        "std         -1.603533e+08          -5406764.273350        -1618317.125137   \n",
        "min          3.823331e+08           9378632.750000               0.000000   \n",
        "25%          2.387171e+08           6330557.437500        -4194017.424574   \n",
        "50%          8.880562e+07           -190636.000000        -4574191.429087   \n",
        "75%          2.835360e+07          -3909092.812500        -4986291.515469   \n",
        "max         -5.056405e+08         -15772208.000000        -5508030.187789   \n",
        "\n",
        "       energy_cluster_1  contrast_cluster_2  dissimilarity_cluster_2  \\\n",
        "count        -52.000000       -5.200000e+01               -52.000000   \n",
        "mean      -18304.689283       -5.051321e+08          -7603719.178571   \n",
        "std       -19830.220933       -7.159395e+08         -12883083.536642   \n",
        "min        22302.068686        1.215520e+09          20742859.000000   \n",
        "25%        -1511.915397       -5.778795e+06            755407.062500   \n",
        "50%       -18499.407759       -4.143155e+08          -6934196.375000   \n",
        "75%       -30188.766977       -8.355635e+08         -14812328.625000   \n",
        "max       -71767.455048       -2.995128e+09         -43548365.000000   \n",
        "\n",
        "       homogeneity_cluster_2  energy_cluster_2  contrast_cluster_3  \\\n",
        "count             -52.000000        -52.000000       -5.200000e+01   \n",
        "mean         -4147655.094432     -20643.333663       -3.373641e+09   \n",
        "std          -1569686.264484     -25174.014670       -1.874185e+09   \n",
        "min                 0.000000      22709.714106        0.000000e+00   \n",
        "25%          -4202539.132652      -1039.978464       -1.904371e+09   \n",
        "50%          -4664886.311245     -14429.145909       -3.429784e+09   \n",
        "75%          -5032462.009876     -32851.642817       -4.576160e+09   \n",
        "max          -5568131.421848    -109680.219475       -7.532141e+09   \n",
        "\n",
        "       dissimilarity_cluster_3  homogeneity_cluster_3  energy_cluster_3  \\\n",
        "count               -52.000000             -52.000000        -52.000000   \n",
        "mean          -36808132.767857        -3666362.056107     -42376.793559   \n",
        "std           -22761707.482165        -1522252.920157     -30145.025223   \n",
        "min                   0.000000           20266.891924       5965.814005   \n",
        "25%           -18989405.625000        -3815734.235083     -21753.060392   \n",
        "50%           -33118396.125000        -4180971.192237     -38970.849494   \n",
        "75%           -51285987.125000        -4581666.947618     -56118.123489   \n",
        "max           -92935277.000000        -4947226.463877    -159337.533306   \n",
        "\n",
        "       contrast_cluster_4  dissimilarity_cluster_4  homogeneity_cluster_4  \\\n",
        "count       -5.200000e+01               -52.000000             -52.000000   \n",
        "mean        -3.327056e+09         -31426773.834821        -3804590.423466   \n",
        "std         -1.554493e+09         -15425890.091613        -1602577.047234   \n",
        "min          0.000000e+00                 0.000000          218008.899588   \n",
        "25%         -2.172337e+09         -17971034.187500        -4219773.376121   \n",
        "50%         -3.478431e+09         -31447243.125000        -4406834.832800   \n",
        "75%         -4.471933e+09         -42422963.500000        -4554812.161786   \n",
        "max         -6.141837e+09         -66472843.250000        -4989668.123093   \n",
        "\n",
        "       energy_cluster_4  \n",
        "count        -52.000000  \n",
        "mean      -29025.715724  \n",
        "std       -19292.470167  \n",
        "min         4024.187474  \n",
        "25%       -15959.627871  \n",
        "50%       -30190.599009  \n",
        "75%       -40418.875428  \n",
        "max      -100752.339516  "
       ]
      }
     ],
     "prompt_number": 106
    },
    {
     "cell_type": "markdown",
     "metadata": {},
     "source": [
      "Looking at the most significant features"
     ]
    },
    {
     "cell_type": "code",
     "collapsed": false,
     "input": [
      "hc = mia.analysis.normalize_data_frame(hologic_cluster)\n",
      "hc.columns = hologic_cluster.columns\n",
      "hc['BIRADS'] = hologic_meta.BIRADS\n",
      "pd.tools.plotting.radviz(hc, 'BIRADS')"
     ],
     "language": "python",
     "metadata": {},
     "outputs": [
      {
       "metadata": {},
       "output_type": "pyout",
       "prompt_number": 156,
       "text": [
        "<matplotlib.axes._subplots.AxesSubplot at 0x129410b90>"
       ]
      }
     ],
     "prompt_number": 156
    },
    {
     "cell_type": "code",
     "collapsed": false,
     "input": [
      "mapping['class'] = hologic_meta['BIRADS']\n",
      "mia.io_tools.dump_mapping_to_json(mapping, [0,1], '../mapping_viz/data.json')"
     ],
     "language": "python",
     "metadata": {},
     "outputs": [],
     "prompt_number": 73
    },
    {
     "cell_type": "code",
     "collapsed": false,
     "input": [
      "mapping.to_csv('../2015-03-28-real-texture-cluster-mapping.csv')"
     ],
     "language": "python",
     "metadata": {},
     "outputs": [],
     "prompt_number": 49
    },
    {
     "cell_type": "markdown",
     "metadata": {},
     "source": [
      "# Including the Synthetic Data"
     ]
    },
    {
     "cell_type": "code",
     "collapsed": false,
     "input": [
      "phantoms = pd.DataFrame.from_csv('../2015-03-28-phantom-texture-cluster.csv')\n",
      "phantoms.head()"
     ],
     "language": "python",
     "metadata": {},
     "outputs": [
      {
       "html": [
        "<div style=\"max-height:1000px;max-width:1500px;overflow:auto;\">\n",
        "<table border=\"1\" class=\"dataframe\">\n",
        "  <thead>\n",
        "    <tr style=\"text-align: right;\">\n",
        "      <th></th>\n",
        "      <th>contrast_cluster_1</th>\n",
        "      <th>dissimilarity_cluster_1</th>\n",
        "      <th>homogeneity_cluster_1</th>\n",
        "      <th>energy_cluster_1</th>\n",
        "      <th>contrast_cluster_2</th>\n",
        "      <th>dissimilarity_cluster_2</th>\n",
        "      <th>homogeneity_cluster_2</th>\n",
        "      <th>energy_cluster_2</th>\n",
        "      <th>contrast_cluster_3</th>\n",
        "      <th>dissimilarity_cluster_3</th>\n",
        "      <th>homogeneity_cluster_3</th>\n",
        "      <th>energy_cluster_3</th>\n",
        "      <th>contrast_cluster_4</th>\n",
        "      <th>dissimilarity_cluster_4</th>\n",
        "      <th>homogeneity_cluster_4</th>\n",
        "      <th>energy_cluster_4</th>\n",
        "    </tr>\n",
        "  </thead>\n",
        "  <tbody>\n",
        "    <tr>\n",
        "      <th>test_Mix_DPerc0_c_0.dcm</th>\n",
        "      <td> 7.805321e+07</td>\n",
        "      <td> 337040.75</td>\n",
        "      <td> 3664686.896810</td>\n",
        "      <td> 49792.877875</td>\n",
        "      <td> 2.137532e+08</td>\n",
        "      <td> 899534.25</td>\n",
        "      <td> 3659636.929234</td>\n",
        "      <td> 37305.672427</td>\n",
        "      <td> 3.012525e+08</td>\n",
        "      <td> 1239525.25</td>\n",
        "      <td> 3656372.640303</td>\n",
        "      <td> 60874.139738</td>\n",
        "      <td> 2.190925e+08</td>\n",
        "      <td>  934585.25</td>\n",
        "      <td> 3637426.757401</td>\n",
        "      <td>  91539.044083</td>\n",
        "    </tr>\n",
        "    <tr>\n",
        "      <th>test_Mix_DPerc0_c_1.dcm</th>\n",
        "      <td> 1.123977e+08</td>\n",
        "      <td> 483231.25</td>\n",
        "      <td> 3662776.650960</td>\n",
        "      <td> 58883.868513</td>\n",
        "      <td> 2.284522e+08</td>\n",
        "      <td> 955230.00</td>\n",
        "      <td> 3658457.557997</td>\n",
        "      <td> 37682.485071</td>\n",
        "      <td> 4.226799e+08</td>\n",
        "      <td> 1717695.00</td>\n",
        "      <td> 3655296.549928</td>\n",
        "      <td> 41519.417587</td>\n",
        "      <td> 3.340117e+08</td>\n",
        "      <td> 1389453.25</td>\n",
        "      <td> 3637492.324049</td>\n",
        "      <td>  94920.560177</td>\n",
        "    </tr>\n",
        "    <tr>\n",
        "      <th>test_Mix_DPerc0_c_10.dcm</th>\n",
        "      <td> 1.746862e+07</td>\n",
        "      <td>  90670.75</td>\n",
        "      <td> 3665781.117732</td>\n",
        "      <td> 49048.932066</td>\n",
        "      <td> 7.524988e+07</td>\n",
        "      <td> 337097.25</td>\n",
        "      <td> 3662244.233806</td>\n",
        "      <td> 53688.129002</td>\n",
        "      <td> 2.188807e+08</td>\n",
        "      <td>  914860.75</td>\n",
        "      <td> 3656727.883353</td>\n",
        "      <td> 31368.812801</td>\n",
        "      <td> 1.995978e+08</td>\n",
        "      <td>  864599.25</td>\n",
        "      <td> 3635457.378337</td>\n",
        "      <td>  92797.242762</td>\n",
        "    </tr>\n",
        "    <tr>\n",
        "      <th>test_Mix_DPerc0_c_11.dcm</th>\n",
        "      <td> 8.080798e+06</td>\n",
        "      <td>  49274.25</td>\n",
        "      <td> 3666552.061988</td>\n",
        "      <td> 46708.531551</td>\n",
        "      <td> 5.140643e+07</td>\n",
        "      <td> 240891.50</td>\n",
        "      <td> 3662899.062626</td>\n",
        "      <td> 41445.544031</td>\n",
        "      <td> 1.732943e+08</td>\n",
        "      <td>  735558.00</td>\n",
        "      <td> 3656810.989204</td>\n",
        "      <td> 40871.497863</td>\n",
        "      <td> 1.718443e+08</td>\n",
        "      <td>  756757.25</td>\n",
        "      <td> 3634511.683852</td>\n",
        "      <td> 101160.576150</td>\n",
        "    </tr>\n",
        "    <tr>\n",
        "      <th>test_Mix_DPerc0_c_12.dcm</th>\n",
        "      <td> 1.394344e+07</td>\n",
        "      <td>  77445.00</td>\n",
        "      <td> 3665783.596805</td>\n",
        "      <td> 47152.382667</td>\n",
        "      <td> 7.345143e+07</td>\n",
        "      <td> 331874.00</td>\n",
        "      <td> 3661879.744782</td>\n",
        "      <td> 41461.886764</td>\n",
        "      <td> 2.239596e+08</td>\n",
        "      <td>  936619.50</td>\n",
        "      <td> 3656330.531212</td>\n",
        "      <td> 57281.910172</td>\n",
        "      <td> 2.009572e+08</td>\n",
        "      <td>  869104.50</td>\n",
        "      <td> 3635644.891045</td>\n",
        "      <td>  98646.047275</td>\n",
        "    </tr>\n",
        "  </tbody>\n",
        "</table>\n",
        "</div>"
       ],
       "metadata": {},
       "output_type": "pyout",
       "prompt_number": 109,
       "text": [
        "                          contrast_cluster_1  dissimilarity_cluster_1  \\\n",
        "test_Mix_DPerc0_c_0.dcm         7.805321e+07                337040.75   \n",
        "test_Mix_DPerc0_c_1.dcm         1.123977e+08                483231.25   \n",
        "test_Mix_DPerc0_c_10.dcm        1.746862e+07                 90670.75   \n",
        "test_Mix_DPerc0_c_11.dcm        8.080798e+06                 49274.25   \n",
        "test_Mix_DPerc0_c_12.dcm        1.394344e+07                 77445.00   \n",
        "\n",
        "                          homogeneity_cluster_1  energy_cluster_1  \\\n",
        "test_Mix_DPerc0_c_0.dcm          3664686.896810      49792.877875   \n",
        "test_Mix_DPerc0_c_1.dcm          3662776.650960      58883.868513   \n",
        "test_Mix_DPerc0_c_10.dcm         3665781.117732      49048.932066   \n",
        "test_Mix_DPerc0_c_11.dcm         3666552.061988      46708.531551   \n",
        "test_Mix_DPerc0_c_12.dcm         3665783.596805      47152.382667   \n",
        "\n",
        "                          contrast_cluster_2  dissimilarity_cluster_2  \\\n",
        "test_Mix_DPerc0_c_0.dcm         2.137532e+08                899534.25   \n",
        "test_Mix_DPerc0_c_1.dcm         2.284522e+08                955230.00   \n",
        "test_Mix_DPerc0_c_10.dcm        7.524988e+07                337097.25   \n",
        "test_Mix_DPerc0_c_11.dcm        5.140643e+07                240891.50   \n",
        "test_Mix_DPerc0_c_12.dcm        7.345143e+07                331874.00   \n",
        "\n",
        "                          homogeneity_cluster_2  energy_cluster_2  \\\n",
        "test_Mix_DPerc0_c_0.dcm          3659636.929234      37305.672427   \n",
        "test_Mix_DPerc0_c_1.dcm          3658457.557997      37682.485071   \n",
        "test_Mix_DPerc0_c_10.dcm         3662244.233806      53688.129002   \n",
        "test_Mix_DPerc0_c_11.dcm         3662899.062626      41445.544031   \n",
        "test_Mix_DPerc0_c_12.dcm         3661879.744782      41461.886764   \n",
        "\n",
        "                          contrast_cluster_3  dissimilarity_cluster_3  \\\n",
        "test_Mix_DPerc0_c_0.dcm         3.012525e+08               1239525.25   \n",
        "test_Mix_DPerc0_c_1.dcm         4.226799e+08               1717695.00   \n",
        "test_Mix_DPerc0_c_10.dcm        2.188807e+08                914860.75   \n",
        "test_Mix_DPerc0_c_11.dcm        1.732943e+08                735558.00   \n",
        "test_Mix_DPerc0_c_12.dcm        2.239596e+08                936619.50   \n",
        "\n",
        "                          homogeneity_cluster_3  energy_cluster_3  \\\n",
        "test_Mix_DPerc0_c_0.dcm          3656372.640303      60874.139738   \n",
        "test_Mix_DPerc0_c_1.dcm          3655296.549928      41519.417587   \n",
        "test_Mix_DPerc0_c_10.dcm         3656727.883353      31368.812801   \n",
        "test_Mix_DPerc0_c_11.dcm         3656810.989204      40871.497863   \n",
        "test_Mix_DPerc0_c_12.dcm         3656330.531212      57281.910172   \n",
        "\n",
        "                          contrast_cluster_4  dissimilarity_cluster_4  \\\n",
        "test_Mix_DPerc0_c_0.dcm         2.190925e+08                934585.25   \n",
        "test_Mix_DPerc0_c_1.dcm         3.340117e+08               1389453.25   \n",
        "test_Mix_DPerc0_c_10.dcm        1.995978e+08                864599.25   \n",
        "test_Mix_DPerc0_c_11.dcm        1.718443e+08                756757.25   \n",
        "test_Mix_DPerc0_c_12.dcm        2.009572e+08                869104.50   \n",
        "\n",
        "                          homogeneity_cluster_4  energy_cluster_4  \n",
        "test_Mix_DPerc0_c_0.dcm          3637426.757401      91539.044083  \n",
        "test_Mix_DPerc0_c_1.dcm          3637492.324049      94920.560177  \n",
        "test_Mix_DPerc0_c_10.dcm         3635457.378337      92797.242762  \n",
        "test_Mix_DPerc0_c_11.dcm         3634511.683852     101160.576150  \n",
        "test_Mix_DPerc0_c_12.dcm         3635644.891045      98646.047275  "
       ]
      }
     ],
     "prompt_number": 109
    },
    {
     "cell_type": "code",
     "collapsed": false,
     "input": [
      "phantom_meta = mia.analysis.create_synthetic_meta_data(phantoms, '/Volumes/Seagate/2015-03-26/synthetic_meta_data_cleaned.csv')\n",
      "#replace BIRADS inspecific BIRADS classes\n",
      "phantom_meta.BIRADS.replace('3 or 4', 4, inplace=True)\n",
      "phantom_meta.BIRADS.replace(re.compile(r'2 \\([a-z]+\\)'), 2, inplace=True)\n",
      "phantom_meta.BIRADS = phantom_meta.BIRADS.astype(float)\n",
      "phantom_meta.head()"
     ],
     "language": "python",
     "metadata": {},
     "outputs": [
      {
       "html": [
        "<div style=\"max-height:1000px;max-width:1500px;overflow:auto;\">\n",
        "<table border=\"1\" class=\"dataframe\">\n",
        "  <thead>\n",
        "    <tr style=\"text-align: right;\">\n",
        "      <th></th>\n",
        "      <th>Vol</th>\n",
        "      <th>CmprTh</th>\n",
        "      <th>SkTh</th>\n",
        "      <th>LigThCrs</th>\n",
        "      <th>LigThFn</th>\n",
        "      <th>#cmprts</th>\n",
        "      <th>#cmprts.1</th>\n",
        "      <th>Dperc</th>\n",
        "      <th>VBD</th>\n",
        "      <th>VBD.1</th>\n",
        "      <th>BIRADS</th>\n",
        "      <th>min_speed</th>\n",
        "      <th>max_speed</th>\n",
        "      <th>min_ratio</th>\n",
        "      <th>max_ratio</th>\n",
        "      <th>phantom_name</th>\n",
        "    </tr>\n",
        "  </thead>\n",
        "  <tbody>\n",
        "    <tr>\n",
        "      <th>test_Mix_DPerc0_c_0.dcm</th>\n",
        "      <td> 436</td>\n",
        "      <td> 5</td>\n",
        "      <td> 0.5</td>\n",
        "      <td> 400</td>\n",
        "      <td> 200</td>\n",
        "      <td> 333</td>\n",
        "      <td> 1000</td>\n",
        "      <td> 0</td>\n",
        "      <td> 24</td>\n",
        "      <td> 21</td>\n",
        "      <td> 1</td>\n",
        "      <td> 0.5</td>\n",
        "      <td> 2</td>\n",
        "      <td> 0.5</td>\n",
        "      <td> 2</td>\n",
        "      <td> test_Mix_DPerc0_c</td>\n",
        "    </tr>\n",
        "    <tr>\n",
        "      <th>test_Mix_DPerc0_c_1.dcm</th>\n",
        "      <td> 436</td>\n",
        "      <td> 5</td>\n",
        "      <td> 0.5</td>\n",
        "      <td> 400</td>\n",
        "      <td> 200</td>\n",
        "      <td> 333</td>\n",
        "      <td> 1000</td>\n",
        "      <td> 0</td>\n",
        "      <td> 24</td>\n",
        "      <td> 21</td>\n",
        "      <td> 1</td>\n",
        "      <td> 0.5</td>\n",
        "      <td> 2</td>\n",
        "      <td> 0.5</td>\n",
        "      <td> 2</td>\n",
        "      <td> test_Mix_DPerc0_c</td>\n",
        "    </tr>\n",
        "    <tr>\n",
        "      <th>test_Mix_DPerc0_c_10.dcm</th>\n",
        "      <td> 436</td>\n",
        "      <td> 5</td>\n",
        "      <td> 0.5</td>\n",
        "      <td> 400</td>\n",
        "      <td> 200</td>\n",
        "      <td> 333</td>\n",
        "      <td> 1000</td>\n",
        "      <td> 0</td>\n",
        "      <td> 24</td>\n",
        "      <td> 21</td>\n",
        "      <td> 1</td>\n",
        "      <td> 0.5</td>\n",
        "      <td> 2</td>\n",
        "      <td> 0.5</td>\n",
        "      <td> 2</td>\n",
        "      <td> test_Mix_DPerc0_c</td>\n",
        "    </tr>\n",
        "    <tr>\n",
        "      <th>test_Mix_DPerc0_c_11.dcm</th>\n",
        "      <td> 436</td>\n",
        "      <td> 5</td>\n",
        "      <td> 0.5</td>\n",
        "      <td> 400</td>\n",
        "      <td> 200</td>\n",
        "      <td> 333</td>\n",
        "      <td> 1000</td>\n",
        "      <td> 0</td>\n",
        "      <td> 24</td>\n",
        "      <td> 21</td>\n",
        "      <td> 1</td>\n",
        "      <td> 0.5</td>\n",
        "      <td> 2</td>\n",
        "      <td> 0.5</td>\n",
        "      <td> 2</td>\n",
        "      <td> test_Mix_DPerc0_c</td>\n",
        "    </tr>\n",
        "    <tr>\n",
        "      <th>test_Mix_DPerc0_c_12.dcm</th>\n",
        "      <td> 436</td>\n",
        "      <td> 5</td>\n",
        "      <td> 0.5</td>\n",
        "      <td> 400</td>\n",
        "      <td> 200</td>\n",
        "      <td> 333</td>\n",
        "      <td> 1000</td>\n",
        "      <td> 0</td>\n",
        "      <td> 24</td>\n",
        "      <td> 21</td>\n",
        "      <td> 1</td>\n",
        "      <td> 0.5</td>\n",
        "      <td> 2</td>\n",
        "      <td> 0.5</td>\n",
        "      <td> 2</td>\n",
        "      <td> test_Mix_DPerc0_c</td>\n",
        "    </tr>\n",
        "  </tbody>\n",
        "</table>\n",
        "</div>"
       ],
       "metadata": {},
       "output_type": "pyout",
       "prompt_number": 117,
       "text": [
        "                          Vol  CmprTh  SkTh  LigThCrs  LigThFn  #cmprts  \\\n",
        "test_Mix_DPerc0_c_0.dcm   436       5   0.5       400      200      333   \n",
        "test_Mix_DPerc0_c_1.dcm   436       5   0.5       400      200      333   \n",
        "test_Mix_DPerc0_c_10.dcm  436       5   0.5       400      200      333   \n",
        "test_Mix_DPerc0_c_11.dcm  436       5   0.5       400      200      333   \n",
        "test_Mix_DPerc0_c_12.dcm  436       5   0.5       400      200      333   \n",
        "\n",
        "                          #cmprts.1  Dperc  VBD  VBD.1  BIRADS  min_speed  \\\n",
        "test_Mix_DPerc0_c_0.dcm        1000      0   24     21       1        0.5   \n",
        "test_Mix_DPerc0_c_1.dcm        1000      0   24     21       1        0.5   \n",
        "test_Mix_DPerc0_c_10.dcm       1000      0   24     21       1        0.5   \n",
        "test_Mix_DPerc0_c_11.dcm       1000      0   24     21       1        0.5   \n",
        "test_Mix_DPerc0_c_12.dcm       1000      0   24     21       1        0.5   \n",
        "\n",
        "                          max_speed  min_ratio  max_ratio       phantom_name  \n",
        "test_Mix_DPerc0_c_0.dcm           2        0.5          2  test_Mix_DPerc0_c  \n",
        "test_Mix_DPerc0_c_1.dcm           2        0.5          2  test_Mix_DPerc0_c  \n",
        "test_Mix_DPerc0_c_10.dcm          2        0.5          2  test_Mix_DPerc0_c  \n",
        "test_Mix_DPerc0_c_11.dcm          2        0.5          2  test_Mix_DPerc0_c  \n",
        "test_Mix_DPerc0_c_12.dcm          2        0.5          2  test_Mix_DPerc0_c  "
       ]
      }
     ],
     "prompt_number": 117
    },
    {
     "cell_type": "markdown",
     "metadata": {},
     "source": [
      "Select a random subset of the phantoms for use with the t-SNE algorithm"
     ]
    },
    {
     "cell_type": "code",
     "collapsed": false,
     "input": [
      "import random\n",
      "group = phantoms.groupby(phantom_meta.phantom_name)\n",
      "\n",
      "def select_random(x):\n",
      "    return x.ix[random.sample(x.index, 1)]\n",
      "random_synthetic_features = group.apply(select_random)\n",
      "\n",
      "random_synthetic_features.reset_index(drop=True, level=0, inplace=True)\n",
      "random_synthetic_features"
     ],
     "language": "python",
     "metadata": {},
     "outputs": [
      {
       "html": [
        "<div style=\"max-height:1000px;max-width:1500px;overflow:auto;\">\n",
        "<table border=\"1\" class=\"dataframe\">\n",
        "  <thead>\n",
        "    <tr style=\"text-align: right;\">\n",
        "      <th></th>\n",
        "      <th>contrast_cluster_1</th>\n",
        "      <th>dissimilarity_cluster_1</th>\n",
        "      <th>homogeneity_cluster_1</th>\n",
        "      <th>energy_cluster_1</th>\n",
        "      <th>contrast_cluster_2</th>\n",
        "      <th>dissimilarity_cluster_2</th>\n",
        "      <th>homogeneity_cluster_2</th>\n",
        "      <th>energy_cluster_2</th>\n",
        "      <th>contrast_cluster_3</th>\n",
        "      <th>dissimilarity_cluster_3</th>\n",
        "      <th>homogeneity_cluster_3</th>\n",
        "      <th>energy_cluster_3</th>\n",
        "      <th>contrast_cluster_4</th>\n",
        "      <th>dissimilarity_cluster_4</th>\n",
        "      <th>homogeneity_cluster_4</th>\n",
        "      <th>energy_cluster_4</th>\n",
        "    </tr>\n",
        "  </thead>\n",
        "  <tbody>\n",
        "    <tr>\n",
        "      <th>test_Mix_DPerc0_c_6.dcm</th>\n",
        "      <td> 1.289264e+08</td>\n",
        "      <td> 551006.50</td>\n",
        "      <td> 3662803.274767</td>\n",
        "      <td> 53445.460117</td>\n",
        "      <td> 2.306973e+08</td>\n",
        "      <td> 962567.50</td>\n",
        "      <td> 3659318.739485</td>\n",
        "      <td> 42593.927039</td>\n",
        "      <td> 3.455569e+08</td>\n",
        "      <td> 1411829.00</td>\n",
        "      <td> 3657185.743758</td>\n",
        "      <td> 57941.727834</td>\n",
        "      <td> 2.559077e+08</td>\n",
        "      <td> 1080401.25</td>\n",
        "      <td> 3637437.591758</td>\n",
        "      <td>  76573.368273</td>\n",
        "    </tr>\n",
        "    <tr>\n",
        "      <th>test_Mix_DPerc10_c_3.dcm</th>\n",
        "      <td> 1.382765e+08</td>\n",
        "      <td> 588710.75</td>\n",
        "      <td> 3662005.961962</td>\n",
        "      <td> 28960.985685</td>\n",
        "      <td> 2.301554e+08</td>\n",
        "      <td> 956916.00</td>\n",
        "      <td> 3658477.753351</td>\n",
        "      <td> 39581.689743</td>\n",
        "      <td> 1.096317e+09</td>\n",
        "      <td> 4418884.25</td>\n",
        "      <td> 3639789.584119</td>\n",
        "      <td> 55585.581781</td>\n",
        "      <td> 9.496640e+08</td>\n",
        "      <td> 3818397.00</td>\n",
        "      <td> 3642493.255595</td>\n",
        "      <td>  83856.953167</td>\n",
        "    </tr>\n",
        "    <tr>\n",
        "      <th>test_Mix_DPerc20_c_3.dcm</th>\n",
        "      <td> 5.541825e+07</td>\n",
        "      <td> 240940.50</td>\n",
        "      <td> 3665167.187222</td>\n",
        "      <td> 52121.902079</td>\n",
        "      <td> 1.394425e+08</td>\n",
        "      <td> 584554.75</td>\n",
        "      <td> 3660939.875182</td>\n",
        "      <td> 41342.833212</td>\n",
        "      <td> 8.630619e+08</td>\n",
        "      <td> 3480343.00</td>\n",
        "      <td> 3643674.748048</td>\n",
        "      <td> 97355.501648</td>\n",
        "      <td> 7.266742e+08</td>\n",
        "      <td> 2927117.25</td>\n",
        "      <td> 3644305.585281</td>\n",
        "      <td>  75286.592959</td>\n",
        "    </tr>\n",
        "    <tr>\n",
        "      <th>test_Mix_DPerc35_c_7.dcm</th>\n",
        "      <td> 4.736188e+07</td>\n",
        "      <td> 210227.75</td>\n",
        "      <td> 3663797.672162</td>\n",
        "      <td> 45032.226662</td>\n",
        "      <td> 2.066614e+08</td>\n",
        "      <td> 854896.25</td>\n",
        "      <td> 3658942.095173</td>\n",
        "      <td> 43871.778160</td>\n",
        "      <td> 6.274249e+08</td>\n",
        "      <td> 2529067.00</td>\n",
        "      <td> 3647462.072949</td>\n",
        "      <td> 92228.524380</td>\n",
        "      <td> 4.550624e+08</td>\n",
        "      <td> 1828349.75</td>\n",
        "      <td> 3652664.802134</td>\n",
        "      <td>  79720.458224</td>\n",
        "    </tr>\n",
        "    <tr>\n",
        "      <th>test_Mix_DPerc5_c_6.dcm</th>\n",
        "      <td> 4.005631e+07</td>\n",
        "      <td> 180438.50</td>\n",
        "      <td> 3664749.354619</td>\n",
        "      <td> 38294.706842</td>\n",
        "      <td> 1.566761e+08</td>\n",
        "      <td> 660404.50</td>\n",
        "      <td> 3660755.434569</td>\n",
        "      <td> 42336.236493</td>\n",
        "      <td> 3.231703e+08</td>\n",
        "      <td> 1323028.00</td>\n",
        "      <td> 3656627.025249</td>\n",
        "      <td> 38625.867028</td>\n",
        "      <td> 2.629593e+08</td>\n",
        "      <td> 1100958.50</td>\n",
        "      <td> 3641405.868696</td>\n",
        "      <td> 103933.893189</td>\n",
        "    </tr>\n",
        "    <tr>\n",
        "      <th>test_Mix_DPerc75_c_10.dcm</th>\n",
        "      <td> 3.715249e+07</td>\n",
        "      <td> 163717.50</td>\n",
        "      <td> 3665041.626076</td>\n",
        "      <td> 49269.152625</td>\n",
        "      <td> 1.884157e+08</td>\n",
        "      <td> 777045.25</td>\n",
        "      <td> 3660657.189942</td>\n",
        "      <td> 44628.508039</td>\n",
        "      <td> 4.566236e+08</td>\n",
        "      <td> 1843255.50</td>\n",
        "      <td> 3650387.653658</td>\n",
        "      <td> 96029.157381</td>\n",
        "      <td> 3.009384e+08</td>\n",
        "      <td> 1202946.25</td>\n",
        "      <td> 3658487.012120</td>\n",
        "      <td>  75580.943172</td>\n",
        "    </tr>\n",
        "  </tbody>\n",
        "</table>\n",
        "</div>"
       ],
       "metadata": {},
       "output_type": "pyout",
       "prompt_number": 122,
       "text": [
        "                           contrast_cluster_1  dissimilarity_cluster_1  \\\n",
        "test_Mix_DPerc0_c_6.dcm          1.289264e+08                551006.50   \n",
        "test_Mix_DPerc10_c_3.dcm         1.382765e+08                588710.75   \n",
        "test_Mix_DPerc20_c_3.dcm         5.541825e+07                240940.50   \n",
        "test_Mix_DPerc35_c_7.dcm         4.736188e+07                210227.75   \n",
        "test_Mix_DPerc5_c_6.dcm          4.005631e+07                180438.50   \n",
        "test_Mix_DPerc75_c_10.dcm        3.715249e+07                163717.50   \n",
        "\n",
        "                           homogeneity_cluster_1  energy_cluster_1  \\\n",
        "test_Mix_DPerc0_c_6.dcm           3662803.274767      53445.460117   \n",
        "test_Mix_DPerc10_c_3.dcm          3662005.961962      28960.985685   \n",
        "test_Mix_DPerc20_c_3.dcm          3665167.187222      52121.902079   \n",
        "test_Mix_DPerc35_c_7.dcm          3663797.672162      45032.226662   \n",
        "test_Mix_DPerc5_c_6.dcm           3664749.354619      38294.706842   \n",
        "test_Mix_DPerc75_c_10.dcm         3665041.626076      49269.152625   \n",
        "\n",
        "                           contrast_cluster_2  dissimilarity_cluster_2  \\\n",
        "test_Mix_DPerc0_c_6.dcm          2.306973e+08                962567.50   \n",
        "test_Mix_DPerc10_c_3.dcm         2.301554e+08                956916.00   \n",
        "test_Mix_DPerc20_c_3.dcm         1.394425e+08                584554.75   \n",
        "test_Mix_DPerc35_c_7.dcm         2.066614e+08                854896.25   \n",
        "test_Mix_DPerc5_c_6.dcm          1.566761e+08                660404.50   \n",
        "test_Mix_DPerc75_c_10.dcm        1.884157e+08                777045.25   \n",
        "\n",
        "                           homogeneity_cluster_2  energy_cluster_2  \\\n",
        "test_Mix_DPerc0_c_6.dcm           3659318.739485      42593.927039   \n",
        "test_Mix_DPerc10_c_3.dcm          3658477.753351      39581.689743   \n",
        "test_Mix_DPerc20_c_3.dcm          3660939.875182      41342.833212   \n",
        "test_Mix_DPerc35_c_7.dcm          3658942.095173      43871.778160   \n",
        "test_Mix_DPerc5_c_6.dcm           3660755.434569      42336.236493   \n",
        "test_Mix_DPerc75_c_10.dcm         3660657.189942      44628.508039   \n",
        "\n",
        "                           contrast_cluster_3  dissimilarity_cluster_3  \\\n",
        "test_Mix_DPerc0_c_6.dcm          3.455569e+08               1411829.00   \n",
        "test_Mix_DPerc10_c_3.dcm         1.096317e+09               4418884.25   \n",
        "test_Mix_DPerc20_c_3.dcm         8.630619e+08               3480343.00   \n",
        "test_Mix_DPerc35_c_7.dcm         6.274249e+08               2529067.00   \n",
        "test_Mix_DPerc5_c_6.dcm          3.231703e+08               1323028.00   \n",
        "test_Mix_DPerc75_c_10.dcm        4.566236e+08               1843255.50   \n",
        "\n",
        "                           homogeneity_cluster_3  energy_cluster_3  \\\n",
        "test_Mix_DPerc0_c_6.dcm           3657185.743758      57941.727834   \n",
        "test_Mix_DPerc10_c_3.dcm          3639789.584119      55585.581781   \n",
        "test_Mix_DPerc20_c_3.dcm          3643674.748048      97355.501648   \n",
        "test_Mix_DPerc35_c_7.dcm          3647462.072949      92228.524380   \n",
        "test_Mix_DPerc5_c_6.dcm           3656627.025249      38625.867028   \n",
        "test_Mix_DPerc75_c_10.dcm         3650387.653658      96029.157381   \n",
        "\n",
        "                           contrast_cluster_4  dissimilarity_cluster_4  \\\n",
        "test_Mix_DPerc0_c_6.dcm          2.559077e+08               1080401.25   \n",
        "test_Mix_DPerc10_c_3.dcm         9.496640e+08               3818397.00   \n",
        "test_Mix_DPerc20_c_3.dcm         7.266742e+08               2927117.25   \n",
        "test_Mix_DPerc35_c_7.dcm         4.550624e+08               1828349.75   \n",
        "test_Mix_DPerc5_c_6.dcm          2.629593e+08               1100958.50   \n",
        "test_Mix_DPerc75_c_10.dcm        3.009384e+08               1202946.25   \n",
        "\n",
        "                           homogeneity_cluster_4  energy_cluster_4  \n",
        "test_Mix_DPerc0_c_6.dcm           3637437.591758      76573.368273  \n",
        "test_Mix_DPerc10_c_3.dcm          3642493.255595      83856.953167  \n",
        "test_Mix_DPerc20_c_3.dcm          3644305.585281      75286.592959  \n",
        "test_Mix_DPerc35_c_7.dcm          3652664.802134      79720.458224  \n",
        "test_Mix_DPerc5_c_6.dcm           3641405.868696     103933.893189  \n",
        "test_Mix_DPerc75_c_10.dcm         3658487.012120      75580.943172  "
       ]
      }
     ],
     "prompt_number": 122
    },
    {
     "cell_type": "code",
     "collapsed": false,
     "input": [
      "features = pd.concat([hologic_cluster, random_synthetic_features])\n",
      "\n",
      "class_labels = pd.concat([hologic_meta.BIRADS, phantom_meta.loc[random_synthetic_features.index].BIRADS])\n",
      "class_labels.shape"
     ],
     "language": "python",
     "metadata": {},
     "outputs": [
      {
       "metadata": {},
       "output_type": "pyout",
       "prompt_number": 132,
       "text": [
        "(366,)"
       ]
      }
     ],
     "prompt_number": 132
    },
    {
     "cell_type": "code",
     "collapsed": false,
     "input": [
      "columns = filter(lambda x: 'homogeneity' not in x, features.columns)"
     ],
     "language": "python",
     "metadata": {},
     "outputs": [],
     "prompt_number": 213
    },
    {
     "cell_type": "code",
     "collapsed": false,
     "input": [
      "joint_mapping = mia.analysis.tSNE(features[columns], verbose=2, learning_rate=300)"
     ],
     "language": "python",
     "metadata": {},
     "outputs": [
      {
       "output_type": "stream",
       "stream": "stdout",
       "text": [
        "[t-SNE] Computing pairwise distances...\n",
        "[t-SNE] Computed conditional probabilities for sample 366 / 366"
       ]
      },
      {
       "output_type": "stream",
       "stream": "stdout",
       "text": [
        "\n",
        "[t-SNE] Mean sigma: 0.575752\n",
        "[t-SNE] Iteration 10: error = 16.4174517, gradient norm = 0.1587858"
       ]
      },
      {
       "output_type": "stream",
       "stream": "stdout",
       "text": [
        "\n",
        "[t-SNE] Iteration 20: error = 13.4212003, gradient norm = 0.1597509"
       ]
      },
      {
       "output_type": "stream",
       "stream": "stdout",
       "text": [
        "\n",
        "[t-SNE] Iteration 30: error = 13.1282000, gradient norm = 0.1497105"
       ]
      },
      {
       "output_type": "stream",
       "stream": "stdout",
       "text": [
        "\n",
        "[t-SNE] Iteration 40: error = 12.6614001, gradient norm = 0.1495442"
       ]
      },
      {
       "output_type": "stream",
       "stream": "stdout",
       "text": [
        "\n",
        "[t-SNE] Iteration 50: error = 12.9267517, gradient norm = 0.1458217"
       ]
      },
      {
       "output_type": "stream",
       "stream": "stdout",
       "text": [
        "\n",
        "[t-SNE] Iteration 60: error = 12.4563635, gradient norm = 0.1550798"
       ]
      },
      {
       "output_type": "stream",
       "stream": "stdout",
       "text": [
        "\n",
        "[t-SNE] Iteration 70: error = 12.5049876, gradient norm = 0.1562701"
       ]
      },
      {
       "output_type": "stream",
       "stream": "stdout",
       "text": [
        "\n",
        "[t-SNE] Iteration 80: error = 12.7761028, gradient norm = 0.1421605"
       ]
      },
      {
       "output_type": "stream",
       "stream": "stdout",
       "text": [
        "\n",
        "[t-SNE] Iteration 83: did not make any progress during the last 30 episodes. Finished.\n",
        "[t-SNE] Error after 83 iterations with early exaggeration: 13.093702\n",
        "[t-SNE] Iteration 90: error = 0.8760613, gradient norm = 0.0257260"
       ]
      },
      {
       "output_type": "stream",
       "stream": "stdout",
       "text": [
        "\n",
        "[t-SNE] Iteration 100: error = 0.5608583, gradient norm = 0.0093508"
       ]
      },
      {
       "output_type": "stream",
       "stream": "stdout",
       "text": [
        "\n",
        "[t-SNE] Iteration 110: error = 0.5177783, gradient norm = 0.0030459"
       ]
      },
      {
       "output_type": "stream",
       "stream": "stdout",
       "text": [
        "\n",
        "[t-SNE] Iteration 120: error = 0.5073383, gradient norm = 0.0012317"
       ]
      },
      {
       "output_type": "stream",
       "stream": "stdout",
       "text": [
        "\n",
        "[t-SNE] Iteration 130: error = 0.5029114, gradient norm = 0.0007389"
       ]
      },
      {
       "output_type": "stream",
       "stream": "stdout",
       "text": [
        "\n",
        "[t-SNE] Iteration 140: error = 0.5006705, gradient norm = 0.0006484"
       ]
      },
      {
       "output_type": "stream",
       "stream": "stdout",
       "text": [
        "\n",
        "[t-SNE] Iteration 150: error = 0.4994553, gradient norm = 0.0006244"
       ]
      },
      {
       "output_type": "stream",
       "stream": "stdout",
       "text": [
        "\n",
        "[t-SNE] Iteration 160: error = 0.4987725, gradient norm = 0.0006113"
       ]
      },
      {
       "output_type": "stream",
       "stream": "stdout",
       "text": [
        "\n",
        "[t-SNE] Iteration 170: error = 0.4983793, gradient norm = 0.0006043"
       ]
      },
      {
       "output_type": "stream",
       "stream": "stdout",
       "text": [
        "\n",
        "[t-SNE] Iteration 180: error = 0.4981494, gradient norm = 0.0006002"
       ]
      },
      {
       "output_type": "stream",
       "stream": "stdout",
       "text": [
        "\n",
        "[t-SNE] Iteration 190: error = 0.4980136, gradient norm = 0.0005978"
       ]
      },
      {
       "output_type": "stream",
       "stream": "stdout",
       "text": [
        "\n",
        "[t-SNE] Iteration 200: error = 0.4979330, gradient norm = 0.0005963"
       ]
      },
      {
       "output_type": "stream",
       "stream": "stdout",
       "text": [
        "\n",
        "[t-SNE] Iteration 210: error = 0.4978849, gradient norm = 0.0005955"
       ]
      },
      {
       "output_type": "stream",
       "stream": "stdout",
       "text": [
        "\n",
        "[t-SNE] Iteration 220: error = 0.4978563, gradient norm = 0.0005950"
       ]
      },
      {
       "output_type": "stream",
       "stream": "stdout",
       "text": [
        "\n",
        "[t-SNE] Iteration 230: error = 0.4978391, gradient norm = 0.0005947"
       ]
      },
      {
       "output_type": "stream",
       "stream": "stdout",
       "text": [
        "\n",
        "[t-SNE] Iteration 240: error = 0.4978289, gradient norm = 0.0005945"
       ]
      },
      {
       "output_type": "stream",
       "stream": "stdout",
       "text": [
        "\n",
        "[t-SNE] Iteration 250: error = 0.4978227, gradient norm = 0.0005944"
       ]
      },
      {
       "output_type": "stream",
       "stream": "stdout",
       "text": [
        "\n",
        "[t-SNE] Iteration 260: error = 0.4978191, gradient norm = 0.0005943"
       ]
      },
      {
       "output_type": "stream",
       "stream": "stdout",
       "text": [
        "\n",
        "[t-SNE] Iteration 270: error = 0.4978169, gradient norm = 0.0005943"
       ]
      },
      {
       "output_type": "stream",
       "stream": "stdout",
       "text": [
        "\n",
        "[t-SNE] Iteration 280: error = 0.4978155, gradient norm = 0.0005943"
       ]
      },
      {
       "output_type": "stream",
       "stream": "stdout",
       "text": [
        "\n",
        "[t-SNE] Iteration 281: error difference 0.000000. Finished.\n",
        "[t-SNE] Error after 281 iterations: 0.497815\n"
       ]
      }
     ],
     "prompt_number": 203
    },
    {
     "cell_type": "markdown",
     "metadata": {},
     "source": [
      "Plotting both reals and phantoms together as a single scatter plot:"
     ]
    },
    {
     "cell_type": "code",
     "collapsed": false,
     "input": [
      "%matplotlib qt\n",
      "joint_mapping['BIRADS'] = class_labels\n",
      "hol_map = joint_mapping[:-6]\n",
      "hol_map.shape\n",
      "\n",
      "syn_map = joint_mapping[-6:]\n",
      "syn_map.head()\n",
      "\n",
      "ax = mia.plotting.plot_scatter_2d(hol_map, [0,1], 'BIRADS')\n",
      "ax = mia.plotting.plot_scatter_2d(syn_map, [0,1], 'BIRADS', ax=ax, marker='^', s=50)"
     ],
     "language": "python",
     "metadata": {},
     "outputs": [],
     "prompt_number": 212
    },
    {
     "cell_type": "code",
     "collapsed": false,
     "input": [
      "random_synthetic_features.describe() - hologic_cluster.describe()"
     ],
     "language": "python",
     "metadata": {},
     "outputs": [
      {
       "html": [
        "<div style=\"max-height:1000px;max-width:1500px;overflow:auto;\">\n",
        "<table border=\"1\" class=\"dataframe\">\n",
        "  <thead>\n",
        "    <tr style=\"text-align: right;\">\n",
        "      <th></th>\n",
        "      <th>contrast_cluster_1</th>\n",
        "      <th>dissimilarity_cluster_1</th>\n",
        "      <th>homogeneity_cluster_1</th>\n",
        "      <th>energy_cluster_1</th>\n",
        "      <th>contrast_cluster_2</th>\n",
        "      <th>dissimilarity_cluster_2</th>\n",
        "      <th>homogeneity_cluster_2</th>\n",
        "      <th>energy_cluster_2</th>\n",
        "      <th>contrast_cluster_3</th>\n",
        "      <th>dissimilarity_cluster_3</th>\n",
        "      <th>homogeneity_cluster_3</th>\n",
        "      <th>energy_cluster_3</th>\n",
        "      <th>contrast_cluster_4</th>\n",
        "      <th>dissimilarity_cluster_4</th>\n",
        "      <th>homogeneity_cluster_4</th>\n",
        "      <th>energy_cluster_4</th>\n",
        "    </tr>\n",
        "  </thead>\n",
        "  <tbody>\n",
        "    <tr>\n",
        "      <th>count</th>\n",
        "      <td>-3.540000e+02</td>\n",
        "      <td>     -354.000000</td>\n",
        "      <td>    -354.000000</td>\n",
        "      <td>  -354.000000</td>\n",
        "      <td>-3.540000e+02</td>\n",
        "      <td>     -354.000000</td>\n",
        "      <td>    -354.000000</td>\n",
        "      <td>   -354.000000</td>\n",
        "      <td>-3.540000e+02</td>\n",
        "      <td>-3.540000e+02</td>\n",
        "      <td>    -354.000000</td>\n",
        "      <td>   -354.000000</td>\n",
        "      <td>-3.540000e+02</td>\n",
        "      <td>     -354.000000</td>\n",
        "      <td>    -354.000000</td>\n",
        "      <td>  -354.000000</td>\n",
        "    </tr>\n",
        "    <tr>\n",
        "      <th>mean</th>\n",
        "      <td>-3.471572e+08</td>\n",
        "      <td>-10930283.923611</td>\n",
        "      <td>-6402789.438092</td>\n",
        "      <td>-28498.201271</td>\n",
        "      <td>-1.785893e+09</td>\n",
        "      <td>-30031024.609028</td>\n",
        "      <td>-6284383.394894</td>\n",
        "      <td> -40080.248296</td>\n",
        "      <td>-3.131587e+09</td>\n",
        "      <td>-3.897421e+07</td>\n",
        "      <td>-6335356.628016</td>\n",
        "      <td>  -5954.835599</td>\n",
        "      <td>-1.915045e+09</td>\n",
        "      <td>-19744053.645139</td>\n",
        "      <td>-6784295.703629</td>\n",
        "      <td> 24317.489556</td>\n",
        "    </tr>\n",
        "    <tr>\n",
        "      <th>std</th>\n",
        "      <td>-2.303295e+08</td>\n",
        "      <td> -6669743.006260</td>\n",
        "      <td>-2302256.699216</td>\n",
        "      <td>-14454.358176</td>\n",
        "      <td>-1.226421e+09</td>\n",
        "      <td>-19925311.553204</td>\n",
        "      <td>-2188673.993117</td>\n",
        "      <td> -34683.839547</td>\n",
        "      <td>-2.211510e+09</td>\n",
        "      <td>-2.823480e+07</td>\n",
        "      <td>-2137806.775196</td>\n",
        "      <td> -13787.374858</td>\n",
        "      <td>-1.582827e+09</td>\n",
        "      <td>-16642677.608562</td>\n",
        "      <td>-2349208.283240</td>\n",
        "      <td> -9909.520978</td>\n",
        "    </tr>\n",
        "    <tr>\n",
        "      <th>min</th>\n",
        "      <td>-3.780830e+07</td>\n",
        "      <td> -1970660.750000</td>\n",
        "      <td>-3611006.038227</td>\n",
        "      <td>  -224.249771</td>\n",
        "      <td>-1.700863e+08</td>\n",
        "      <td> -4646772.750000</td>\n",
        "      <td>-3666852.205031</td>\n",
        "      <td>   4265.839270</td>\n",
        "      <td>-3.668226e+08</td>\n",
        "      <td>-6.096884e+06</td>\n",
        "      <td>-3720603.120880</td>\n",
        "      <td>   9479.079436</td>\n",
        "      <td>-1.833975e+08</td>\n",
        "      <td> -2659986.250000</td>\n",
        "      <td>-4314395.676846</td>\n",
        "      <td> 50184.657298</td>\n",
        "    </tr>\n",
        "    <tr>\n",
        "      <th>25%</th>\n",
        "      <td>-1.680347e+08</td>\n",
        "      <td> -5644954.187500</td>\n",
        "      <td>-4320432.937471</td>\n",
        "      <td>-15904.433861</td>\n",
        "      <td>-7.481320e+08</td>\n",
        "      <td>-12961745.250000</td>\n",
        "      <td>-4351030.258263</td>\n",
        "      <td> -14096.681674</td>\n",
        "      <td>-1.299226e+09</td>\n",
        "      <td>-1.544254e+07</td>\n",
        "      <td>-4440650.296657</td>\n",
        "      <td>   4739.420079</td>\n",
        "      <td>-7.914160e+08</td>\n",
        "      <td> -7837961.125000</td>\n",
        "      <td>-4652986.150354</td>\n",
        "      <td> 30268.965165</td>\n",
        "    </tr>\n",
        "    <tr>\n",
        "      <th>50%</th>\n",
        "      <td>-2.893096e+08</td>\n",
        "      <td> -8969151.625000</td>\n",
        "      <td>-4598166.617793</td>\n",
        "      <td>-19669.673215</td>\n",
        "      <td>-1.447143e+09</td>\n",
        "      <td>-24490327.000000</td>\n",
        "      <td>-4578058.258306</td>\n",
        "      <td> -27598.871381</td>\n",
        "      <td>-2.123659e+09</td>\n",
        "      <td>-2.649811e+07</td>\n",
        "      <td>-4631287.500777</td>\n",
        "      <td>  11405.435315</td>\n",
        "      <td>-1.104483e+09</td>\n",
        "      <td>-11165600.875000</td>\n",
        "      <td>-4732512.514484</td>\n",
        "      <td> 25266.269413</td>\n",
        "    </tr>\n",
        "    <tr>\n",
        "      <th>75%</th>\n",
        "      <td>-4.722470e+08</td>\n",
        "      <td>-15021015.187500</td>\n",
        "      <td>-8862648.149257</td>\n",
        "      <td>-35709.537162</td>\n",
        "      <td>-2.474048e+09</td>\n",
        "      <td>-41708742.687500</td>\n",
        "      <td>-8590099.385389</td>\n",
        "      <td> -55294.361379</td>\n",
        "      <td>-4.627798e+09</td>\n",
        "      <td>-5.631630e+07</td>\n",
        "      <td>-8655609.223456</td>\n",
        "      <td>  -1732.795363</td>\n",
        "      <td>-2.869220e+09</td>\n",
        "      <td>-28466116.000000</td>\n",
        "      <td>-9350053.244120</td>\n",
        "      <td> 18897.068134</td>\n",
        "    </tr>\n",
        "    <tr>\n",
        "      <th>max</th>\n",
        "      <td>-1.346652e+09</td>\n",
        "      <td>-32273665.250000</td>\n",
        "      <td>-9721225.033498</td>\n",
        "      <td>-92768.273617</td>\n",
        "      <td>-5.757936e+09</td>\n",
        "      <td>-94930068.000000</td>\n",
        "      <td>-9590192.566618</td>\n",
        "      <td>-184062.020468</td>\n",
        "      <td>-1.034807e+10</td>\n",
        "      <td>-1.279552e+08</td>\n",
        "      <td>-9545922.986910</td>\n",
        "      <td>-139384.968335</td>\n",
        "      <td>-8.751343e+09</td>\n",
        "      <td>-82078711.750000</td>\n",
        "      <td>-9820911.412866</td>\n",
        "      <td>-49430.650173</td>\n",
        "    </tr>\n",
        "  </tbody>\n",
        "</table>\n",
        "</div>"
       ],
       "metadata": {},
       "output_type": "pyout",
       "prompt_number": 198,
       "text": [
        "       contrast_cluster_1  dissimilarity_cluster_1  homogeneity_cluster_1  \\\n",
        "count       -3.540000e+02              -354.000000            -354.000000   \n",
        "mean        -3.471572e+08         -10930283.923611        -6402789.438092   \n",
        "std         -2.303295e+08          -6669743.006260        -2302256.699216   \n",
        "min         -3.780830e+07          -1970660.750000        -3611006.038227   \n",
        "25%         -1.680347e+08          -5644954.187500        -4320432.937471   \n",
        "50%         -2.893096e+08          -8969151.625000        -4598166.617793   \n",
        "75%         -4.722470e+08         -15021015.187500        -8862648.149257   \n",
        "max         -1.346652e+09         -32273665.250000        -9721225.033498   \n",
        "\n",
        "       energy_cluster_1  contrast_cluster_2  dissimilarity_cluster_2  \\\n",
        "count       -354.000000       -3.540000e+02              -354.000000   \n",
        "mean      -28498.201271       -1.785893e+09         -30031024.609028   \n",
        "std       -14454.358176       -1.226421e+09         -19925311.553204   \n",
        "min         -224.249771       -1.700863e+08          -4646772.750000   \n",
        "25%       -15904.433861       -7.481320e+08         -12961745.250000   \n",
        "50%       -19669.673215       -1.447143e+09         -24490327.000000   \n",
        "75%       -35709.537162       -2.474048e+09         -41708742.687500   \n",
        "max       -92768.273617       -5.757936e+09         -94930068.000000   \n",
        "\n",
        "       homogeneity_cluster_2  energy_cluster_2  contrast_cluster_3  \\\n",
        "count            -354.000000       -354.000000       -3.540000e+02   \n",
        "mean         -6284383.394894     -40080.248296       -3.131587e+09   \n",
        "std          -2188673.993117     -34683.839547       -2.211510e+09   \n",
        "min          -3666852.205031       4265.839270       -3.668226e+08   \n",
        "25%          -4351030.258263     -14096.681674       -1.299226e+09   \n",
        "50%          -4578058.258306     -27598.871381       -2.123659e+09   \n",
        "75%          -8590099.385389     -55294.361379       -4.627798e+09   \n",
        "max          -9590192.566618    -184062.020468       -1.034807e+10   \n",
        "\n",
        "       dissimilarity_cluster_3  homogeneity_cluster_3  energy_cluster_3  \\\n",
        "count            -3.540000e+02            -354.000000       -354.000000   \n",
        "mean             -3.897421e+07        -6335356.628016      -5954.835599   \n",
        "std              -2.823480e+07        -2137806.775196     -13787.374858   \n",
        "min              -6.096884e+06        -3720603.120880       9479.079436   \n",
        "25%              -1.544254e+07        -4440650.296657       4739.420079   \n",
        "50%              -2.649811e+07        -4631287.500777      11405.435315   \n",
        "75%              -5.631630e+07        -8655609.223456      -1732.795363   \n",
        "max              -1.279552e+08        -9545922.986910    -139384.968335   \n",
        "\n",
        "       contrast_cluster_4  dissimilarity_cluster_4  homogeneity_cluster_4  \\\n",
        "count       -3.540000e+02              -354.000000            -354.000000   \n",
        "mean        -1.915045e+09         -19744053.645139        -6784295.703629   \n",
        "std         -1.582827e+09         -16642677.608562        -2349208.283240   \n",
        "min         -1.833975e+08          -2659986.250000        -4314395.676846   \n",
        "25%         -7.914160e+08          -7837961.125000        -4652986.150354   \n",
        "50%         -1.104483e+09         -11165600.875000        -4732512.514484   \n",
        "75%         -2.869220e+09         -28466116.000000        -9350053.244120   \n",
        "max         -8.751343e+09         -82078711.750000        -9820911.412866   \n",
        "\n",
        "       energy_cluster_4  \n",
        "count       -354.000000  \n",
        "mean       24317.489556  \n",
        "std        -9909.520978  \n",
        "min        50184.657298  \n",
        "25%        30268.965165  \n",
        "50%        25266.269413  \n",
        "75%        18897.068134  \n",
        "max       -49430.650173  "
       ]
      }
     ],
     "prompt_number": 198
    },
    {
     "cell_type": "code",
     "collapsed": false,
     "input": [
      "f = features[filter(lambda x: '4' in x, features[columns].columns)].copy()\n",
      "f['BIRADS'] = class_labels\n",
      "mia.plotting.plot_scattermatrix(f, 'BIRADS')"
     ],
     "language": "python",
     "metadata": {},
     "outputs": [
      {
       "metadata": {},
       "output_type": "display_data",
       "png": "[encoded data removed]",
       "text": [
        "<matplotlib.figure.Figure at 0x1334270d0>"
       ]
      }
     ],
     "prompt_number": 207
    }
   ],
   "metadata": {}
  }
 ]
}