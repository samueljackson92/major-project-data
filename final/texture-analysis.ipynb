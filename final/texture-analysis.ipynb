{
 "metadata": {
  "name": "",
  "signature": "sha256:1f1920f4bd9d1a61b6f04e8cc027011fa5a9e67895fc809204bbabd7024603e2"
 },
 "nbformat": 3,
 "nbformat_minor": 0,
 "worksheets": [
  {
   "cells": [
    {
     "cell_type": "code",
     "collapsed": false,
     "input": [
      "%matplotlib qt\n",
      "import pandas as pd\n",
      "import numpy as np\n",
      "import scipy.stats as stats\n",
      "import matplotlib.pyplot as plt\n",
      "import mia"
     ],
     "language": "python",
     "metadata": {},
     "outputs": [
      {
       "output_type": "stream",
       "stream": "stdout",
       "text": [
        "Warning: Cannot change to a different GUI toolkit: qt. Using osx instead.\n"
       ]
      }
     ],
     "prompt_number": 41
    },
    {
     "cell_type": "markdown",
     "metadata": {},
     "source": [
      "#Loading and Preprocessing"
     ]
    },
    {
     "cell_type": "markdown",
     "metadata": {},
     "source": [
      "Loading the hologic and synthetic datasets."
     ]
    },
    {
     "cell_type": "code",
     "collapsed": false,
     "input": [
      "hologic = pd.DataFrame.from_csv(\"real_texture.csv\")\n",
      "hologic.drop(hologic.columns[:2], axis=1, inplace=True)\n",
      "hologic.drop('breast_area', axis=1, inplace=True)\n",
      "\n",
      "phantom = pd.DataFrame.from_csv(\"synthetic_texture.csv\")\n",
      "phantom.drop(phantom.columns[:2], axis=1, inplace=True)\n",
      "phantom.drop('breast_area', axis=1, inplace=True)"
     ],
     "language": "python",
     "metadata": {},
     "outputs": [],
     "prompt_number": 3
    },
    {
     "cell_type": "markdown",
     "metadata": {},
     "source": [
      "Loading the meta data for the real and synthetic datasets. "
     ]
    },
    {
     "cell_type": "code",
     "collapsed": false,
     "input": [
      "hologic_meta = mia.analysis.create_hologic_meta_data(hologic, \"meta_data/real_meta.csv\")\n",
      "phantom_meta = mia.analysis.create_synthetic_meta_data(phantom, \"meta_data/synthetic_meta.csv\")\n",
      "phantom_meta.index.name = 'img_name'"
     ],
     "language": "python",
     "metadata": {},
     "outputs": [],
     "prompt_number": 4
    },
    {
     "cell_type": "markdown",
     "metadata": {},
     "source": [
      "Prepare the BI-RADS/VBD labels for both datasets."
     ]
    },
    {
     "cell_type": "code",
     "collapsed": false,
     "input": [
      "hologic_labels = hologic_meta.drop_duplicates().BIRADS\n",
      "phantom_labels = phantom_meta['VBD.1']\n",
      "\n",
      "class_labels = pd.concat([hologic_labels, phantom_labels])\n",
      "class_labels.index.name = \"img_name\"\n",
      "labels = mia.analysis.remove_duplicate_index(class_labels)[0]"
     ],
     "language": "python",
     "metadata": {},
     "outputs": [],
     "prompt_number": 5
    },
    {
     "cell_type": "markdown",
     "metadata": {},
     "source": [
      "# Creating Features"
     ]
    },
    {
     "cell_type": "markdown",
     "metadata": {},
     "source": [
      "Create blob features from distribution of blobs"
     ]
    },
    {
     "cell_type": "code",
     "collapsed": false,
     "input": [
      "hologic_texture_features = mia.analysis.group_by_scale_space(hologic)\n",
      "phantom_texture_features = mia.analysis.group_by_scale_space(phantom)"
     ],
     "language": "python",
     "metadata": {},
     "outputs": [],
     "prompt_number": 6
    },
    {
     "cell_type": "markdown",
     "metadata": {},
     "source": [
      "Take a random subset of the phantom mammograms. This is important so that each case is not over represented."
     ]
    },
    {
     "cell_type": "code",
     "collapsed": false,
     "input": [
      "syn_feature_meta = mia.analysis.remove_duplicate_index(phantom_meta)\n",
      "phantom_texture_features['phantom_name'] = syn_feature_meta.phantom_name.tolist()\n",
      "phantom_texture_features_subset = mia.analysis.create_random_subset(phantom_texture_features, 'phantom_name')\n",
      "\n",
      "# hologic_texture_features['patient_id'] = hologic_meta['patient_id'].drop_duplicates()\n",
      "# hologic_texture_features_subset = mia.analysis.create_random_subset(hologic_texture_features, 'patient_id')"
     ],
     "language": "python",
     "metadata": {},
     "outputs": [],
     "prompt_number": 7
    },
    {
     "cell_type": "markdown",
     "metadata": {},
     "source": [
      "Combine the features from both datasets."
     ]
    },
    {
     "cell_type": "code",
     "collapsed": false,
     "input": [
      "features = pd.concat([hologic_texture_features, phantom_texture_features_subset])\n",
      "assert features.shape[0] == 366\n",
      "features.head()"
     ],
     "language": "python",
     "metadata": {},
     "outputs": [
      {
       "html": [
        "<div style=\"max-height:1000px;max-width:1500px;overflow:auto;\">\n",
        "<table border=\"1\" class=\"dataframe\">\n",
        "  <thead>\n",
        "    <tr style=\"text-align: right;\">\n",
        "      <th></th>\n",
        "      <th>contrast</th>\n",
        "      <th>dissimilarity</th>\n",
        "      <th>homogeneity</th>\n",
        "      <th>energy</th>\n",
        "      <th>contrast_1</th>\n",
        "      <th>dissimilarity_1</th>\n",
        "      <th>homogeneity_1</th>\n",
        "      <th>energy_1</th>\n",
        "      <th>contrast_2</th>\n",
        "      <th>dissimilarity_2</th>\n",
        "      <th>...</th>\n",
        "      <th>homogeneity_7</th>\n",
        "      <th>energy_7</th>\n",
        "      <th>contrast_8</th>\n",
        "      <th>dissimilarity_8</th>\n",
        "      <th>homogeneity_8</th>\n",
        "      <th>energy_8</th>\n",
        "      <th>contrast_9</th>\n",
        "      <th>dissimilarity_9</th>\n",
        "      <th>homogeneity_9</th>\n",
        "      <th>energy_9</th>\n",
        "    </tr>\n",
        "  </thead>\n",
        "  <tbody>\n",
        "    <tr>\n",
        "      <th>p214-010-60001-cl.png</th>\n",
        "      <td> 180.015284</td>\n",
        "      <td> 10.623496</td>\n",
        "      <td> 0.092774</td>\n",
        "      <td> 0.068239</td>\n",
        "      <td> 281.402566</td>\n",
        "      <td> 10.773226</td>\n",
        "      <td> 0.103179</td>\n",
        "      <td> 0.056349</td>\n",
        "      <td> 166.662740</td>\n",
        "      <td> 10.250118</td>\n",
        "      <td>...</td>\n",
        "      <td> 0.099589</td>\n",
        "      <td> 0.016556</td>\n",
        "      <td> 163.937053</td>\n",
        "      <td> 10.084599</td>\n",
        "      <td> 0.099519</td>\n",
        "      <td> 0.013505</td>\n",
        "      <td> 157.454233</td>\n",
        "      <td> 9.781551</td>\n",
        "      <td> 0.105151</td>\n",
        "      <td> 0.019975</td>\n",
        "    </tr>\n",
        "    <tr>\n",
        "      <th>p214-010-60001-cr.png</th>\n",
        "      <td> 241.273806</td>\n",
        "      <td> 10.449699</td>\n",
        "      <td> 0.101719</td>\n",
        "      <td> 0.073124</td>\n",
        "      <td> 257.052029</td>\n",
        "      <td> 10.725951</td>\n",
        "      <td> 0.098164</td>\n",
        "      <td> 0.051589</td>\n",
        "      <td> 236.447806</td>\n",
        "      <td> 10.048496</td>\n",
        "      <td>...</td>\n",
        "      <td> 0.104395</td>\n",
        "      <td> 0.015297</td>\n",
        "      <td> 166.288393</td>\n",
        "      <td>  9.918993</td>\n",
        "      <td> 0.107002</td>\n",
        "      <td> 0.022819</td>\n",
        "      <td> 157.454233</td>\n",
        "      <td> 9.781551</td>\n",
        "      <td> 0.105151</td>\n",
        "      <td> 0.019975</td>\n",
        "    </tr>\n",
        "    <tr>\n",
        "      <th>p214-010-60001-ml.png</th>\n",
        "      <td> 217.490041</td>\n",
        "      <td> 11.182093</td>\n",
        "      <td> 0.089156</td>\n",
        "      <td> 0.068559</td>\n",
        "      <td> 255.275936</td>\n",
        "      <td> 11.383161</td>\n",
        "      <td> 0.091460</td>\n",
        "      <td> 0.052581</td>\n",
        "      <td> 223.895510</td>\n",
        "      <td> 10.859934</td>\n",
        "      <td>...</td>\n",
        "      <td> 0.094498</td>\n",
        "      <td> 0.014957</td>\n",
        "      <td> 171.293827</td>\n",
        "      <td> 10.346745</td>\n",
        "      <td> 0.094648</td>\n",
        "      <td> 0.014245</td>\n",
        "      <td> 157.454233</td>\n",
        "      <td> 9.781551</td>\n",
        "      <td> 0.105151</td>\n",
        "      <td> 0.019975</td>\n",
        "    </tr>\n",
        "    <tr>\n",
        "      <th>p214-010-60001-mr.png</th>\n",
        "      <td> 288.353799</td>\n",
        "      <td> 11.644971</td>\n",
        "      <td> 0.093407</td>\n",
        "      <td> 0.073823</td>\n",
        "      <td> 237.048490</td>\n",
        "      <td> 11.298087</td>\n",
        "      <td> 0.089295</td>\n",
        "      <td> 0.050686</td>\n",
        "      <td> 173.248493</td>\n",
        "      <td> 10.351740</td>\n",
        "      <td>...</td>\n",
        "      <td> 0.099926</td>\n",
        "      <td> 0.015496</td>\n",
        "      <td> 166.981656</td>\n",
        "      <td> 10.147627</td>\n",
        "      <td> 0.096699</td>\n",
        "      <td> 0.013841</td>\n",
        "      <td> 157.454233</td>\n",
        "      <td> 9.781551</td>\n",
        "      <td> 0.105151</td>\n",
        "      <td> 0.019975</td>\n",
        "    </tr>\n",
        "    <tr>\n",
        "      <th>p214-010-60005-cl.png</th>\n",
        "      <td> 160.227140</td>\n",
        "      <td> 10.034384</td>\n",
        "      <td> 0.099470</td>\n",
        "      <td> 0.069002</td>\n",
        "      <td> 157.603883</td>\n",
        "      <td>  9.991076</td>\n",
        "      <td> 0.096144</td>\n",
        "      <td> 0.051515</td>\n",
        "      <td> 148.042716</td>\n",
        "      <td>  9.647045</td>\n",
        "      <td>...</td>\n",
        "      <td> 0.106255</td>\n",
        "      <td> 0.017021</td>\n",
        "      <td> 166.288393</td>\n",
        "      <td>  9.918993</td>\n",
        "      <td> 0.107002</td>\n",
        "      <td> 0.022819</td>\n",
        "      <td> 127.449202</td>\n",
        "      <td> 8.913421</td>\n",
        "      <td> 0.110486</td>\n",
        "      <td> 0.016995</td>\n",
        "    </tr>\n",
        "  </tbody>\n",
        "</table>\n",
        "<p>5 rows \u00d7 40 columns</p>\n",
        "</div>"
       ],
       "metadata": {},
       "output_type": "pyout",
       "prompt_number": 8,
       "text": [
        "                         contrast  dissimilarity  homogeneity    energy  \\\n",
        "p214-010-60001-cl.png  180.015284      10.623496     0.092774  0.068239   \n",
        "p214-010-60001-cr.png  241.273806      10.449699     0.101719  0.073124   \n",
        "p214-010-60001-ml.png  217.490041      11.182093     0.089156  0.068559   \n",
        "p214-010-60001-mr.png  288.353799      11.644971     0.093407  0.073823   \n",
        "p214-010-60005-cl.png  160.227140      10.034384     0.099470  0.069002   \n",
        "\n",
        "                       contrast_1  dissimilarity_1  homogeneity_1  energy_1  \\\n",
        "p214-010-60001-cl.png  281.402566        10.773226       0.103179  0.056349   \n",
        "p214-010-60001-cr.png  257.052029        10.725951       0.098164  0.051589   \n",
        "p214-010-60001-ml.png  255.275936        11.383161       0.091460  0.052581   \n",
        "p214-010-60001-mr.png  237.048490        11.298087       0.089295  0.050686   \n",
        "p214-010-60005-cl.png  157.603883         9.991076       0.096144  0.051515   \n",
        "\n",
        "                       contrast_2  dissimilarity_2    ...     homogeneity_7  \\\n",
        "p214-010-60001-cl.png  166.662740        10.250118    ...          0.099589   \n",
        "p214-010-60001-cr.png  236.447806        10.048496    ...          0.104395   \n",
        "p214-010-60001-ml.png  223.895510        10.859934    ...          0.094498   \n",
        "p214-010-60001-mr.png  173.248493        10.351740    ...          0.099926   \n",
        "p214-010-60005-cl.png  148.042716         9.647045    ...          0.106255   \n",
        "\n",
        "                       energy_7  contrast_8  dissimilarity_8  homogeneity_8  \\\n",
        "p214-010-60001-cl.png  0.016556  163.937053        10.084599       0.099519   \n",
        "p214-010-60001-cr.png  0.015297  166.288393         9.918993       0.107002   \n",
        "p214-010-60001-ml.png  0.014957  171.293827        10.346745       0.094648   \n",
        "p214-010-60001-mr.png  0.015496  166.981656        10.147627       0.096699   \n",
        "p214-010-60005-cl.png  0.017021  166.288393         9.918993       0.107002   \n",
        "\n",
        "                       energy_8  contrast_9  dissimilarity_9  homogeneity_9  \\\n",
        "p214-010-60001-cl.png  0.013505  157.454233         9.781551       0.105151   \n",
        "p214-010-60001-cr.png  0.022819  157.454233         9.781551       0.105151   \n",
        "p214-010-60001-ml.png  0.014245  157.454233         9.781551       0.105151   \n",
        "p214-010-60001-mr.png  0.013841  157.454233         9.781551       0.105151   \n",
        "p214-010-60005-cl.png  0.022819  127.449202         8.913421       0.110486   \n",
        "\n",
        "                       energy_9  \n",
        "p214-010-60001-cl.png  0.019975  \n",
        "p214-010-60001-cr.png  0.019975  \n",
        "p214-010-60001-ml.png  0.019975  \n",
        "p214-010-60001-mr.png  0.019975  \n",
        "p214-010-60005-cl.png  0.016995  \n",
        "\n",
        "[5 rows x 40 columns]"
       ]
      }
     ],
     "prompt_number": 8
    },
    {
     "cell_type": "markdown",
     "metadata": {},
     "source": [
      "Filter some features, such as the min, to remove noise."
     ]
    },
    {
     "cell_type": "code",
     "collapsed": false,
     "input": [
      "selected_features = features.copy()"
     ],
     "language": "python",
     "metadata": {},
     "outputs": [],
     "prompt_number": 9
    },
    {
     "cell_type": "markdown",
     "metadata": {},
     "source": [
      "# Compare Real and Synthetic Features"
     ]
    },
    {
     "cell_type": "markdown",
     "metadata": {},
     "source": [
      "Compare the distributions of features detected from the real mammograms and the phantoms using the Kolmogorov-Smirnov two sample test."
     ]
    },
    {
     "cell_type": "code",
     "collapsed": false,
     "input": [
      "ks_stats = [list(stats.ks_2samp(hologic_texture_features[col], \n",
      "                                phantom_texture_features[col]))\n",
      "                                for col in hologic_texture_features.columns]\n",
      "\n",
      "ks_test = pd.DataFrame(ks_stats, columns=['KS', 'p-value'], index=hologic_texture_features.columns)\n",
      "ks_test.to_latex(\"tables/texture_features_ks.tex\")\n",
      "ks_test"
     ],
     "language": "python",
     "metadata": {},
     "outputs": [
      {
       "html": [
        "<div style=\"max-height:1000px;max-width:1500px;overflow:auto;\">\n",
        "<table border=\"1\" class=\"dataframe\">\n",
        "  <thead>\n",
        "    <tr style=\"text-align: right;\">\n",
        "      <th></th>\n",
        "      <th>KS</th>\n",
        "      <th>p-value</th>\n",
        "    </tr>\n",
        "  </thead>\n",
        "  <tbody>\n",
        "    <tr>\n",
        "      <th>contrast</th>\n",
        "      <td> 0.381944</td>\n",
        "      <td> 5.383186e-09</td>\n",
        "    </tr>\n",
        "    <tr>\n",
        "      <th>dissimilarity</th>\n",
        "      <td> 1.000000</td>\n",
        "      <td> 3.587622e-59</td>\n",
        "    </tr>\n",
        "    <tr>\n",
        "      <th>homogeneity</th>\n",
        "      <td> 1.000000</td>\n",
        "      <td> 3.587622e-59</td>\n",
        "    </tr>\n",
        "    <tr>\n",
        "      <th>energy</th>\n",
        "      <td> 1.000000</td>\n",
        "      <td> 3.587622e-59</td>\n",
        "    </tr>\n",
        "    <tr>\n",
        "      <th>contrast_1</th>\n",
        "      <td> 0.586111</td>\n",
        "      <td> 1.318746e-20</td>\n",
        "    </tr>\n",
        "    <tr>\n",
        "      <th>dissimilarity_1</th>\n",
        "      <td> 1.000000</td>\n",
        "      <td> 3.587622e-59</td>\n",
        "    </tr>\n",
        "    <tr>\n",
        "      <th>homogeneity_1</th>\n",
        "      <td> 1.000000</td>\n",
        "      <td> 3.587622e-59</td>\n",
        "    </tr>\n",
        "    <tr>\n",
        "      <th>energy_1</th>\n",
        "      <td> 1.000000</td>\n",
        "      <td> 3.587622e-59</td>\n",
        "    </tr>\n",
        "    <tr>\n",
        "      <th>contrast_2</th>\n",
        "      <td> 0.863889</td>\n",
        "      <td> 2.874007e-44</td>\n",
        "    </tr>\n",
        "    <tr>\n",
        "      <th>dissimilarity_2</th>\n",
        "      <td> 1.000000</td>\n",
        "      <td> 3.587622e-59</td>\n",
        "    </tr>\n",
        "    <tr>\n",
        "      <th>homogeneity_2</th>\n",
        "      <td> 1.000000</td>\n",
        "      <td> 3.587622e-59</td>\n",
        "    </tr>\n",
        "    <tr>\n",
        "      <th>energy_2</th>\n",
        "      <td> 1.000000</td>\n",
        "      <td> 3.587622e-59</td>\n",
        "    </tr>\n",
        "    <tr>\n",
        "      <th>contrast_3</th>\n",
        "      <td> 0.923611</td>\n",
        "      <td> 1.538596e-50</td>\n",
        "    </tr>\n",
        "    <tr>\n",
        "      <th>dissimilarity_3</th>\n",
        "      <td> 1.000000</td>\n",
        "      <td> 3.587622e-59</td>\n",
        "    </tr>\n",
        "    <tr>\n",
        "      <th>homogeneity_3</th>\n",
        "      <td> 1.000000</td>\n",
        "      <td> 3.587622e-59</td>\n",
        "    </tr>\n",
        "    <tr>\n",
        "      <th>energy_3</th>\n",
        "      <td> 1.000000</td>\n",
        "      <td> 3.587622e-59</td>\n",
        "    </tr>\n",
        "    <tr>\n",
        "      <th>contrast_4</th>\n",
        "      <td> 0.845833</td>\n",
        "      <td> 1.870608e-42</td>\n",
        "    </tr>\n",
        "    <tr>\n",
        "      <th>dissimilarity_4</th>\n",
        "      <td> 1.000000</td>\n",
        "      <td> 3.587622e-59</td>\n",
        "    </tr>\n",
        "    <tr>\n",
        "      <th>homogeneity_4</th>\n",
        "      <td> 1.000000</td>\n",
        "      <td> 3.587622e-59</td>\n",
        "    </tr>\n",
        "    <tr>\n",
        "      <th>energy_4</th>\n",
        "      <td> 1.000000</td>\n",
        "      <td> 3.587622e-59</td>\n",
        "    </tr>\n",
        "    <tr>\n",
        "      <th>contrast_5</th>\n",
        "      <td> 0.979167</td>\n",
        "      <td> 9.485680e-57</td>\n",
        "    </tr>\n",
        "    <tr>\n",
        "      <th>dissimilarity_5</th>\n",
        "      <td> 1.000000</td>\n",
        "      <td> 3.587622e-59</td>\n",
        "    </tr>\n",
        "    <tr>\n",
        "      <th>homogeneity_5</th>\n",
        "      <td> 1.000000</td>\n",
        "      <td> 3.587622e-59</td>\n",
        "    </tr>\n",
        "    <tr>\n",
        "      <th>energy_5</th>\n",
        "      <td> 1.000000</td>\n",
        "      <td> 3.587622e-59</td>\n",
        "    </tr>\n",
        "    <tr>\n",
        "      <th>contrast_6</th>\n",
        "      <td> 1.000000</td>\n",
        "      <td> 3.587622e-59</td>\n",
        "    </tr>\n",
        "    <tr>\n",
        "      <th>dissimilarity_6</th>\n",
        "      <td> 1.000000</td>\n",
        "      <td> 3.587622e-59</td>\n",
        "    </tr>\n",
        "    <tr>\n",
        "      <th>homogeneity_6</th>\n",
        "      <td> 1.000000</td>\n",
        "      <td> 3.587622e-59</td>\n",
        "    </tr>\n",
        "    <tr>\n",
        "      <th>energy_6</th>\n",
        "      <td> 0.994444</td>\n",
        "      <td> 1.605940e-58</td>\n",
        "    </tr>\n",
        "    <tr>\n",
        "      <th>contrast_7</th>\n",
        "      <td> 0.969444</td>\n",
        "      <td> 1.230285e-55</td>\n",
        "    </tr>\n",
        "    <tr>\n",
        "      <th>dissimilarity_7</th>\n",
        "      <td> 1.000000</td>\n",
        "      <td> 3.587622e-59</td>\n",
        "    </tr>\n",
        "    <tr>\n",
        "      <th>homogeneity_7</th>\n",
        "      <td> 1.000000</td>\n",
        "      <td> 3.587622e-59</td>\n",
        "    </tr>\n",
        "    <tr>\n",
        "      <th>energy_7</th>\n",
        "      <td> 1.000000</td>\n",
        "      <td> 3.587622e-59</td>\n",
        "    </tr>\n",
        "    <tr>\n",
        "      <th>contrast_8</th>\n",
        "      <td> 0.986111</td>\n",
        "      <td> 1.497318e-57</td>\n",
        "    </tr>\n",
        "    <tr>\n",
        "      <th>dissimilarity_8</th>\n",
        "      <td> 1.000000</td>\n",
        "      <td> 3.587622e-59</td>\n",
        "    </tr>\n",
        "    <tr>\n",
        "      <th>homogeneity_8</th>\n",
        "      <td> 1.000000</td>\n",
        "      <td> 3.587622e-59</td>\n",
        "    </tr>\n",
        "    <tr>\n",
        "      <th>energy_8</th>\n",
        "      <td> 0.997222</td>\n",
        "      <td> 7.598385e-59</td>\n",
        "    </tr>\n",
        "    <tr>\n",
        "      <th>contrast_9</th>\n",
        "      <td> 1.000000</td>\n",
        "      <td> 3.587622e-59</td>\n",
        "    </tr>\n",
        "    <tr>\n",
        "      <th>dissimilarity_9</th>\n",
        "      <td> 1.000000</td>\n",
        "      <td> 3.587622e-59</td>\n",
        "    </tr>\n",
        "    <tr>\n",
        "      <th>homogeneity_9</th>\n",
        "      <td> 1.000000</td>\n",
        "      <td> 3.587622e-59</td>\n",
        "    </tr>\n",
        "    <tr>\n",
        "      <th>energy_9</th>\n",
        "      <td> 1.000000</td>\n",
        "      <td> 3.587622e-59</td>\n",
        "    </tr>\n",
        "  </tbody>\n",
        "</table>\n",
        "</div>"
       ],
       "metadata": {},
       "output_type": "pyout",
       "prompt_number": 80,
       "text": [
        "                       KS       p-value\n",
        "contrast         0.381944  5.383186e-09\n",
        "dissimilarity    1.000000  3.587622e-59\n",
        "homogeneity      1.000000  3.587622e-59\n",
        "energy           1.000000  3.587622e-59\n",
        "contrast_1       0.586111  1.318746e-20\n",
        "dissimilarity_1  1.000000  3.587622e-59\n",
        "homogeneity_1    1.000000  3.587622e-59\n",
        "energy_1         1.000000  3.587622e-59\n",
        "contrast_2       0.863889  2.874007e-44\n",
        "dissimilarity_2  1.000000  3.587622e-59\n",
        "homogeneity_2    1.000000  3.587622e-59\n",
        "energy_2         1.000000  3.587622e-59\n",
        "contrast_3       0.923611  1.538596e-50\n",
        "dissimilarity_3  1.000000  3.587622e-59\n",
        "homogeneity_3    1.000000  3.587622e-59\n",
        "energy_3         1.000000  3.587622e-59\n",
        "contrast_4       0.845833  1.870608e-42\n",
        "dissimilarity_4  1.000000  3.587622e-59\n",
        "homogeneity_4    1.000000  3.587622e-59\n",
        "energy_4         1.000000  3.587622e-59\n",
        "contrast_5       0.979167  9.485680e-57\n",
        "dissimilarity_5  1.000000  3.587622e-59\n",
        "homogeneity_5    1.000000  3.587622e-59\n",
        "energy_5         1.000000  3.587622e-59\n",
        "contrast_6       1.000000  3.587622e-59\n",
        "dissimilarity_6  1.000000  3.587622e-59\n",
        "homogeneity_6    1.000000  3.587622e-59\n",
        "energy_6         0.994444  1.605940e-58\n",
        "contrast_7       0.969444  1.230285e-55\n",
        "dissimilarity_7  1.000000  3.587622e-59\n",
        "homogeneity_7    1.000000  3.587622e-59\n",
        "energy_7         1.000000  3.587622e-59\n",
        "contrast_8       0.986111  1.497318e-57\n",
        "dissimilarity_8  1.000000  3.587622e-59\n",
        "homogeneity_8    1.000000  3.587622e-59\n",
        "energy_8         0.997222  7.598385e-59\n",
        "contrast_9       1.000000  3.587622e-59\n",
        "dissimilarity_9  1.000000  3.587622e-59\n",
        "homogeneity_9    1.000000  3.587622e-59\n",
        "energy_9         1.000000  3.587622e-59"
       ]
      }
     ],
     "prompt_number": 80
    },
    {
     "cell_type": "markdown",
     "metadata": {},
     "source": [
      "#Dimensionality Reduction\n",
      "\n",
      "## t-SNE\n",
      "Running t-SNE to obtain a two dimensional representation."
     ]
    },
    {
     "cell_type": "code",
     "collapsed": false,
     "input": [
      "kwargs = {\n",
      "    'learning_rate': 300,\n",
      "    'perplexity': 30,\n",
      "    'verbose': 1\n",
      "}"
     ],
     "language": "python",
     "metadata": {},
     "outputs": [],
     "prompt_number": 11
    },
    {
     "cell_type": "code",
     "collapsed": false,
     "input": [
      "SNE_mapping_2d, error = mia.analysis.tSNE(selected_features, n_components=2, **kwargs)"
     ],
     "language": "python",
     "metadata": {},
     "outputs": [
      {
       "output_type": "stream",
       "stream": "stdout",
       "text": [
        "[t-SNE] Computing pairwise distances...\n",
        "[t-SNE] Computed conditional probabilities for sample 366 / 366"
       ]
      },
      {
       "output_type": "stream",
       "stream": "stdout",
       "text": [
        "\n",
        "[t-SNE] Mean sigma: 0.834920\n",
        "[t-SNE] Error after 83 iterations with early exaggeration: 12.847253"
       ]
      },
      {
       "output_type": "stream",
       "stream": "stdout",
       "text": [
        "\n",
        "[t-SNE] Error after 296 iterations: 0.467811"
       ]
      },
      {
       "output_type": "stream",
       "stream": "stdout",
       "text": [
        "\n"
       ]
      }
     ],
     "prompt_number": 12
    },
    {
     "cell_type": "code",
     "collapsed": false,
     "input": [
      "mia.plotting.plot_mapping_2d(SNE_mapping_2d, hologic_texture_features.index, phantom_texture_features_subset.index, labels)\n",
      "plt.savefig('figures/mappings/texture_SNE_mapping_2d.png', dpi=300)"
     ],
     "language": "python",
     "metadata": {},
     "outputs": [
      {
       "metadata": {},
       "output_type": "display_data",
       "png": "[encoded data removed]",
       "text": [
        "<matplotlib.figure.Figure at 0x11059e550>"
       ]
      }
     ],
     "prompt_number": 13
    },
    {
     "cell_type": "markdown",
     "metadata": {},
     "source": [
      "Running t-SNE to obtain a 3 dimensional mapping"
     ]
    },
    {
     "cell_type": "code",
     "collapsed": false,
     "input": [
      "SNE_mapping_3d, error = mia.analysis.tSNE(selected_features, n_components=3, **kwargs)"
     ],
     "language": "python",
     "metadata": {},
     "outputs": [
      {
       "output_type": "stream",
       "stream": "stdout",
       "text": [
        "[t-SNE] Computing pairwise distances...\n",
        "[t-SNE] Computed conditional probabilities for sample 366 / 366"
       ]
      },
      {
       "output_type": "stream",
       "stream": "stdout",
       "text": [
        "\n",
        "[t-SNE] Mean sigma: 0.834920\n",
        "[t-SNE] Error after 100 iterations with early exaggeration: 14.777595"
       ]
      },
      {
       "output_type": "stream",
       "stream": "stdout",
       "text": [
        "\n",
        "[t-SNE] Error after 271 iterations: 0.948866"
       ]
      },
      {
       "output_type": "stream",
       "stream": "stdout",
       "text": [
        "\n"
       ]
      }
     ],
     "prompt_number": 14
    },
    {
     "cell_type": "code",
     "collapsed": false,
     "input": [
      "mia.plotting.plot_mapping_3d(SNE_mapping_3d, hologic_texture_features.index, phantom_texture_features_subset.index, labels)"
     ],
     "language": "python",
     "metadata": {},
     "outputs": [
      {
       "metadata": {},
       "output_type": "pyout",
       "prompt_number": 42,
       "text": [
        "<matplotlib.axes._subplots.Axes3DSubplot at 0x110926f90>"
       ]
      }
     ],
     "prompt_number": 42
    },
    {
     "cell_type": "markdown",
     "metadata": {},
     "source": [
      "##Isomap\n",
      "Running Isomap to obtain a 2 dimensional mapping"
     ]
    },
    {
     "cell_type": "code",
     "collapsed": false,
     "input": [
      "iso_kwargs = {\n",
      "    'n_neighbors': 10,\n",
      "}"
     ],
     "language": "python",
     "metadata": {},
     "outputs": [],
     "prompt_number": 16
    },
    {
     "cell_type": "code",
     "collapsed": false,
     "input": [
      "iso_mapping_2d, error = mia.analysis.isomap(selected_features, n_components=2, **iso_kwargs)"
     ],
     "language": "python",
     "metadata": {},
     "outputs": [],
     "prompt_number": 17
    },
    {
     "cell_type": "code",
     "collapsed": false,
     "input": [
      "mia.plotting.plot_mapping_2d(iso_mapping_2d, hologic_texture_features.index, phantom_texture_features_subset.index, labels)\n",
      "plt.savefig('figures/mappings/texture_iso_mapping_2d.png', dpi=300)"
     ],
     "language": "python",
     "metadata": {},
     "outputs": [
      {
       "metadata": {},
       "output_type": "display_data",
       "png": "[encoded data removed]",
       "text": [
        "<matplotlib.figure.Figure at 0x11075c750>"
       ]
      }
     ],
     "prompt_number": 18
    },
    {
     "cell_type": "code",
     "collapsed": false,
     "input": [
      "iso_mapping_3d, error = mia.analysis.isomap(selected_features, n_components=3, **iso_kwargs)"
     ],
     "language": "python",
     "metadata": {},
     "outputs": [],
     "prompt_number": 19
    },
    {
     "cell_type": "code",
     "collapsed": false,
     "input": [
      "mia.plotting.plot_mapping_3d(iso_mapping_3d, hologic_texture_features.index, phantom_texture_features_subset.index, labels)"
     ],
     "language": "python",
     "metadata": {},
     "outputs": [
      {
       "output_type": "stream",
       "stream": "stderr",
       "text": [
        "/usr/local/Cellar/python/2.7.9/Frameworks/Python.framework/Versions/2.7/lib/python2.7/site-packages/mpl_toolkits/mplot3d/axes3d.py:1094: FutureWarning: comparison to `None` will result in an elementwise object comparison in the future.\n",
        "  if self.button_pressed in self._rotate_btn:\n"
       ]
      },
      {
       "metadata": {},
       "output_type": "pyout",
       "prompt_number": 43,
       "text": [
        "<matplotlib.axes._subplots.Axes3DSubplot at 0x1110e5e10>"
       ]
      }
     ],
     "prompt_number": 43
    },
    {
     "cell_type": "markdown",
     "metadata": {},
     "source": [
      "##Locally Linear Embedding\n",
      "Running locally linear embedding to obtain 2d mapping"
     ]
    },
    {
     "cell_type": "code",
     "collapsed": false,
     "input": [
      "lle_kwargs = {\n",
      "    'n_neighbors': 10,\n",
      "}"
     ],
     "language": "python",
     "metadata": {},
     "outputs": [],
     "prompt_number": 21
    },
    {
     "cell_type": "code",
     "collapsed": false,
     "input": [
      "lle_mapping_2d, error = mia.analysis.lle(selected_features, n_components=2, **lle_kwargs)"
     ],
     "language": "python",
     "metadata": {},
     "outputs": [],
     "prompt_number": 22
    },
    {
     "cell_type": "code",
     "collapsed": false,
     "input": [
      "mia.plotting.plot_mapping_2d(lle_mapping_2d, hologic_texture_features.index, phantom_texture_features_subset.index, labels)\n",
      "plt.savefig('figures/mappings/texture_lle_mapping_2d.png', dpi=300)"
     ],
     "language": "python",
     "metadata": {},
     "outputs": [
      {
       "metadata": {},
       "output_type": "display_data",
       "png": "[encoded data removed]",
       "text": [
        "<matplotlib.figure.Figure at 0x111d86d10>"
       ]
      }
     ],
     "prompt_number": 23
    },
    {
     "cell_type": "code",
     "collapsed": false,
     "input": [
      "lle_mapping_3d, error = mia.analysis.lle(selected_features, n_components=3, **lle_kwargs)"
     ],
     "language": "python",
     "metadata": {},
     "outputs": [],
     "prompt_number": 24
    },
    {
     "cell_type": "code",
     "collapsed": false,
     "input": [
      "mia.plotting.plot_mapping_3d(lle_mapping_3d, hologic_texture_features.index, phantom_texture_features_subset.index, labels)"
     ],
     "language": "python",
     "metadata": {},
     "outputs": [
      {
       "metadata": {},
       "output_type": "pyout",
       "prompt_number": 44,
       "text": [
        "<matplotlib.axes._subplots.Axes3DSubplot at 0x1105098d0>"
       ]
      }
     ],
     "prompt_number": 44
    },
    {
     "cell_type": "markdown",
     "metadata": {},
     "source": [
      "## Quality Assessment of Dimensionality Reduction"
     ]
    },
    {
     "cell_type": "markdown",
     "metadata": {},
     "source": [
      "Assess the quality of the DR against measurements from the co-ranking matrices. First create co-ranking matrices for each of the dimensionality reduction mappings"
     ]
    },
    {
     "cell_type": "code",
     "collapsed": false,
     "input": [
      "max_k = 10"
     ],
     "language": "python",
     "metadata": {},
     "outputs": [],
     "prompt_number": 26
    },
    {
     "cell_type": "code",
     "collapsed": false,
     "input": [
      "SNE_mapping_2d_cm = mia.coranking.coranking_matrix(selected_features, SNE_mapping_2d)\n",
      "iso_mapping_2d_cm = mia.coranking.coranking_matrix(selected_features, iso_mapping_2d)\n",
      "lle_mapping_2d_cm = mia.coranking.coranking_matrix(selected_features, lle_mapping_2d)\n",
      "\n",
      "SNE_mapping_3d_cm = mia.coranking.coranking_matrix(selected_features, SNE_mapping_3d)\n",
      "iso_mapping_3d_cm = mia.coranking.coranking_matrix(selected_features, iso_mapping_3d)\n",
      "lle_mapping_3d_cm = mia.coranking.coranking_matrix(selected_features, lle_mapping_3d)"
     ],
     "language": "python",
     "metadata": {},
     "outputs": [],
     "prompt_number": 27
    },
    {
     "cell_type": "markdown",
     "metadata": {},
     "source": [
      "### 2D Mappings"
     ]
    },
    {
     "cell_type": "code",
     "collapsed": false,
     "input": [
      "SNE_trustworthiness_2d = [mia.coranking.trustworthiness(SNE_mapping_2d_cm, k) for k in range(1, max_k)]\n",
      "iso_trustworthiness_2d = [mia.coranking.trustworthiness(iso_mapping_2d_cm, k) for k in range(1, max_k)]\n",
      "lle_trustworthiness_2d = [mia.coranking.trustworthiness(lle_mapping_2d_cm, k) for k in range(1, max_k)]"
     ],
     "language": "python",
     "metadata": {},
     "outputs": [],
     "prompt_number": 28
    },
    {
     "cell_type": "code",
     "collapsed": false,
     "input": [
      "trustworthiness_df = pd.DataFrame([SNE_trustworthiness_2d,\n",
      "                                   iso_trustworthiness_2d,\n",
      "                                   lle_trustworthiness_2d], \n",
      "                                   index=['SNE', 'Isomap', 'LLE']).T\n",
      "trustworthiness_df.plot()\n",
      "plt.savefig('figures/quality_measures/texture_trustworthiness_2d.png', dpi=300)"
     ],
     "language": "python",
     "metadata": {},
     "outputs": [
      {
       "metadata": {},
       "output_type": "display_data",
       "png": "[encoded data removed]",
       "text": [
        "<matplotlib.figure.Figure at 0x1111bcd10>"
       ]
      }
     ],
     "prompt_number": 29
    },
    {
     "cell_type": "code",
     "collapsed": false,
     "input": [
      "SNE_continuity_2d = [mia.coranking.continuity(SNE_mapping_2d_cm, k) for k in range(1, max_k)]\n",
      "iso_continuity_2d = [mia.coranking.continuity(iso_mapping_2d_cm, k) for k in range(1, max_k)]\n",
      "lle_continuity_2d = [mia.coranking.continuity(lle_mapping_2d_cm, k) for k in range(1, max_k)]"
     ],
     "language": "python",
     "metadata": {},
     "outputs": [],
     "prompt_number": 30
    },
    {
     "cell_type": "code",
     "collapsed": false,
     "input": [
      "continuity_df = pd.DataFrame([SNE_continuity_2d,\n",
      "                              iso_continuity_2d,\n",
      "                              lle_continuity_2d], \n",
      "                              index=['SNE', 'Isomap', 'LLE']).T\n",
      "continuity_df.plot()\n",
      "plt.savefig('figures/quality_measures/texture_continuity_2d.png', dpi=300)"
     ],
     "language": "python",
     "metadata": {},
     "outputs": [
      {
       "metadata": {},
       "output_type": "display_data",
       "png": "[encoded data removed]",
       "text": [
        "<matplotlib.figure.Figure at 0x1141e8310>"
       ]
      }
     ],
     "prompt_number": 31
    },
    {
     "cell_type": "code",
     "collapsed": false,
     "input": [
      "SNE_lcmc_2d = [mia.coranking.LCMC(SNE_mapping_2d_cm, k) for k in range(2, max_k)]\n",
      "iso_lcmc_2d = [mia.coranking.LCMC(iso_mapping_2d_cm, k) for k in range(2, max_k)]\n",
      "lle_lcmc_2d = [mia.coranking.LCMC(lle_mapping_2d_cm, k) for k in range(2, max_k)]"
     ],
     "language": "python",
     "metadata": {},
     "outputs": [],
     "prompt_number": 32
    },
    {
     "cell_type": "code",
     "collapsed": false,
     "input": [
      "lcmc_df = pd.DataFrame([SNE_lcmc_2d,\n",
      "                        iso_lcmc_2d,\n",
      "                        lle_lcmc_2d], \n",
      "                        index=['SNE', 'Isomap', 'LLE']).T\n",
      "lcmc_df.plot()\n",
      "plt.savefig('figures/quality_measures/texture_lcmc_2d.png', dpi=300)"
     ],
     "language": "python",
     "metadata": {},
     "outputs": [
      {
       "metadata": {},
       "output_type": "display_data",
       "png": "[encoded data removed]",
       "text": [
        "<matplotlib.figure.Figure at 0x110e617d0>"
       ]
      }
     ],
     "prompt_number": 33
    },
    {
     "cell_type": "markdown",
     "metadata": {},
     "source": [
      "### 3D Mappings"
     ]
    },
    {
     "cell_type": "code",
     "collapsed": false,
     "input": [
      "SNE_trustworthiness_3d = [mia.coranking.trustworthiness(SNE_mapping_3d_cm, k) for k in range(1, max_k)]\n",
      "iso_trustworthiness_3d = [mia.coranking.trustworthiness(iso_mapping_3d_cm, k) for k in range(1, max_k)]\n",
      "lle_trustworthiness_3d = [mia.coranking.trustworthiness(lle_mapping_3d_cm, k) for k in range(1, max_k)]"
     ],
     "language": "python",
     "metadata": {},
     "outputs": [],
     "prompt_number": 34
    },
    {
     "cell_type": "code",
     "collapsed": false,
     "input": [
      "trustworthiness3d_df = pd.DataFrame([SNE_trustworthiness_3d,\n",
      "                                   iso_trustworthiness_3d,\n",
      "                                   lle_trustworthiness_3d], \n",
      "                                   index=['SNE', 'Isomap', 'LLE']).T\n",
      "trustworthiness3d_df.plot()\n",
      "plt.savefig('figures/quality_measures/texture_trustworthiness_3d.png', dpi=300)"
     ],
     "language": "python",
     "metadata": {},
     "outputs": [
      {
       "metadata": {},
       "output_type": "display_data",
       "png": "[encoded data removed]",
       "text": [
        "<matplotlib.figure.Figure at 0x1141df250>"
       ]
      }
     ],
     "prompt_number": 35
    },
    {
     "cell_type": "code",
     "collapsed": false,
     "input": [
      "SNE_continuity_3d = [mia.coranking.continuity(SNE_mapping_3d_cm, k) for k in range(1, max_k)]\n",
      "iso_continuity_3d = [mia.coranking.continuity(iso_mapping_3d_cm, k) for k in range(1, max_k)]\n",
      "lle_continuity_3d = [mia.coranking.continuity(lle_mapping_3d_cm, k) for k in range(1, max_k)]"
     ],
     "language": "python",
     "metadata": {},
     "outputs": [],
     "prompt_number": 36
    },
    {
     "cell_type": "code",
     "collapsed": false,
     "input": [
      "continuity3d_df = pd.DataFrame([SNE_continuity_3d,\n",
      "                              iso_continuity_3d,\n",
      "                              lle_continuity_3d], \n",
      "                              index=['SNE', 'Isomap', 'LLE']).T\n",
      "continuity3d_df.plot()\n",
      "plt.savefig('figures/quality_measures/texture_continuity_3d.png', dpi=300)"
     ],
     "language": "python",
     "metadata": {},
     "outputs": [
      {
       "metadata": {},
       "output_type": "display_data",
       "png": "[encoded data removed]",
       "text": [
        "<matplotlib.figure.Figure at 0x110e61e90>"
       ]
      }
     ],
     "prompt_number": 37
    },
    {
     "cell_type": "code",
     "collapsed": false,
     "input": [
      "SNE_lcmc_3d = [mia.coranking.LCMC(SNE_mapping_3d_cm, k) for k in range(2, max_k)]\n",
      "iso_lcmc_3d = [mia.coranking.LCMC(iso_mapping_3d_cm, k) for k in range(2, max_k)]\n",
      "lle_lcmc_3d = [mia.coranking.LCMC(lle_mapping_3d_cm, k) for k in range(2, max_k)]"
     ],
     "language": "python",
     "metadata": {},
     "outputs": [],
     "prompt_number": 38
    },
    {
     "cell_type": "code",
     "collapsed": false,
     "input": [
      "lcmc3d_df = pd.DataFrame([SNE_lcmc_3d,\n",
      "                        iso_lcmc_3d,\n",
      "                        lle_lcmc_3d], \n",
      "                        index=['SNE', 'Isomap', 'LLE']).T\n",
      "lcmc3d_df.plot()\n",
      "plt.savefig('figures/quality_measures/texture_lcmc_3d.png', dpi=300)"
     ],
     "language": "python",
     "metadata": {},
     "outputs": [
      {
       "metadata": {},
       "output_type": "display_data",
       "png": "[encoded data removed]",
       "text": [
        "<matplotlib.figure.Figure at 0x11117de90>"
       ]
      }
     ],
     "prompt_number": 39
    }
   ],
   "metadata": {}
  }
 ]
}