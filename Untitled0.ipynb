{
 "metadata": {
  "name": "",
  "signature": "sha256:2a2e15ea23da7d87d73e10b3c1a8a258de9429365faa0de01cc7a94cf8f57cef"
 },
 "nbformat": 3,
 "nbformat_minor": 0,
 "worksheets": [
  {
   "cells": [
    {
     "cell_type": "code",
     "collapsed": false,
     "input": [
      "%matplotlib qt\n",
      "import mia\n",
      "import numpy as np\n",
      "import os.path\n",
      "from sklearn.cluster import KMeans"
     ],
     "language": "python",
     "metadata": {},
     "outputs": [],
     "prompt_number": 1
    },
    {
     "cell_type": "code",
     "collapsed": false,
     "input": [
      "imgs = np.load(\"/Volumes/Seagate/2015-04-12-contrast.npy\")"
     ],
     "language": "python",
     "metadata": {},
     "outputs": [],
     "prompt_number": 2
    },
    {
     "cell_type": "code",
     "collapsed": false,
     "input": [
      "names = [os.path.basename(p) for p in mia.io_tools.iterate_directory(\"/Volumes/Seagate/MammoData/pngs/\")]\n",
      "df = pd.DataFrame(imgs, index=names)"
     ],
     "language": "python",
     "metadata": {},
     "outputs": [],
     "prompt_number": 3
    },
    {
     "cell_type": "code",
     "collapsed": false,
     "input": [
      "md = mia.analysis.create_hologic_meta_data(df, \"/Volumes/Seagate/mmp_data/meta_data/BIRADS.csv\")"
     ],
     "language": "python",
     "metadata": {},
     "outputs": [],
     "prompt_number": 4
    },
    {
     "cell_type": "code",
     "collapsed": false,
     "input": [
      "v = df.as_matrix()[0]\n",
      "v = v.reshape(1, v.shape[0])\n",
      "kmeans = KMeans(n_clusters=5, verbose=2, n_jobs=2)\n",
      "labels = kmeans.fit_transform(v.T)"
     ],
     "language": "python",
     "metadata": {},
     "outputs": []
    },
    {
     "cell_type": "code",
     "collapsed": false,
     "input": [
      "labels"
     ],
     "language": "python",
     "metadata": {},
     "outputs": []
    },
    {
     "cell_type": "code",
     "collapsed": false,
     "input": [
      "mapping = mia.analysis.tSNE(df, verbose=2, learning_rate=300, perplexity=50)\n",
      "mapping = pd.DataFrame(mapping, index=names)"
     ],
     "language": "python",
     "metadata": {},
     "outputs": [
      {
       "output_type": "stream",
       "stream": "stdout",
       "text": [
        "[t-SNE] Computing pairwise distances...\n",
        "[t-SNE] Computed conditional probabilities for sample 360 / 360"
       ]
      },
      {
       "output_type": "stream",
       "stream": "stdout",
       "text": [
        "\n",
        "[t-SNE] Mean sigma: 76.958125\n",
        "[t-SNE] Iteration 10: error = 14.0982422, gradient norm = 0.1630567"
       ]
      },
      {
       "output_type": "stream",
       "stream": "stdout",
       "text": [
        "\n",
        "[t-SNE] Iteration 20: error = 14.0447906, gradient norm = 0.1557878"
       ]
      },
      {
       "output_type": "stream",
       "stream": "stdout",
       "text": [
        "\n",
        "[t-SNE] Iteration 30: error = 14.0064820, gradient norm = 0.1553294"
       ]
      },
      {
       "output_type": "stream",
       "stream": "stdout",
       "text": [
        "\n",
        "[t-SNE] Iteration 32: did not make any progress during the last 30 episodes. Finished.\n",
        "[t-SNE] Iteration 40: error = 14.2704188, gradient norm = 0.1471873"
       ]
      },
      {
       "output_type": "stream",
       "stream": "stdout",
       "text": [
        "\n",
        "[t-SNE] Iteration 50: error = 14.2688667, gradient norm = 0.1439962"
       ]
      },
      {
       "output_type": "stream",
       "stream": "stdout",
       "text": [
        "\n",
        "[t-SNE] Iteration 60: error = 14.3373696, gradient norm = 0.1341407"
       ]
      },
      {
       "output_type": "stream",
       "stream": "stdout",
       "text": [
        "\n",
        "[t-SNE] Iteration 65: did not make any progress during the last 30 episodes. Finished.\n",
        "[t-SNE] Error after 65 iterations with early exaggeration: 13.785205\n",
        "[t-SNE] Iteration 70: error = 1.1773321, gradient norm = 0.0272711"
       ]
      },
      {
       "output_type": "stream",
       "stream": "stdout",
       "text": [
        "\n",
        "[t-SNE] Iteration 80: error = 0.7185313, gradient norm = 0.0106830"
       ]
      },
      {
       "output_type": "stream",
       "stream": "stdout",
       "text": [
        "\n",
        "[t-SNE] Iteration 90: error = 0.6523751, gradient norm = 0.0040531"
       ]
      },
      {
       "output_type": "stream",
       "stream": "stdout",
       "text": [
        "\n",
        "[t-SNE] Iteration 100: error = 0.6354578, gradient norm = 0.0019417"
       ]
      },
      {
       "output_type": "stream",
       "stream": "stdout",
       "text": [
        "\n",
        "[t-SNE] Iteration 110: error = 0.6293726, gradient norm = 0.0009429"
       ]
      },
      {
       "output_type": "stream",
       "stream": "stdout",
       "text": [
        "\n",
        "[t-SNE] Iteration 120: error = 0.6274194, gradient norm = 0.0005299"
       ]
      },
      {
       "output_type": "stream",
       "stream": "stdout",
       "text": [
        "\n",
        "[t-SNE] Iteration 130: error = 0.6266689, gradient norm = 0.0004626"
       ]
      },
      {
       "output_type": "stream",
       "stream": "stdout",
       "text": [
        "\n",
        "[t-SNE] Iteration 140: error = 0.6261817, gradient norm = 0.0004808"
       ]
      },
      {
       "output_type": "stream",
       "stream": "stdout",
       "text": [
        "\n",
        "[t-SNE] Iteration 150: error = 0.6258468, gradient norm = 0.0004896"
       ]
      },
      {
       "output_type": "stream",
       "stream": "stdout",
       "text": [
        "\n",
        "[t-SNE] Iteration 160: error = 0.6256375, gradient norm = 0.0004877"
       ]
      },
      {
       "output_type": "stream",
       "stream": "stdout",
       "text": [
        "\n",
        "[t-SNE] Iteration 170: error = 0.6255133, gradient norm = 0.0004832"
       ]
      },
      {
       "output_type": "stream",
       "stream": "stdout",
       "text": [
        "\n",
        "[t-SNE] Iteration 180: error = 0.6254404, gradient norm = 0.0004793"
       ]
      },
      {
       "output_type": "stream",
       "stream": "stdout",
       "text": [
        "\n",
        "[t-SNE] Iteration 190: error = 0.6253976, gradient norm = 0.0004766"
       ]
      },
      {
       "output_type": "stream",
       "stream": "stdout",
       "text": [
        "\n",
        "[t-SNE] Iteration 200: error = 0.6253724, gradient norm = 0.0004749"
       ]
      },
      {
       "output_type": "stream",
       "stream": "stdout",
       "text": [
        "\n",
        "[t-SNE] Iteration 210: error = 0.6253574, gradient norm = 0.0004738"
       ]
      },
      {
       "output_type": "stream",
       "stream": "stdout",
       "text": [
        "\n",
        "[t-SNE] Iteration 220: error = 0.6253484, gradient norm = 0.0004731"
       ]
      },
      {
       "output_type": "stream",
       "stream": "stdout",
       "text": [
        "\n",
        "[t-SNE] Iteration 230: error = 0.6253431, gradient norm = 0.0004727"
       ]
      },
      {
       "output_type": "stream",
       "stream": "stdout",
       "text": [
        "\n",
        "[t-SNE] Iteration 240: error = 0.6253399, gradient norm = 0.0004725"
       ]
      },
      {
       "output_type": "stream",
       "stream": "stdout",
       "text": [
        "\n",
        "[t-SNE] Iteration 250: error = 0.6253380, gradient norm = 0.0004723"
       ]
      },
      {
       "output_type": "stream",
       "stream": "stdout",
       "text": [
        "\n",
        "[t-SNE] Iteration 258: error difference 0.000000. Finished.\n",
        "[t-SNE] Error after 258 iterations: 0.625337\n"
       ]
      }
     ],
     "prompt_number": 57
    },
    {
     "cell_type": "code",
     "collapsed": false,
     "input": [
      "mia.plotting.plot_scatter_2d(mapping, [0,1], md.BIRADS)"
     ],
     "language": "python",
     "metadata": {},
     "outputs": [
      {
       "metadata": {},
       "output_type": "pyout",
       "prompt_number": 54,
       "text": [
        "<matplotlib.axes._subplots.AxesSubplot at 0x1351af550>"
       ]
      }
     ],
     "prompt_number": 54
    },
    {
     "cell_type": "code",
     "collapsed": false,
     "input": [
      "mia.io_tools.dump_mapping_to_json(mapping, [0,1], md.BIRADS, \"/Users/samuel/git/ND-image-visualiser/test.json\")"
     ],
     "language": "python",
     "metadata": {},
     "outputs": [],
     "prompt_number": 36
    }
   ],
   "metadata": {}
  }
 ]
}