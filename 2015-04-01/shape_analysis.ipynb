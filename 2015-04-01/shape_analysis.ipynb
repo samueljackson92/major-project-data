{
 "metadata": {
  "name": "",
  "signature": "sha256:9656ecdb7dbdee36c994f175f7593ff1e7f2b503d6c4b42d90ceb61786e60583"
 },
 "nbformat": 3,
 "nbformat_minor": 0,
 "worksheets": [
  {
   "cells": [
    {
     "cell_type": "code",
     "collapsed": false,
     "input": [
      "%matplotlib qt\n",
      "import pandas as pd\n",
      "import numpy as np\n",
      "import mia"
     ],
     "language": "python",
     "metadata": {},
     "outputs": [],
     "prompt_number": 1
    },
    {
     "cell_type": "markdown",
     "metadata": {},
     "source": [
      "#Loading and Preprocessing"
     ]
    },
    {
     "cell_type": "markdown",
     "metadata": {},
     "source": [
      "Loading the hologic and synthetic datasets."
     ]
    },
    {
     "cell_type": "code",
     "collapsed": false,
     "input": [
      "hologic = pd.DataFrame.from_csv(\"/Volumes/Seagate/mmp_data/2015-04-01/hologic.csv\")\n",
      "phantom = pd.DataFrame.from_csv(\"/Volumes/Seagate/mmp_data/2015-04-01/synthetics1-blobs.csv\")"
     ],
     "language": "python",
     "metadata": {},
     "outputs": [],
     "prompt_number": 2
    },
    {
     "cell_type": "markdown",
     "metadata": {},
     "source": [
      "Loading the meta data for the real and synthetic datasets. "
     ]
    },
    {
     "cell_type": "code",
     "collapsed": false,
     "input": [
      "hologic_meta = mia.analysis.create_hologic_meta_data(hologic, \"/Volumes/Seagate/mmp_data/meta_data/BIRADS.csv\")\n",
      "phantom_meta = mia.analysis.create_synthetic_meta_data(phantom, \"/Volumes/Seagate/mmp_data/meta_data/synthetic_meta_data_cleaned.csv\")\n",
      "phantom_meta.index.name = 'img_name'"
     ],
     "language": "python",
     "metadata": {},
     "outputs": [],
     "prompt_number": 3
    },
    {
     "cell_type": "code",
     "collapsed": false,
     "input": [
      "hologic_labels = hologic_meta.drop_duplicates().BIRADS\n",
      "phantom_labels = phantom_meta['VBD.1']\n",
      "\n",
      "class_labels = pd.concat([hologic_labels, phantom_labels])\n",
      "class_labels.index.name = \"img_name\"\n",
      "labels = mia.analysis.remove_duplicate_index(class_labels)[0]"
     ],
     "language": "python",
     "metadata": {},
     "outputs": [],
     "prompt_number": 4
    },
    {
     "cell_type": "markdown",
     "metadata": {},
     "source": [
      "Create blob features from distribution of blobs"
     ]
    },
    {
     "cell_type": "code",
     "collapsed": false,
     "input": [
      "hologic_blob_features = mia.analysis.features_from_blobs(hologic)\n",
      "phantom_blob_features = mia.analysis.features_from_blobs(phantom)"
     ],
     "language": "python",
     "metadata": {},
     "outputs": [],
     "prompt_number": 6
    },
    {
     "cell_type": "code",
     "collapsed": false,
     "input": [
      "syn_feature_meta = mia.analysis.remove_duplicate_index(phantom_meta)\n",
      "phantom_blob_features['phantom_name'] = syn_feature_meta.phantom_name.tolist()\n",
      "phantom_blob_features_subset = mia.analysis.create_random_subset(phantom_blob_features, 'phantom_name')"
     ],
     "language": "python",
     "metadata": {},
     "outputs": [],
     "prompt_number": 7
    },
    {
     "cell_type": "code",
     "collapsed": false,
     "input": [
      "features = pd.concat([hologic_blob_features, phantom_blob_features_subset])\n",
      "assert features.shape[0] == 366"
     ],
     "language": "python",
     "metadata": {},
     "outputs": [],
     "prompt_number": 8
    },
    {
     "cell_type": "markdown",
     "metadata": {},
     "source": [
      "#t-SNE\n",
      "Running t-SNE to obtain a lower dimensional representation."
     ]
    },
    {
     "cell_type": "code",
     "collapsed": false,
     "input": [
      "selected_features = features\n",
      "mapping = mia.analysis.tSNE(selected_features, n_components=2, learning_rate=200, perplexity=50, verbose=1)"
     ],
     "language": "python",
     "metadata": {},
     "outputs": [
      {
       "output_type": "stream",
       "stream": "stdout",
       "text": [
        "[t-SNE] Computing pairwise distances...\n",
        "[t-SNE] Computed conditional probabilities for sample 366 / 366"
       ]
      },
      {
       "output_type": "stream",
       "stream": "stdout",
       "text": [
        "\n",
        "[t-SNE] Mean sigma: 1.197411\n",
        "[t-SNE] Error after 83 iterations with early exaggeration: 11.771358"
       ]
      },
      {
       "output_type": "stream",
       "stream": "stdout",
       "text": [
        "\n",
        "[t-SNE] Error after 274 iterations: 0.322511"
       ]
      },
      {
       "output_type": "stream",
       "stream": "stdout",
       "text": [
        "\n"
       ]
      }
     ],
     "prompt_number": 9
    },
    {
     "cell_type": "code",
     "collapsed": false,
     "input": [
      "def plot_mapping(m):\n",
      "    hologic_map = m.loc[hologic_blob_features.index]\n",
      "    phantom_map = m.loc[phantom_blob_features_subset.index]\n",
      "\n",
      "    hol_labels = labels[hologic_map.index]\n",
      "    syn_labels = labels[phantom_map.index]\n",
      "\n",
      "    ax = mia.plotting.plot_scatter_2d(hologic_map, labels=hol_labels, s=10)\n",
      "    ax = mia.plotting.plot_scatter_2d(phantom_map, labels=syn_labels, ax=ax, marker='^', s=50)\n",
      "\n",
      "plot_mapping(mapping)"
     ],
     "language": "python",
     "metadata": {},
     "outputs": [],
     "prompt_number": 21
    },
    {
     "cell_type": "markdown",
     "metadata": {},
     "source": [
      "#Analysis"
     ]
    },
    {
     "cell_type": "code",
     "collapsed": false,
     "input": [
      "mapping = pd.DataFrame.from_csv(\"/Volumes/Seagate/mmp_data/2015-04-01/both_shape_mapping.csv\")\n",
      "plot_mapping(mapping)"
     ],
     "language": "python",
     "metadata": {},
     "outputs": [],
     "prompt_number": 23
    }
   ],
   "metadata": {}
  }
 ]
}