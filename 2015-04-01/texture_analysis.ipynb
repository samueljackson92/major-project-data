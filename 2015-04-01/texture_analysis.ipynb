{
 "metadata": {
  "name": "",
  "signature": "sha256:1a7acedb8d774f77bb3e4e9c23886fc58e1490fe132758ce1dca3d5517fa994a"
 },
 "nbformat": 3,
 "nbformat_minor": 0,
 "worksheets": [
  {
   "cells": [
    {
     "cell_type": "code",
     "collapsed": false,
     "input": [
      "%matplotlib qt\n",
      "import pandas as pd\n",
      "import numpy as np\n",
      "import mia"
     ],
     "language": "python",
     "metadata": {},
     "outputs": [],
     "prompt_number": 1
    },
    {
     "cell_type": "code",
     "collapsed": false,
     "input": [
      "hologic = pd.DataFrame.from_csv(\"/Volumes/Seagate/mmp_data/2015-04-01/hologic.csv\")"
     ],
     "language": "python",
     "metadata": {},
     "outputs": [],
     "prompt_number": 2
    },
    {
     "cell_type": "code",
     "collapsed": false,
     "input": [
      "hologic_meta = mia.analysis.create_hologic_meta_data(hologic, \"/Volumes/Seagate/mmp_data/meta_data/BIRADS.csv\")\n",
      "hologic_meta.head()"
     ],
     "language": "python",
     "metadata": {},
     "outputs": [
      {
       "html": [
        "<div style=\"max-height:1000px;max-width:1500px;overflow:auto;\">\n",
        "<table border=\"1\" class=\"dataframe\">\n",
        "  <thead>\n",
        "    <tr style=\"text-align: right;\">\n",
        "      <th></th>\n",
        "      <th>patient_id</th>\n",
        "      <th>side</th>\n",
        "      <th>view</th>\n",
        "      <th>img_name</th>\n",
        "      <th>BIRADS</th>\n",
        "      <th>img_number</th>\n",
        "    </tr>\n",
        "  </thead>\n",
        "  <tbody>\n",
        "    <tr>\n",
        "      <th>p214-010-60001-cl.png</th>\n",
        "      <td> 21401060001</td>\n",
        "      <td> c</td>\n",
        "      <td> l</td>\n",
        "      <td> p214-010-60001-cl.png</td>\n",
        "      <td> 3</td>\n",
        "      <td> 1</td>\n",
        "    </tr>\n",
        "    <tr>\n",
        "      <th>p214-010-60001-cl.png</th>\n",
        "      <td> 21401060001</td>\n",
        "      <td> c</td>\n",
        "      <td> l</td>\n",
        "      <td> p214-010-60001-cl.png</td>\n",
        "      <td> 3</td>\n",
        "      <td> 1</td>\n",
        "    </tr>\n",
        "    <tr>\n",
        "      <th>p214-010-60001-cl.png</th>\n",
        "      <td> 21401060001</td>\n",
        "      <td> c</td>\n",
        "      <td> l</td>\n",
        "      <td> p214-010-60001-cl.png</td>\n",
        "      <td> 3</td>\n",
        "      <td> 1</td>\n",
        "    </tr>\n",
        "    <tr>\n",
        "      <th>p214-010-60001-cl.png</th>\n",
        "      <td> 21401060001</td>\n",
        "      <td> c</td>\n",
        "      <td> l</td>\n",
        "      <td> p214-010-60001-cl.png</td>\n",
        "      <td> 3</td>\n",
        "      <td> 1</td>\n",
        "    </tr>\n",
        "    <tr>\n",
        "      <th>p214-010-60001-cl.png</th>\n",
        "      <td> 21401060001</td>\n",
        "      <td> c</td>\n",
        "      <td> l</td>\n",
        "      <td> p214-010-60001-cl.png</td>\n",
        "      <td> 3</td>\n",
        "      <td> 1</td>\n",
        "    </tr>\n",
        "  </tbody>\n",
        "</table>\n",
        "</div>"
       ],
       "metadata": {},
       "output_type": "pyout",
       "prompt_number": 3,
       "text": [
        "                        patient_id side view               img_name  BIRADS  \\\n",
        "p214-010-60001-cl.png  21401060001    c    l  p214-010-60001-cl.png       3   \n",
        "p214-010-60001-cl.png  21401060001    c    l  p214-010-60001-cl.png       3   \n",
        "p214-010-60001-cl.png  21401060001    c    l  p214-010-60001-cl.png       3   \n",
        "p214-010-60001-cl.png  21401060001    c    l  p214-010-60001-cl.png       3   \n",
        "p214-010-60001-cl.png  21401060001    c    l  p214-010-60001-cl.png       3   \n",
        "\n",
        "                       img_number  \n",
        "p214-010-60001-cl.png           1  \n",
        "p214-010-60001-cl.png           1  \n",
        "p214-010-60001-cl.png           1  \n",
        "p214-010-60001-cl.png           1  \n",
        "p214-010-60001-cl.png           1  "
       ]
      }
     ],
     "prompt_number": 3
    },
    {
     "cell_type": "code",
     "collapsed": false,
     "input": [
      "hologic_texture = pd.DataFrame.from_csv(\"/Volumes/Seagate/mmp_data/2015-04-01/hologic_texture.csv\")\n",
      "hologic_texture = hologic_texture[hologic_texture.columns[4:]]\n",
      "hologic_texture.head()"
     ],
     "language": "python",
     "metadata": {},
     "outputs": [
      {
       "html": [
        "<div style=\"max-height:1000px;max-width:1500px;overflow:auto;\">\n",
        "<table border=\"1\" class=\"dataframe\">\n",
        "  <thead>\n",
        "    <tr style=\"text-align: right;\">\n",
        "      <th></th>\n",
        "      <th>contrast</th>\n",
        "      <th>dissimilarity</th>\n",
        "      <th>homogeneity</th>\n",
        "      <th>energy</th>\n",
        "    </tr>\n",
        "  </thead>\n",
        "  <tbody>\n",
        "    <tr>\n",
        "      <th>p214-010-60001-cl.png</th>\n",
        "      <td> 142.703001</td>\n",
        "      <td> 9.412259</td>\n",
        "      <td> 0.103953</td>\n",
        "      <td> 0.013505</td>\n",
        "    </tr>\n",
        "    <tr>\n",
        "      <th>p214-010-60001-cl.png</th>\n",
        "      <td> 142.289027</td>\n",
        "      <td> 9.446396</td>\n",
        "      <td> 0.100816</td>\n",
        "      <td> 0.016847</td>\n",
        "    </tr>\n",
        "    <tr>\n",
        "      <th>p214-010-60001-cl.png</th>\n",
        "      <td> 129.732425</td>\n",
        "      <td> 8.985602</td>\n",
        "      <td> 0.107476</td>\n",
        "      <td> 0.016265</td>\n",
        "    </tr>\n",
        "    <tr>\n",
        "      <th>p214-010-60001-cl.png</th>\n",
        "      <td> 139.003940</td>\n",
        "      <td> 9.321138</td>\n",
        "      <td> 0.103971</td>\n",
        "      <td> 0.017130</td>\n",
        "    </tr>\n",
        "    <tr>\n",
        "      <th>p214-010-60001-cl.png</th>\n",
        "      <td> 131.567928</td>\n",
        "      <td> 9.043673</td>\n",
        "      <td> 0.106613</td>\n",
        "      <td> 0.018821</td>\n",
        "    </tr>\n",
        "  </tbody>\n",
        "</table>\n",
        "</div>"
       ],
       "metadata": {},
       "output_type": "pyout",
       "prompt_number": 5,
       "text": [
        "                         contrast  dissimilarity  homogeneity    energy\n",
        "p214-010-60001-cl.png  142.703001       9.412259     0.103953  0.013505\n",
        "p214-010-60001-cl.png  142.289027       9.446396     0.100816  0.016847\n",
        "p214-010-60001-cl.png  129.732425       8.985602     0.107476  0.016265\n",
        "p214-010-60001-cl.png  139.003940       9.321138     0.103971  0.017130\n",
        "p214-010-60001-cl.png  131.567928       9.043673     0.106613  0.018821"
       ]
      }
     ],
     "prompt_number": 5
    },
    {
     "cell_type": "markdown",
     "metadata": {},
     "source": [
      "Group blobs by radius and image name"
     ]
    },
    {
     "cell_type": "code",
     "collapsed": false,
     "input": [
      "radius_groups = hologic_texture.groupby([hologic.radius, hologic.index])\n",
      "blobs_by_scale = radius_groups.apply(lambda x: x.mean())\n",
      "blobs_by_scale.head()"
     ],
     "language": "python",
     "metadata": {},
     "outputs": [
      {
       "html": [
        "<div style=\"max-height:1000px;max-width:1500px;overflow:auto;\">\n",
        "<table border=\"1\" class=\"dataframe\">\n",
        "  <thead>\n",
        "    <tr style=\"text-align: right;\">\n",
        "      <th></th>\n",
        "      <th></th>\n",
        "      <th>contrast</th>\n",
        "      <th>dissimilarity</th>\n",
        "      <th>homogeneity</th>\n",
        "      <th>energy</th>\n",
        "    </tr>\n",
        "    <tr>\n",
        "      <th>radius</th>\n",
        "      <th></th>\n",
        "      <th></th>\n",
        "      <th></th>\n",
        "      <th></th>\n",
        "      <th></th>\n",
        "    </tr>\n",
        "  </thead>\n",
        "  <tbody>\n",
        "    <tr>\n",
        "      <th rowspan=\"5\" valign=\"top\">8</th>\n",
        "      <th>p214-010-60001-cl.png</th>\n",
        "      <td> 156.557619</td>\n",
        "      <td>  9.913344</td>\n",
        "      <td> 0.096814</td>\n",
        "      <td> 0.068239</td>\n",
        "    </tr>\n",
        "    <tr>\n",
        "      <th>p214-010-60001-cr.png</th>\n",
        "      <td> 234.466265</td>\n",
        "      <td> 10.180219</td>\n",
        "      <td> 0.103503</td>\n",
        "      <td> 0.073124</td>\n",
        "    </tr>\n",
        "    <tr>\n",
        "      <th>p214-010-60001-ml.png</th>\n",
        "      <td> 194.182741</td>\n",
        "      <td> 10.524355</td>\n",
        "      <td> 0.092662</td>\n",
        "      <td> 0.068559</td>\n",
        "    </tr>\n",
        "    <tr>\n",
        "      <th>p214-010-60001-mr.png</th>\n",
        "      <td> 275.852584</td>\n",
        "      <td> 11.258285</td>\n",
        "      <td> 0.095334</td>\n",
        "      <td> 0.073823</td>\n",
        "    </tr>\n",
        "    <tr>\n",
        "      <th>p214-010-60005-cl.png</th>\n",
        "      <td> 125.741763</td>\n",
        "      <td>  8.892778</td>\n",
        "      <td> 0.107610</td>\n",
        "      <td> 0.069002</td>\n",
        "    </tr>\n",
        "  </tbody>\n",
        "</table>\n",
        "</div>"
       ],
       "metadata": {},
       "output_type": "pyout",
       "prompt_number": 7,
       "text": [
        "                                contrast  dissimilarity  homogeneity    energy\n",
        "radius                                                                        \n",
        "8      p214-010-60001-cl.png  156.557619       9.913344     0.096814  0.068239\n",
        "       p214-010-60001-cr.png  234.466265      10.180219     0.103503  0.073124\n",
        "       p214-010-60001-ml.png  194.182741      10.524355     0.092662  0.068559\n",
        "       p214-010-60001-mr.png  275.852584      11.258285     0.095334  0.073823\n",
        "       p214-010-60005-cl.png  125.741763       8.892778     0.107610  0.069002"
       ]
      }
     ],
     "prompt_number": 7
    },
    {
     "cell_type": "code",
     "collapsed": false,
     "input": [
      "scale_groups = blobs_by_scale.groupby(level=0)\n",
      "texture_features = pd.DataFrame(index=blobs_by_scale.index.levels[1])\n",
      "\n",
      "for i,x in scale_groups:\n",
      "    x = x.reset_index(level=0)\n",
      "    x = x.drop('radius', axis=1)\n",
      "    texture_features = texture_features.join(x, rsuffix='_%f' % i)\n",
      "\n",
      "#fill in images which have no detections for a certain scale of blob with 0\n",
      "texture_features.fillna(0, inplace=True)\n",
      "texture_features.head()"
     ],
     "language": "python",
     "metadata": {},
     "outputs": [
      {
       "html": [
        "<div style=\"max-height:1000px;max-width:1500px;overflow:auto;\">\n",
        "<table border=\"1\" class=\"dataframe\">\n",
        "  <thead>\n",
        "    <tr style=\"text-align: right;\">\n",
        "      <th></th>\n",
        "      <th>contrast</th>\n",
        "      <th>dissimilarity</th>\n",
        "      <th>homogeneity</th>\n",
        "      <th>energy</th>\n",
        "      <th>contrast_11.313708</th>\n",
        "      <th>dissimilarity_11.313708</th>\n",
        "      <th>homogeneity_11.313708</th>\n",
        "      <th>energy_11.313708</th>\n",
        "      <th>contrast_16.000000</th>\n",
        "      <th>dissimilarity_16.000000</th>\n",
        "      <th>...</th>\n",
        "      <th>homogeneity_90.509668</th>\n",
        "      <th>energy_90.509668</th>\n",
        "      <th>contrast_128.000000</th>\n",
        "      <th>dissimilarity_128.000000</th>\n",
        "      <th>homogeneity_128.000000</th>\n",
        "      <th>energy_128.000000</th>\n",
        "      <th>contrast_181.019336</th>\n",
        "      <th>dissimilarity_181.019336</th>\n",
        "      <th>homogeneity_181.019336</th>\n",
        "      <th>energy_181.019336</th>\n",
        "    </tr>\n",
        "  </thead>\n",
        "  <tbody>\n",
        "    <tr>\n",
        "      <th>p214-010-60001-cl.png</th>\n",
        "      <td> 156.557619</td>\n",
        "      <td>  9.913344</td>\n",
        "      <td> 0.096814</td>\n",
        "      <td> 0.068239</td>\n",
        "      <td> 252.790667</td>\n",
        "      <td> 10.084044</td>\n",
        "      <td> 0.107781</td>\n",
        "      <td> 0.056349</td>\n",
        "      <td> 145.086305</td>\n",
        "      <td>  9.567859</td>\n",
        "      <td>...</td>\n",
        "      <td> 0.104146</td>\n",
        "      <td> 0.016556</td>\n",
        "      <td> 142.703001</td>\n",
        "      <td> 9.412259</td>\n",
        "      <td> 0.103953</td>\n",
        "      <td> 0.013505</td>\n",
        "      <td>  0.000000</td>\n",
        "      <td> 0.00000</td>\n",
        "      <td> 0.000000</td>\n",
        "      <td> 0.000000</td>\n",
        "    </tr>\n",
        "    <tr>\n",
        "      <th>p214-010-60001-cr.png</th>\n",
        "      <td> 234.466265</td>\n",
        "      <td> 10.180219</td>\n",
        "      <td> 0.103503</td>\n",
        "      <td> 0.073124</td>\n",
        "      <td> 249.322318</td>\n",
        "      <td> 10.458857</td>\n",
        "      <td> 0.099988</td>\n",
        "      <td> 0.051589</td>\n",
        "      <td> 230.608409</td>\n",
        "      <td>  9.800154</td>\n",
        "      <td>...</td>\n",
        "      <td> 0.106096</td>\n",
        "      <td> 0.015297</td>\n",
        "      <td>   0.000000</td>\n",
        "      <td> 0.000000</td>\n",
        "      <td> 0.000000</td>\n",
        "      <td> 0.000000</td>\n",
        "      <td>  0.000000</td>\n",
        "      <td> 0.00000</td>\n",
        "      <td> 0.000000</td>\n",
        "      <td> 0.000000</td>\n",
        "    </tr>\n",
        "    <tr>\n",
        "      <th>p214-010-60001-ml.png</th>\n",
        "      <td> 194.182741</td>\n",
        "      <td> 10.524355</td>\n",
        "      <td> 0.092662</td>\n",
        "      <td> 0.068559</td>\n",
        "      <td> 231.193906</td>\n",
        "      <td> 10.736021</td>\n",
        "      <td> 0.094986</td>\n",
        "      <td> 0.052581</td>\n",
        "      <td> 201.123326</td>\n",
        "      <td> 10.228535</td>\n",
        "      <td>...</td>\n",
        "      <td> 0.098252</td>\n",
        "      <td> 0.014957</td>\n",
        "      <td> 151.635642</td>\n",
        "      <td> 9.739539</td>\n",
        "      <td> 0.098358</td>\n",
        "      <td> 0.014245</td>\n",
        "      <td>  0.000000</td>\n",
        "      <td> 0.00000</td>\n",
        "      <td> 0.000000</td>\n",
        "      <td> 0.000000</td>\n",
        "    </tr>\n",
        "    <tr>\n",
        "      <th>p214-010-60001-mr.png</th>\n",
        "      <td> 275.852584</td>\n",
        "      <td> 11.258285</td>\n",
        "      <td> 0.095334</td>\n",
        "      <td> 0.073823</td>\n",
        "      <td> 224.428365</td>\n",
        "      <td> 10.908735</td>\n",
        "      <td> 0.091234</td>\n",
        "      <td> 0.050686</td>\n",
        "      <td> 160.961462</td>\n",
        "      <td>  9.983247</td>\n",
        "      <td>...</td>\n",
        "      <td> 0.102051</td>\n",
        "      <td> 0.015496</td>\n",
        "      <td> 155.279299</td>\n",
        "      <td> 9.791654</td>\n",
        "      <td> 0.098861</td>\n",
        "      <td> 0.013841</td>\n",
        "      <td>  0.000000</td>\n",
        "      <td> 0.00000</td>\n",
        "      <td> 0.000000</td>\n",
        "      <td> 0.000000</td>\n",
        "    </tr>\n",
        "    <tr>\n",
        "      <th>p214-010-60005-cl.png</th>\n",
        "      <td> 125.741763</td>\n",
        "      <td>  8.892778</td>\n",
        "      <td> 0.107610</td>\n",
        "      <td> 0.069002</td>\n",
        "      <td> 123.635205</td>\n",
        "      <td>  8.853437</td>\n",
        "      <td> 0.103992</td>\n",
        "      <td> 0.051515</td>\n",
        "      <td> 116.179990</td>\n",
        "      <td>  8.550486</td>\n",
        "      <td>...</td>\n",
        "      <td> 0.114993</td>\n",
        "      <td> 0.017021</td>\n",
        "      <td>   0.000000</td>\n",
        "      <td> 0.000000</td>\n",
        "      <td> 0.000000</td>\n",
        "      <td> 0.000000</td>\n",
        "      <td> 99.949381</td>\n",
        "      <td> 7.89823</td>\n",
        "      <td> 0.119614</td>\n",
        "      <td> 0.016995</td>\n",
        "    </tr>\n",
        "  </tbody>\n",
        "</table>\n",
        "<p>5 rows \u00d7 40 columns</p>\n",
        "</div>"
       ],
       "metadata": {},
       "output_type": "pyout",
       "prompt_number": 36,
       "text": [
        "                         contrast  dissimilarity  homogeneity    energy  \\\n",
        "p214-010-60001-cl.png  156.557619       9.913344     0.096814  0.068239   \n",
        "p214-010-60001-cr.png  234.466265      10.180219     0.103503  0.073124   \n",
        "p214-010-60001-ml.png  194.182741      10.524355     0.092662  0.068559   \n",
        "p214-010-60001-mr.png  275.852584      11.258285     0.095334  0.073823   \n",
        "p214-010-60005-cl.png  125.741763       8.892778     0.107610  0.069002   \n",
        "\n",
        "                       contrast_11.313708  dissimilarity_11.313708  \\\n",
        "p214-010-60001-cl.png          252.790667                10.084044   \n",
        "p214-010-60001-cr.png          249.322318                10.458857   \n",
        "p214-010-60001-ml.png          231.193906                10.736021   \n",
        "p214-010-60001-mr.png          224.428365                10.908735   \n",
        "p214-010-60005-cl.png          123.635205                 8.853437   \n",
        "\n",
        "                       homogeneity_11.313708  energy_11.313708  \\\n",
        "p214-010-60001-cl.png               0.107781          0.056349   \n",
        "p214-010-60001-cr.png               0.099988          0.051589   \n",
        "p214-010-60001-ml.png               0.094986          0.052581   \n",
        "p214-010-60001-mr.png               0.091234          0.050686   \n",
        "p214-010-60005-cl.png               0.103992          0.051515   \n",
        "\n",
        "                       contrast_16.000000  dissimilarity_16.000000  \\\n",
        "p214-010-60001-cl.png          145.086305                 9.567859   \n",
        "p214-010-60001-cr.png          230.608409                 9.800154   \n",
        "p214-010-60001-ml.png          201.123326                10.228535   \n",
        "p214-010-60001-mr.png          160.961462                 9.983247   \n",
        "p214-010-60005-cl.png          116.179990                 8.550486   \n",
        "\n",
        "                             ...          homogeneity_90.509668  \\\n",
        "p214-010-60001-cl.png        ...                       0.104146   \n",
        "p214-010-60001-cr.png        ...                       0.106096   \n",
        "p214-010-60001-ml.png        ...                       0.098252   \n",
        "p214-010-60001-mr.png        ...                       0.102051   \n",
        "p214-010-60005-cl.png        ...                       0.114993   \n",
        "\n",
        "                       energy_90.509668  contrast_128.000000  \\\n",
        "p214-010-60001-cl.png          0.016556           142.703001   \n",
        "p214-010-60001-cr.png          0.015297             0.000000   \n",
        "p214-010-60001-ml.png          0.014957           151.635642   \n",
        "p214-010-60001-mr.png          0.015496           155.279299   \n",
        "p214-010-60005-cl.png          0.017021             0.000000   \n",
        "\n",
        "                       dissimilarity_128.000000  homogeneity_128.000000  \\\n",
        "p214-010-60001-cl.png                  9.412259                0.103953   \n",
        "p214-010-60001-cr.png                  0.000000                0.000000   \n",
        "p214-010-60001-ml.png                  9.739539                0.098358   \n",
        "p214-010-60001-mr.png                  9.791654                0.098861   \n",
        "p214-010-60005-cl.png                  0.000000                0.000000   \n",
        "\n",
        "                       energy_128.000000  contrast_181.019336  \\\n",
        "p214-010-60001-cl.png           0.013505             0.000000   \n",
        "p214-010-60001-cr.png           0.000000             0.000000   \n",
        "p214-010-60001-ml.png           0.014245             0.000000   \n",
        "p214-010-60001-mr.png           0.013841             0.000000   \n",
        "p214-010-60005-cl.png           0.000000            99.949381   \n",
        "\n",
        "                       dissimilarity_181.019336  homogeneity_181.019336  \\\n",
        "p214-010-60001-cl.png                   0.00000                0.000000   \n",
        "p214-010-60001-cr.png                   0.00000                0.000000   \n",
        "p214-010-60001-ml.png                   0.00000                0.000000   \n",
        "p214-010-60001-mr.png                   0.00000                0.000000   \n",
        "p214-010-60005-cl.png                   7.89823                0.119614   \n",
        "\n",
        "                       energy_181.019336  \n",
        "p214-010-60001-cl.png           0.000000  \n",
        "p214-010-60001-cr.png           0.000000  \n",
        "p214-010-60001-ml.png           0.000000  \n",
        "p214-010-60001-mr.png           0.000000  \n",
        "p214-010-60005-cl.png           0.016995  \n",
        "\n",
        "[5 rows x 40 columns]"
       ]
      }
     ],
     "prompt_number": 36
    },
    {
     "cell_type": "code",
     "collapsed": false,
     "input": [
      "mapping = mia.analysis.tSNE(texture_features, learning_rate=400, perplexity=40, verbose=2)"
     ],
     "language": "python",
     "metadata": {},
     "outputs": [
      {
       "output_type": "stream",
       "stream": "stdout",
       "text": [
        "[t-SNE] Computing pairwise distances...\n",
        "[t-SNE] Computed conditional probabilities for sample 360 / 360"
       ]
      },
      {
       "output_type": "stream",
       "stream": "stdout",
       "text": [
        "\n",
        "[t-SNE] Mean sigma: 2.396515\n",
        "[t-SNE] Iteration 10: error = 15.8930055, gradient norm = 0.1358678"
       ]
      },
      {
       "output_type": "stream",
       "stream": "stdout",
       "text": [
        "\n",
        "[t-SNE] Iteration 20: error = 14.1139032, gradient norm = 0.1387837"
       ]
      },
      {
       "output_type": "stream",
       "stream": "stdout",
       "text": [
        "\n",
        "[t-SNE] Iteration 30: error = 13.7097769, gradient norm = 0.1311658"
       ]
      },
      {
       "output_type": "stream",
       "stream": "stdout",
       "text": [
        "\n",
        "[t-SNE] Iteration 40: error = 13.4316291, gradient norm = 0.1312724"
       ]
      },
      {
       "output_type": "stream",
       "stream": "stdout",
       "text": [
        "\n",
        "[t-SNE] Iteration 50: error = 14.1897658, gradient norm = 0.1167737"
       ]
      },
      {
       "output_type": "stream",
       "stream": "stdout",
       "text": [
        "\n",
        "[t-SNE] Iteration 60: error = 13.6937104, gradient norm = 0.1367035"
       ]
      },
      {
       "output_type": "stream",
       "stream": "stdout",
       "text": [
        "\n",
        "[t-SNE] Iteration 70: error = 13.6233676, gradient norm = 0.1292305"
       ]
      },
      {
       "output_type": "stream",
       "stream": "stdout",
       "text": [
        "\n",
        "[t-SNE] Iteration 80: error = 13.6695995, gradient norm = 0.1214940"
       ]
      },
      {
       "output_type": "stream",
       "stream": "stdout",
       "text": [
        "\n",
        "[t-SNE] Iteration 83: did not make any progress during the last 30 episodes. Finished.\n",
        "[t-SNE] Error after 83 iterations with early exaggeration: 13.754039\n",
        "[t-SNE] Iteration 90: error = 0.8711928, gradient norm = 0.0240112"
       ]
      },
      {
       "output_type": "stream",
       "stream": "stdout",
       "text": [
        "\n",
        "[t-SNE] Iteration 100: error = 0.5333422, gradient norm = 0.0096821"
       ]
      },
      {
       "output_type": "stream",
       "stream": "stdout",
       "text": [
        "\n",
        "[t-SNE] Iteration 110: error = 0.4827501, gradient norm = 0.0047564"
       ]
      },
      {
       "output_type": "stream",
       "stream": "stdout",
       "text": [
        "\n",
        "[t-SNE] Iteration 120: error = 0.4701796, gradient norm = 0.0034402"
       ]
      },
      {
       "output_type": "stream",
       "stream": "stdout",
       "text": [
        "\n",
        "[t-SNE] Iteration 130: error = 0.4655196, gradient norm = 0.0039493"
       ]
      },
      {
       "output_type": "stream",
       "stream": "stdout",
       "text": [
        "\n",
        "[t-SNE] Iteration 140: error = 0.4645047, gradient norm = 0.0041037"
       ]
      },
      {
       "output_type": "stream",
       "stream": "stdout",
       "text": [
        "\n",
        "[t-SNE] Iteration 150: error = 0.4642615, gradient norm = 0.0041146"
       ]
      },
      {
       "output_type": "stream",
       "stream": "stdout",
       "text": [
        "\n",
        "[t-SNE] Iteration 160: error = 0.4652337, gradient norm = 0.0043276"
       ]
      },
      {
       "output_type": "stream",
       "stream": "stdout",
       "text": [
        "\n",
        "[t-SNE] Iteration 170: error = 0.4660314, gradient norm = 0.0026798"
       ]
      },
      {
       "output_type": "stream",
       "stream": "stdout",
       "text": [
        "\n",
        "[t-SNE] Iteration 180: error = 0.4761813, gradient norm = 0.0034861"
       ]
      },
      {
       "output_type": "stream",
       "stream": "stdout",
       "text": [
        "\n",
        "[t-SNE] Iteration 190: error = 0.4726906, gradient norm = 0.0041151"
       ]
      },
      {
       "output_type": "stream",
       "stream": "stdout",
       "text": [
        "\n",
        "[t-SNE] Iteration 195: did not make any progress during the last 30 episodes. Finished."
       ]
      },
      {
       "output_type": "stream",
       "stream": "stdout",
       "text": [
        "\n",
        "[t-SNE] Error after 195 iterations: 0.464812\n"
       ]
      }
     ],
     "prompt_number": 45
    },
    {
     "cell_type": "code",
     "collapsed": false,
     "input": [
      "mia.plotting.plot_scatter_2d(mapping, [0,1], hologic_meta.drop_duplicates().BIRADS)"
     ],
     "language": "python",
     "metadata": {},
     "outputs": [
      {
       "metadata": {},
       "output_type": "pyout",
       "prompt_number": 48,
       "text": [
        "<matplotlib.axes._subplots.AxesSubplot at 0x11ba4e090>"
       ]
      }
     ],
     "prompt_number": 48
    }
   ],
   "metadata": {}
  }
 ]
}