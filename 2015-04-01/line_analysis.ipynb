{
 "metadata": {
  "name": "",
  "signature": "sha256:fe1b080dad93531f4e5dfe1279f47632ca478f06e372e0819cd74130d57352a7"
 },
 "nbformat": 3,
 "nbformat_minor": 0,
 "worksheets": [
  {
   "cells": [
    {
     "cell_type": "code",
     "collapsed": false,
     "input": [
      "%matplotlib qt\n",
      "import pandas as pd\n",
      "import numpy as np\n",
      "import mia"
     ],
     "language": "python",
     "metadata": {},
     "outputs": [],
     "prompt_number": 2
    },
    {
     "cell_type": "markdown",
     "metadata": {},
     "source": [
      "#Loading and Preprocessing"
     ]
    },
    {
     "cell_type": "markdown",
     "metadata": {},
     "source": [
      "Loading the hologic and synthetic datasets."
     ]
    },
    {
     "cell_type": "code",
     "collapsed": false,
     "input": [
      "hologic = pd.DataFrame.from_csv(\"/Volumes/Seagate/mmp_data/2015-04-16/real-lines.csv\")\n",
      "hologic_blobs = pd.DataFrame.from_csv(\"/Volumes/Seagate/mmp_data/2015-04-01/hologic.csv\")\n",
      "phantom = pd.DataFrame.from_csv(\"/Volumes/Seagate/mmp_data/2015-04-16/phantom-lines.csv\")\n",
      "phantom_blobs = pd.DataFrame.from_csv(\"/Volumes/Seagate/mmp_data/2015-04-14/synthetics1-blobs.csv\")"
     ],
     "language": "python",
     "metadata": {},
     "outputs": [],
     "prompt_number": 3
    },
    {
     "cell_type": "markdown",
     "metadata": {},
     "source": [
      "Loading the meta data for the real and synthetic datasets. "
     ]
    },
    {
     "cell_type": "code",
     "collapsed": false,
     "input": [
      "hologic_meta = mia.analysis.create_hologic_meta_data(hologic, \"/Volumes/Seagate/mmp_data/meta_data/BIRADS.csv\")\n",
      "phantom_meta = mia.analysis.create_synthetic_meta_data(phantom, \"/Volumes/Seagate/mmp_data/meta_data/synthetic_meta_data_cleaned.csv\")\n",
      "phantom_meta.index.name = 'img_name'"
     ],
     "language": "python",
     "metadata": {},
     "outputs": [],
     "prompt_number": 4
    },
    {
     "cell_type": "code",
     "collapsed": false,
     "input": [
      "hologic_labels = hologic_meta.drop_duplicates().BIRADS\n",
      "phantom_labels = phantom_meta['VBD.1']\n",
      "\n",
      "# class_labels = mia.analysis.remove_duplicate_index(hologic_labels)\n",
      "class_labels = pd.concat([hologic_labels, phantom_labels])\n",
      "class_labels.index.name = \"img_name\"\n",
      "labels = mia.analysis.remove_duplicate_index(class_labels)[0]"
     ],
     "language": "python",
     "metadata": {},
     "outputs": [],
     "prompt_number": 5
    },
    {
     "cell_type": "markdown",
     "metadata": {},
     "source": [
      "Create blob features from distribution of blobs"
     ]
    },
    {
     "cell_type": "code",
     "collapsed": false,
     "input": [
      "hologic_line_features = mia.analysis.features_from_lines(hologic)\n",
      "hologic_line_features.fillna(hologic_line_features.mean(), inplace=True)\n",
      "\n",
      "hologic_blob_features = mia.analysis.features_from_blobs(hologic_blobs)\n",
      "\n",
      "phantom_line_features = mia.analysis.features_from_lines(phantom)\n",
      "phantom_line_features.fillna(phantom_line_features.mean(), inplace=True)\n",
      "\n",
      "phantom_blob_features = mia.analysis.features_from_blobs(phantom_blobs)"
     ],
     "language": "python",
     "metadata": {},
     "outputs": [],
     "prompt_number": 6
    },
    {
     "cell_type": "code",
     "collapsed": false,
     "input": [
      "syn_feature_meta = mia.analysis.remove_duplicate_index(phantom_meta)\n",
      "phantom_line_features['phantom_name'] = syn_feature_meta.phantom_name.tolist()\n",
      "phantom_line_features_subset = mia.analysis.create_random_subset(phantom_line_features, 'phantom_name')\n",
      "phantom_blob_features_subset = phantom_blob_features.loc[phantom_line_features_subset.index]"
     ],
     "language": "python",
     "metadata": {},
     "outputs": [],
     "prompt_number": 7
    },
    {
     "cell_type": "code",
     "collapsed": false,
     "input": [
      "line_features = pd.concat([hologic_line_features, phantom_line_features])\n",
      "blob_features = pd.concat([hologic_blob_features, phantom_blob_features])\n",
      "features = blob_features.join(line_features, rsuffix='_line')\n",
      "# assert features.shape[0] == 366\n",
      "features.head()"
     ],
     "language": "python",
     "metadata": {},
     "outputs": [
      {
       "html": [
        "<div style=\"max-height:1000px;max-width:1500px;overflow:auto;\">\n",
        "<table border=\"1\" class=\"dataframe\">\n",
        "  <thead>\n",
        "    <tr style=\"text-align: right;\">\n",
        "      <th></th>\n",
        "      <th>blob_count</th>\n",
        "      <th>avg_radius</th>\n",
        "      <th>std_radius</th>\n",
        "      <th>min_radius</th>\n",
        "      <th>max_radius</th>\n",
        "      <th>small_radius_count</th>\n",
        "      <th>med_radius_count</th>\n",
        "      <th>large_radius_count</th>\n",
        "      <th>density</th>\n",
        "      <th>lower_radius_qt</th>\n",
        "      <th>...</th>\n",
        "      <th>75%</th>\n",
        "      <th>count</th>\n",
        "      <th>kurtosis</th>\n",
        "      <th>max</th>\n",
        "      <th>mean</th>\n",
        "      <th>min</th>\n",
        "      <th>phantom_name</th>\n",
        "      <th>skew</th>\n",
        "      <th>std</th>\n",
        "      <th>upper_dist_count_line</th>\n",
        "    </tr>\n",
        "  </thead>\n",
        "  <tbody>\n",
        "    <tr>\n",
        "      <th>p214-010-60001-cl.png</th>\n",
        "      <td>  56</td>\n",
        "      <td> 22.121831</td>\n",
        "      <td> 22.923389</td>\n",
        "      <td> 8</td>\n",
        "      <td> 128.000000</td>\n",
        "      <td>  52</td>\n",
        "      <td> 1</td>\n",
        "      <td> 3</td>\n",
        "      <td> 52.940812</td>\n",
        "      <td> 8</td>\n",
        "      <td>...</td>\n",
        "      <td> 137.25</td>\n",
        "      <td>  72</td>\n",
        "      <td> 26.793023</td>\n",
        "      <td> 1744</td>\n",
        "      <td> 161.791667</td>\n",
        "      <td> 1</td>\n",
        "      <td> NaN</td>\n",
        "      <td> 4.786025</td>\n",
        "      <td> 245.194659</td>\n",
        "      <td> 16</td>\n",
        "    </tr>\n",
        "    <tr>\n",
        "      <th>p214-010-60001-cr.png</th>\n",
        "      <td>  78</td>\n",
        "      <td> 19.054538</td>\n",
        "      <td> 17.506086</td>\n",
        "      <td> 8</td>\n",
        "      <td>  90.509668</td>\n",
        "      <td>  68</td>\n",
        "      <td> 4</td>\n",
        "      <td> 6</td>\n",
        "      <td> 40.749811</td>\n",
        "      <td> 8</td>\n",
        "      <td>...</td>\n",
        "      <td> 152.00</td>\n",
        "      <td>  57</td>\n",
        "      <td> 50.202367</td>\n",
        "      <td> 3494</td>\n",
        "      <td> 176.421053</td>\n",
        "      <td> 1</td>\n",
        "      <td> NaN</td>\n",
        "      <td> 6.905092</td>\n",
        "      <td> 460.921203</td>\n",
        "      <td> 13</td>\n",
        "    </tr>\n",
        "    <tr>\n",
        "      <th>p214-010-60001-ml.png</th>\n",
        "      <td>  98</td>\n",
        "      <td> 20.011191</td>\n",
        "      <td> 21.876304</td>\n",
        "      <td> 8</td>\n",
        "      <td> 128.000000</td>\n",
        "      <td>  90</td>\n",
        "      <td> 3</td>\n",
        "      <td> 5</td>\n",
        "      <td> 42.644057</td>\n",
        "      <td> 8</td>\n",
        "      <td>...</td>\n",
        "      <td> 210.50</td>\n",
        "      <td>  72</td>\n",
        "      <td> 13.937538</td>\n",
        "      <td> 1662</td>\n",
        "      <td> 200.708333</td>\n",
        "      <td> 1</td>\n",
        "      <td> NaN</td>\n",
        "      <td> 3.484285</td>\n",
        "      <td> 296.524822</td>\n",
        "      <td> 19</td>\n",
        "    </tr>\n",
        "    <tr>\n",
        "      <th>p214-010-60001-mr.png</th>\n",
        "      <td> 139</td>\n",
        "      <td> 15.309764</td>\n",
        "      <td> 15.307860</td>\n",
        "      <td> 8</td>\n",
        "      <td> 128.000000</td>\n",
        "      <td> 136</td>\n",
        "      <td> 1</td>\n",
        "      <td> 2</td>\n",
        "      <td> 38.287439</td>\n",
        "      <td> 8</td>\n",
        "      <td>...</td>\n",
        "      <td> 192.25</td>\n",
        "      <td>  74</td>\n",
        "      <td> 22.429202</td>\n",
        "      <td> 2522</td>\n",
        "      <td> 203.459459</td>\n",
        "      <td> 1</td>\n",
        "      <td> NaN</td>\n",
        "      <td> 4.309621</td>\n",
        "      <td> 371.688380</td>\n",
        "      <td> 16</td>\n",
        "    </tr>\n",
        "    <tr>\n",
        "      <th>p214-010-60005-cl.png</th>\n",
        "      <td>  97</td>\n",
        "      <td> 20.132590</td>\n",
        "      <td> 23.255605</td>\n",
        "      <td> 8</td>\n",
        "      <td> 181.019336</td>\n",
        "      <td>  94</td>\n",
        "      <td> 2</td>\n",
        "      <td> 1</td>\n",
        "      <td> 41.456308</td>\n",
        "      <td> 8</td>\n",
        "      <td>...</td>\n",
        "      <td> 170.75</td>\n",
        "      <td> 114</td>\n",
        "      <td>  9.028130</td>\n",
        "      <td>  911</td>\n",
        "      <td> 143.184211</td>\n",
        "      <td> 1</td>\n",
        "      <td> NaN</td>\n",
        "      <td> 2.667624</td>\n",
        "      <td> 152.914376</td>\n",
        "      <td> 36</td>\n",
        "    </tr>\n",
        "  </tbody>\n",
        "</table>\n",
        "<p>5 rows \u00d7 24 columns</p>\n",
        "</div>"
       ],
       "metadata": {},
       "output_type": "pyout",
       "prompt_number": 9,
       "text": [
        "                       blob_count  avg_radius  std_radius  min_radius  \\\n",
        "p214-010-60001-cl.png          56   22.121831   22.923389           8   \n",
        "p214-010-60001-cr.png          78   19.054538   17.506086           8   \n",
        "p214-010-60001-ml.png          98   20.011191   21.876304           8   \n",
        "p214-010-60001-mr.png         139   15.309764   15.307860           8   \n",
        "p214-010-60005-cl.png          97   20.132590   23.255605           8   \n",
        "\n",
        "                       max_radius  small_radius_count  med_radius_count  \\\n",
        "p214-010-60001-cl.png  128.000000                  52                 1   \n",
        "p214-010-60001-cr.png   90.509668                  68                 4   \n",
        "p214-010-60001-ml.png  128.000000                  90                 3   \n",
        "p214-010-60001-mr.png  128.000000                 136                 1   \n",
        "p214-010-60005-cl.png  181.019336                  94                 2   \n",
        "\n",
        "                       large_radius_count    density  lower_radius_qt  \\\n",
        "p214-010-60001-cl.png                   3  52.940812                8   \n",
        "p214-010-60001-cr.png                   6  40.749811                8   \n",
        "p214-010-60001-ml.png                   5  42.644057                8   \n",
        "p214-010-60001-mr.png                   2  38.287439                8   \n",
        "p214-010-60005-cl.png                   1  41.456308                8   \n",
        "\n",
        "                               ...               75%  count   kurtosis   max  \\\n",
        "p214-010-60001-cl.png          ...            137.25     72  26.793023  1744   \n",
        "p214-010-60001-cr.png          ...            152.00     57  50.202367  3494   \n",
        "p214-010-60001-ml.png          ...            210.50     72  13.937538  1662   \n",
        "p214-010-60001-mr.png          ...            192.25     74  22.429202  2522   \n",
        "p214-010-60005-cl.png          ...            170.75    114   9.028130   911   \n",
        "\n",
        "                             mean  min  phantom_name      skew         std  \\\n",
        "p214-010-60001-cl.png  161.791667    1           NaN  4.786025  245.194659   \n",
        "p214-010-60001-cr.png  176.421053    1           NaN  6.905092  460.921203   \n",
        "p214-010-60001-ml.png  200.708333    1           NaN  3.484285  296.524822   \n",
        "p214-010-60001-mr.png  203.459459    1           NaN  4.309621  371.688380   \n",
        "p214-010-60005-cl.png  143.184211    1           NaN  2.667624  152.914376   \n",
        "\n",
        "                       upper_dist_count_line  \n",
        "p214-010-60001-cl.png                     16  \n",
        "p214-010-60001-cr.png                     13  \n",
        "p214-010-60001-ml.png                     19  \n",
        "p214-010-60001-mr.png                     16  \n",
        "p214-010-60005-cl.png                     36  \n",
        "\n",
        "[5 rows x 24 columns]"
       ]
      }
     ],
     "prompt_number": 9
    },
    {
     "cell_type": "markdown",
     "metadata": {},
     "source": [
      "#t-SNE\n",
      "Running t-SNE to obtain a lower dimensional representation."
     ]
    },
    {
     "cell_type": "code",
     "collapsed": false,
     "input": [
      "selected_features = blob_features.copy()\n",
      "# selected_features.drop(['skew', 'kurtosis', 'min'], inplace=True, axis=1)\n",
      "mapping = mia.analysis.isomap(selected_features, n_components=2)"
     ],
     "language": "python",
     "metadata": {},
     "outputs": [],
     "prompt_number": 16
    },
    {
     "cell_type": "code",
     "collapsed": false,
     "input": [
      "mapping.to_csv(\"/Volumes/Seagate/mmp_data/2015-04-16/lines-mapping.csv\")"
     ],
     "language": "python",
     "metadata": {},
     "outputs": [],
     "prompt_number": 52
    },
    {
     "cell_type": "code",
     "collapsed": false,
     "input": [
      "left = hologic_line_features[mapping[0] < 0]\n",
      "right = hologic_line_features[mapping[0] >=0]\n",
      "\n",
      "left.describe() - right.describe()"
     ],
     "language": "python",
     "metadata": {},
     "outputs": []
    },
    {
     "cell_type": "code",
     "collapsed": false,
     "input": [
      " phantom_line_features_subset.describe() - hologic_line_features.describe()"
     ],
     "language": "python",
     "metadata": {},
     "outputs": []
    },
    {
     "cell_type": "code",
     "collapsed": false,
     "input": [
      "def plot_mapping(m):\n",
      "    hologic_map = m.loc[hologic_line_features.index]\n",
      "    phantom_map = m.loc[phantom_line_features.index]\n",
      "\n",
      "    hol_labels = labels[hologic_map.index]\n",
      "    syn_labels = labels[phantom_map.index]\n",
      "\n",
      "    ax = mia.plotting.plot_scatter_2d(hologic_map, labels=hol_labels, s=20)\n",
      "    ax = mia.plotting.plot_scatter_2d(phantom_map, labels=syn_labels, ax=ax, marker='^', s=50)\n",
      "\n",
      "plot_mapping(mapping)"
     ],
     "language": "python",
     "metadata": {},
     "outputs": [],
     "prompt_number": 18
    },
    {
     "cell_type": "code",
     "collapsed": false,
     "input": [
      "selected_features.to_csv(\"/Volumes/Seagate/mmp_data/features.csv\")\n",
      "mapping.to_csv(\"/Volumes/Seagate/mmp_data/mapping.csv\")"
     ],
     "language": "python",
     "metadata": {},
     "outputs": []
    },
    {
     "cell_type": "markdown",
     "metadata": {},
     "source": [
      "#Analysis"
     ]
    },
    {
     "cell_type": "code",
     "collapsed": false,
     "input": [
      "mapping = pd.DataFrame.from_csv(\"/Volumes/Seagate/mmp_data/2015-04-01/both_shape_mapping.csv\")\n",
      "plot_mapping(mapping)"
     ],
     "language": "python",
     "metadata": {},
     "outputs": []
    },
    {
     "cell_type": "code",
     "collapsed": false,
     "input": [
      "m = selected_features.copy()\n",
      "m['class'] = labels\n",
      "m.drop(['25%', 'upper_dist_count'], inplace=True, axis=1)\n",
      "pd.tools.plotting.radviz(m, 'class')"
     ],
     "language": "python",
     "metadata": {},
     "outputs": [
      {
       "metadata": {},
       "output_type": "pyout",
       "prompt_number": 45,
       "text": [
        "<matplotlib.axes._subplots.AxesSubplot at 0x11ca64350>"
       ]
      }
     ],
     "prompt_number": 45
    }
   ],
   "metadata": {}
  }
 ]
}