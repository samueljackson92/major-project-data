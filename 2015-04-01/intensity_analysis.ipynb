{
 "metadata": {
  "name": "",
  "signature": "sha256:93f843c19e9184f3046fc2948847d4b6a1d2f5d8d4e073f525aa8ecc81f4e2ad"
 },
 "nbformat": 3,
 "nbformat_minor": 0,
 "worksheets": [
  {
   "cells": [
    {
     "cell_type": "code",
     "collapsed": false,
     "input": [
      "%matplotlib qt\n",
      "import pandas as pd\n",
      "import numpy as np\n",
      "import mia"
     ],
     "language": "python",
     "metadata": {},
     "outputs": [],
     "prompt_number": 1
    },
    {
     "cell_type": "markdown",
     "metadata": {},
     "source": [
      "Load hologic for blobs batches"
     ]
    },
    {
     "cell_type": "code",
     "collapsed": false,
     "input": [
      "b1 = pd.DataFrame.from_csv(\"/Volumes/Seagate/mmp_data/2015-04-01/batch1-blobs.csv\")\n",
      "b2 = pd.DataFrame.from_csv(\"/Volumes/Seagate/mmp_data/2015-04-01/batch2-blobs.csv\")\n",
      "hologic = pd.concat([b1, b2])"
     ],
     "language": "python",
     "metadata": {},
     "outputs": [],
     "prompt_number": 4
    },
    {
     "cell_type": "code",
     "collapsed": false,
     "input": [
      "hologic.to_csv(\"/Volumes/Seagate/mmp_data/2015-04-01/hologic.csv\")"
     ],
     "language": "python",
     "metadata": {},
     "outputs": [],
     "prompt_number": 6
    }
   ],
   "metadata": {}
  }
 ]
}