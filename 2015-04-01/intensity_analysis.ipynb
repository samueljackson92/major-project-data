{
 "metadata": {
  "name": "",
  "signature": "sha256:558eb520eba61b3ddedcc5b0d2f9f101076d8e4c285e06961fd7799b33a52c43"
 },
 "nbformat": 3,
 "nbformat_minor": 0,
 "worksheets": [
  {
   "cells": [
    {
     "cell_type": "code",
     "collapsed": false,
     "input": [
      "%matplotlib qt\n",
      "import pandas as pd\n",
      "import numpy as np\n",
      "import mia"
     ],
     "language": "python",
     "metadata": {},
     "outputs": [],
     "prompt_number": 1
    },
    {
     "cell_type": "markdown",
     "metadata": {},
     "source": [
      "Load hologic for blobs batches"
     ]
    },
    {
     "cell_type": "code",
     "collapsed": false,
     "input": [
      "b1 = pd.DataFrame.from_csv(\"/Volumes/Seagate/mmp_data/2015-04-01/batch1-blobs.csv\")\n",
      "b2 = pd.DataFrame.from_csv(\"/Volumes/Seagate/mmp_data/2015-04-01/batch2-blobs.csv\")\n",
      "hologic = pd.concat([b1, b2])"
     ],
     "language": "python",
     "metadata": {},
     "outputs": [],
     "prompt_number": 3
    },
    {
     "cell_type": "code",
     "collapsed": false,
     "input": [
      "hologic.to_csv(\"/Volumes/Seagate/mmp_data/2015-04-01/hologic.csv\")"
     ],
     "language": "python",
     "metadata": {},
     "outputs": [],
     "prompt_number": 4
    },
    {
     "cell_type": "markdown",
     "metadata": {},
     "source": [
      "Load the meta data (inc. BIRADS classes) for the blobs"
     ]
    },
    {
     "cell_type": "code",
     "collapsed": false,
     "input": [
      "hologic_meta = mia.analysis.create_hologic_meta_data(hologic, \"/Volumes/Seagate/mmp_data/meta_data/BIRADS.csv\")\n",
      "hologic_meta.head()"
     ],
     "language": "python",
     "metadata": {},
     "outputs": [
      {
       "html": [
        "<div style=\"max-height:1000px;max-width:1500px;overflow:auto;\">\n",
        "<table border=\"1\" class=\"dataframe\">\n",
        "  <thead>\n",
        "    <tr style=\"text-align: right;\">\n",
        "      <th></th>\n",
        "      <th>patient_id</th>\n",
        "      <th>side</th>\n",
        "      <th>view</th>\n",
        "      <th>img_name</th>\n",
        "      <th>BIRADS</th>\n",
        "      <th>img_number</th>\n",
        "    </tr>\n",
        "  </thead>\n",
        "  <tbody>\n",
        "    <tr>\n",
        "      <th>p214-010-60001-cl.png</th>\n",
        "      <td> 21401060001</td>\n",
        "      <td> c</td>\n",
        "      <td> l</td>\n",
        "      <td> p214-010-60001-cl.png</td>\n",
        "      <td> 3</td>\n",
        "      <td> 1</td>\n",
        "    </tr>\n",
        "    <tr>\n",
        "      <th>p214-010-60001-cl.png</th>\n",
        "      <td> 21401060001</td>\n",
        "      <td> c</td>\n",
        "      <td> l</td>\n",
        "      <td> p214-010-60001-cl.png</td>\n",
        "      <td> 3</td>\n",
        "      <td> 1</td>\n",
        "    </tr>\n",
        "    <tr>\n",
        "      <th>p214-010-60001-cl.png</th>\n",
        "      <td> 21401060001</td>\n",
        "      <td> c</td>\n",
        "      <td> l</td>\n",
        "      <td> p214-010-60001-cl.png</td>\n",
        "      <td> 3</td>\n",
        "      <td> 1</td>\n",
        "    </tr>\n",
        "    <tr>\n",
        "      <th>p214-010-60001-cl.png</th>\n",
        "      <td> 21401060001</td>\n",
        "      <td> c</td>\n",
        "      <td> l</td>\n",
        "      <td> p214-010-60001-cl.png</td>\n",
        "      <td> 3</td>\n",
        "      <td> 1</td>\n",
        "    </tr>\n",
        "    <tr>\n",
        "      <th>p214-010-60001-cl.png</th>\n",
        "      <td> 21401060001</td>\n",
        "      <td> c</td>\n",
        "      <td> l</td>\n",
        "      <td> p214-010-60001-cl.png</td>\n",
        "      <td> 3</td>\n",
        "      <td> 1</td>\n",
        "    </tr>\n",
        "  </tbody>\n",
        "</table>\n",
        "</div>"
       ],
       "metadata": {},
       "output_type": "pyout",
       "prompt_number": 5,
       "text": [
        "                        patient_id side view               img_name  BIRADS  \\\n",
        "p214-010-60001-cl.png  21401060001    c    l  p214-010-60001-cl.png       3   \n",
        "p214-010-60001-cl.png  21401060001    c    l  p214-010-60001-cl.png       3   \n",
        "p214-010-60001-cl.png  21401060001    c    l  p214-010-60001-cl.png       3   \n",
        "p214-010-60001-cl.png  21401060001    c    l  p214-010-60001-cl.png       3   \n",
        "p214-010-60001-cl.png  21401060001    c    l  p214-010-60001-cl.png       3   \n",
        "\n",
        "                       img_number  \n",
        "p214-010-60001-cl.png           1  \n",
        "p214-010-60001-cl.png           1  \n",
        "p214-010-60001-cl.png           1  \n",
        "p214-010-60001-cl.png           1  \n",
        "p214-010-60001-cl.png           1  "
       ]
      }
     ],
     "prompt_number": 5
    },
    {
     "cell_type": "markdown",
     "metadata": {},
     "source": [
      "Load intensity from file:"
     ]
    },
    {
     "cell_type": "code",
     "collapsed": false,
     "input": [
      "hologic_intensity = pd.DataFrame.from_csv(\"/Volumes/Seagate/mmp_data/2015-04-01/hologic_intensity.csv\")\n",
      "hologic_intensity = hologic_intensity[hologic_intensity.columns[4:]]\n",
      "hologic_intensity.head()"
     ],
     "language": "python",
     "metadata": {},
     "outputs": [
      {
       "html": [
        "<div style=\"max-height:1000px;max-width:1500px;overflow:auto;\">\n",
        "<table border=\"1\" class=\"dataframe\">\n",
        "  <thead>\n",
        "    <tr style=\"text-align: right;\">\n",
        "      <th></th>\n",
        "      <th>count</th>\n",
        "      <th>mean</th>\n",
        "      <th>std</th>\n",
        "      <th>min</th>\n",
        "      <th>25%</th>\n",
        "      <th>50%</th>\n",
        "      <th>75%</th>\n",
        "      <th>max</th>\n",
        "      <th>skew</th>\n",
        "      <th>kurtosis</th>\n",
        "    </tr>\n",
        "  </thead>\n",
        "  <tbody>\n",
        "    <tr>\n",
        "      <th>p214-010-60001-cl.png</th>\n",
        "      <td> 65536</td>\n",
        "      <td> 0.562008</td>\n",
        "      <td> 0.152742</td>\n",
        "      <td> 0.149020</td>\n",
        "      <td> 0.447059</td>\n",
        "      <td> 0.564706</td>\n",
        "      <td> 0.670588</td>\n",
        "      <td> 0.956863</td>\n",
        "      <td> 0.092693</td>\n",
        "      <td>-0.556121</td>\n",
        "    </tr>\n",
        "    <tr>\n",
        "      <th>p214-010-60001-cl.png</th>\n",
        "      <td> 32400</td>\n",
        "      <td> 0.575639</td>\n",
        "      <td> 0.121943</td>\n",
        "      <td> 0.074510</td>\n",
        "      <td> 0.513725</td>\n",
        "      <td> 0.592157</td>\n",
        "      <td> 0.658824</td>\n",
        "      <td> 0.854902</td>\n",
        "      <td>-1.027929</td>\n",
        "      <td> 1.873654</td>\n",
        "    </tr>\n",
        "    <tr>\n",
        "      <th>p214-010-60001-cl.png</th>\n",
        "      <td> 32400</td>\n",
        "      <td> 0.620747</td>\n",
        "      <td> 0.141298</td>\n",
        "      <td> 0.113725</td>\n",
        "      <td> 0.537255</td>\n",
        "      <td> 0.650980</td>\n",
        "      <td> 0.725490</td>\n",
        "      <td> 0.925490</td>\n",
        "      <td>-0.741354</td>\n",
        "      <td>-0.074467</td>\n",
        "    </tr>\n",
        "    <tr>\n",
        "      <th>p214-010-60001-cl.png</th>\n",
        "      <td> 16384</td>\n",
        "      <td> 0.595842</td>\n",
        "      <td> 0.126887</td>\n",
        "      <td> 0.105882</td>\n",
        "      <td> 0.524510</td>\n",
        "      <td> 0.607843</td>\n",
        "      <td> 0.686275</td>\n",
        "      <td> 0.937255</td>\n",
        "      <td>-0.700328</td>\n",
        "      <td> 0.780245</td>\n",
        "    </tr>\n",
        "    <tr>\n",
        "      <th>p214-010-60001-cl.png</th>\n",
        "      <td>  8100</td>\n",
        "      <td> 0.596765</td>\n",
        "      <td> 0.150992</td>\n",
        "      <td> 0.082353</td>\n",
        "      <td> 0.521569</td>\n",
        "      <td> 0.631373</td>\n",
        "      <td> 0.701961</td>\n",
        "      <td> 0.858824</td>\n",
        "      <td>-1.038894</td>\n",
        "      <td> 0.729220</td>\n",
        "    </tr>\n",
        "  </tbody>\n",
        "</table>\n",
        "</div>"
       ],
       "metadata": {},
       "output_type": "pyout",
       "prompt_number": 6,
       "text": [
        "                       count      mean       std       min       25%  \\\n",
        "p214-010-60001-cl.png  65536  0.562008  0.152742  0.149020  0.447059   \n",
        "p214-010-60001-cl.png  32400  0.575639  0.121943  0.074510  0.513725   \n",
        "p214-010-60001-cl.png  32400  0.620747  0.141298  0.113725  0.537255   \n",
        "p214-010-60001-cl.png  16384  0.595842  0.126887  0.105882  0.524510   \n",
        "p214-010-60001-cl.png   8100  0.596765  0.150992  0.082353  0.521569   \n",
        "\n",
        "                            50%       75%       max      skew  kurtosis  \n",
        "p214-010-60001-cl.png  0.564706  0.670588  0.956863  0.092693 -0.556121  \n",
        "p214-010-60001-cl.png  0.592157  0.658824  0.854902 -1.027929  1.873654  \n",
        "p214-010-60001-cl.png  0.650980  0.725490  0.925490 -0.741354 -0.074467  \n",
        "p214-010-60001-cl.png  0.607843  0.686275  0.937255 -0.700328  0.780245  \n",
        "p214-010-60001-cl.png  0.631373  0.701961  0.858824 -1.038894  0.729220  "
       ]
      }
     ],
     "prompt_number": 6
    },
    {
     "cell_type": "markdown",
     "metadata": {},
     "source": [
      "Group blobs by image and radius size"
     ]
    },
    {
     "cell_type": "code",
     "collapsed": false,
     "input": [
      "radius_groups = hologic_intensity.groupby([hologic.radius, hologic.index])\n",
      "blobs_by_scale = radius_groups.apply(lambda x: x.mean())\n",
      "blobs_by_scale.head()"
     ],
     "language": "python",
     "metadata": {},
     "outputs": [
      {
       "html": [
        "<div style=\"max-height:1000px;max-width:1500px;overflow:auto;\">\n",
        "<table border=\"1\" class=\"dataframe\">\n",
        "  <thead>\n",
        "    <tr style=\"text-align: right;\">\n",
        "      <th></th>\n",
        "      <th></th>\n",
        "      <th>count</th>\n",
        "      <th>mean</th>\n",
        "      <th>std</th>\n",
        "      <th>min</th>\n",
        "      <th>25%</th>\n",
        "      <th>50%</th>\n",
        "      <th>75%</th>\n",
        "      <th>max</th>\n",
        "      <th>skew</th>\n",
        "      <th>kurtosis</th>\n",
        "    </tr>\n",
        "    <tr>\n",
        "      <th>radius</th>\n",
        "      <th></th>\n",
        "      <th></th>\n",
        "      <th></th>\n",
        "      <th></th>\n",
        "      <th></th>\n",
        "      <th></th>\n",
        "      <th></th>\n",
        "      <th></th>\n",
        "      <th></th>\n",
        "      <th></th>\n",
        "      <th></th>\n",
        "    </tr>\n",
        "  </thead>\n",
        "  <tbody>\n",
        "    <tr>\n",
        "      <th rowspan=\"5\" valign=\"top\">8</th>\n",
        "      <th>p214-010-60001-cl.png</th>\n",
        "      <td> 256</td>\n",
        "      <td> 0.593224</td>\n",
        "      <td> 0.071104</td>\n",
        "      <td> 0.407598</td>\n",
        "      <td> 0.542218</td>\n",
        "      <td> 0.596446</td>\n",
        "      <td> 0.646201</td>\n",
        "      <td> 0.753186</td>\n",
        "      <td>-0.176690</td>\n",
        "      <td>-0.383312</td>\n",
        "    </tr>\n",
        "    <tr>\n",
        "      <th>p214-010-60001-cr.png</th>\n",
        "      <td> 256</td>\n",
        "      <td> 0.570726</td>\n",
        "      <td> 0.085527</td>\n",
        "      <td> 0.345359</td>\n",
        "      <td> 0.523889</td>\n",
        "      <td> 0.582157</td>\n",
        "      <td> 0.632516</td>\n",
        "      <td> 0.732288</td>\n",
        "      <td>-0.407291</td>\n",
        "      <td>-0.125079</td>\n",
        "    </tr>\n",
        "    <tr>\n",
        "      <th>p214-010-60001-ml.png</th>\n",
        "      <td> 256</td>\n",
        "      <td> 0.556979</td>\n",
        "      <td> 0.075092</td>\n",
        "      <td> 0.351806</td>\n",
        "      <td> 0.508643</td>\n",
        "      <td> 0.562178</td>\n",
        "      <td> 0.612384</td>\n",
        "      <td> 0.721259</td>\n",
        "      <td>-0.331462</td>\n",
        "      <td>-0.081281</td>\n",
        "    </tr>\n",
        "    <tr>\n",
        "      <th>p214-010-60001-mr.png</th>\n",
        "      <td> 256</td>\n",
        "      <td> 0.546299</td>\n",
        "      <td> 0.090477</td>\n",
        "      <td> 0.306556</td>\n",
        "      <td> 0.490564</td>\n",
        "      <td> 0.555362</td>\n",
        "      <td> 0.610876</td>\n",
        "      <td> 0.734252</td>\n",
        "      <td>-0.350162</td>\n",
        "      <td> 0.044639</td>\n",
        "    </tr>\n",
        "    <tr>\n",
        "      <th>p214-010-60005-cl.png</th>\n",
        "      <td> 256</td>\n",
        "      <td> 0.559844</td>\n",
        "      <td> 0.065667</td>\n",
        "      <td> 0.366782</td>\n",
        "      <td> 0.516955</td>\n",
        "      <td> 0.565802</td>\n",
        "      <td> 0.608189</td>\n",
        "      <td> 0.695271</td>\n",
        "      <td>-0.386427</td>\n",
        "      <td>-0.065749</td>\n",
        "    </tr>\n",
        "  </tbody>\n",
        "</table>\n",
        "</div>"
       ],
       "metadata": {},
       "output_type": "pyout",
       "prompt_number": 7,
       "text": [
        "                              count      mean       std       min       25%  \\\n",
        "radius                                                                        \n",
        "8      p214-010-60001-cl.png    256  0.593224  0.071104  0.407598  0.542218   \n",
        "       p214-010-60001-cr.png    256  0.570726  0.085527  0.345359  0.523889   \n",
        "       p214-010-60001-ml.png    256  0.556979  0.075092  0.351806  0.508643   \n",
        "       p214-010-60001-mr.png    256  0.546299  0.090477  0.306556  0.490564   \n",
        "       p214-010-60005-cl.png    256  0.559844  0.065667  0.366782  0.516955   \n",
        "\n",
        "                                   50%       75%       max      skew  kurtosis  \n",
        "radius                                                                          \n",
        "8      p214-010-60001-cl.png  0.596446  0.646201  0.753186 -0.176690 -0.383312  \n",
        "       p214-010-60001-cr.png  0.582157  0.632516  0.732288 -0.407291 -0.125079  \n",
        "       p214-010-60001-ml.png  0.562178  0.612384  0.721259 -0.331462 -0.081281  \n",
        "       p214-010-60001-mr.png  0.555362  0.610876  0.734252 -0.350162  0.044639  \n",
        "       p214-010-60005-cl.png  0.565802  0.608189  0.695271 -0.386427 -0.065749  "
       ]
      }
     ],
     "prompt_number": 7
    },
    {
     "cell_type": "code",
     "collapsed": false,
     "input": [
      "scale_groups = blobs_by_scale.groupby(level=0)\n",
      "intensity_features = pd.DataFrame(index=blobs_by_scale.index.levels[1])\n",
      "\n",
      "for i,x in scale_groups:\n",
      "    x = x.reset_index(level=0)\n",
      "    x = x.drop('radius', axis=1)\n",
      "    intensity_features = intensity_features.join(x, rsuffix='_%f' % i)\n",
      "\n",
      "#fill in images which have no detections for a certain scale of blob with 0\n",
      "intensity_features.fillna(0, inplace=True)\n",
      "intensity_features.head()"
     ],
     "language": "python",
     "metadata": {},
     "outputs": [
      {
       "html": [
        "<div style=\"max-height:1000px;max-width:1500px;overflow:auto;\">\n",
        "<table border=\"1\" class=\"dataframe\">\n",
        "  <thead>\n",
        "    <tr style=\"text-align: right;\">\n",
        "      <th></th>\n",
        "      <th>count</th>\n",
        "      <th>mean</th>\n",
        "      <th>std</th>\n",
        "      <th>min</th>\n",
        "      <th>25%</th>\n",
        "      <th>50%</th>\n",
        "      <th>75%</th>\n",
        "      <th>max</th>\n",
        "      <th>skew</th>\n",
        "      <th>kurtosis</th>\n",
        "      <th>...</th>\n",
        "      <th>count_181.019336</th>\n",
        "      <th>mean_181.019336</th>\n",
        "      <th>std_181.019336</th>\n",
        "      <th>min_181.019336</th>\n",
        "      <th>25%_181.019336</th>\n",
        "      <th>50%_181.019336</th>\n",
        "      <th>75%_181.019336</th>\n",
        "      <th>max_181.019336</th>\n",
        "      <th>skew_181.019336</th>\n",
        "      <th>kurtosis_181.019336</th>\n",
        "    </tr>\n",
        "  </thead>\n",
        "  <tbody>\n",
        "    <tr>\n",
        "      <th>p214-010-60001-cl.png</th>\n",
        "      <td> 256</td>\n",
        "      <td> 0.593224</td>\n",
        "      <td> 0.071104</td>\n",
        "      <td> 0.407598</td>\n",
        "      <td> 0.542218</td>\n",
        "      <td> 0.596446</td>\n",
        "      <td> 0.646201</td>\n",
        "      <td> 0.753186</td>\n",
        "      <td>-0.176690</td>\n",
        "      <td>-0.383312</td>\n",
        "      <td>...</td>\n",
        "      <td>      0</td>\n",
        "      <td> 0.0000</td>\n",
        "      <td> 0.000000</td>\n",
        "      <td> 0.000000</td>\n",
        "      <td> 0.000000</td>\n",
        "      <td> 0.000000</td>\n",
        "      <td> 0.000000</td>\n",
        "      <td> 0.000000</td>\n",
        "      <td> 0.000000</td>\n",
        "      <td> 0.000000</td>\n",
        "    </tr>\n",
        "    <tr>\n",
        "      <th>p214-010-60001-cr.png</th>\n",
        "      <td> 256</td>\n",
        "      <td> 0.570726</td>\n",
        "      <td> 0.085527</td>\n",
        "      <td> 0.345359</td>\n",
        "      <td> 0.523889</td>\n",
        "      <td> 0.582157</td>\n",
        "      <td> 0.632516</td>\n",
        "      <td> 0.732288</td>\n",
        "      <td>-0.407291</td>\n",
        "      <td>-0.125079</td>\n",
        "      <td>...</td>\n",
        "      <td>      0</td>\n",
        "      <td> 0.0000</td>\n",
        "      <td> 0.000000</td>\n",
        "      <td> 0.000000</td>\n",
        "      <td> 0.000000</td>\n",
        "      <td> 0.000000</td>\n",
        "      <td> 0.000000</td>\n",
        "      <td> 0.000000</td>\n",
        "      <td> 0.000000</td>\n",
        "      <td> 0.000000</td>\n",
        "    </tr>\n",
        "    <tr>\n",
        "      <th>p214-010-60001-ml.png</th>\n",
        "      <td> 256</td>\n",
        "      <td> 0.556979</td>\n",
        "      <td> 0.075092</td>\n",
        "      <td> 0.351806</td>\n",
        "      <td> 0.508643</td>\n",
        "      <td> 0.562178</td>\n",
        "      <td> 0.612384</td>\n",
        "      <td> 0.721259</td>\n",
        "      <td>-0.331462</td>\n",
        "      <td>-0.081281</td>\n",
        "      <td>...</td>\n",
        "      <td>      0</td>\n",
        "      <td> 0.0000</td>\n",
        "      <td> 0.000000</td>\n",
        "      <td> 0.000000</td>\n",
        "      <td> 0.000000</td>\n",
        "      <td> 0.000000</td>\n",
        "      <td> 0.000000</td>\n",
        "      <td> 0.000000</td>\n",
        "      <td> 0.000000</td>\n",
        "      <td> 0.000000</td>\n",
        "    </tr>\n",
        "    <tr>\n",
        "      <th>p214-010-60001-mr.png</th>\n",
        "      <td> 256</td>\n",
        "      <td> 0.546299</td>\n",
        "      <td> 0.090477</td>\n",
        "      <td> 0.306556</td>\n",
        "      <td> 0.490564</td>\n",
        "      <td> 0.555362</td>\n",
        "      <td> 0.610876</td>\n",
        "      <td> 0.734252</td>\n",
        "      <td>-0.350162</td>\n",
        "      <td> 0.044639</td>\n",
        "      <td>...</td>\n",
        "      <td>      0</td>\n",
        "      <td> 0.0000</td>\n",
        "      <td> 0.000000</td>\n",
        "      <td> 0.000000</td>\n",
        "      <td> 0.000000</td>\n",
        "      <td> 0.000000</td>\n",
        "      <td> 0.000000</td>\n",
        "      <td> 0.000000</td>\n",
        "      <td> 0.000000</td>\n",
        "      <td> 0.000000</td>\n",
        "    </tr>\n",
        "    <tr>\n",
        "      <th>p214-010-60005-cl.png</th>\n",
        "      <td> 256</td>\n",
        "      <td> 0.559844</td>\n",
        "      <td> 0.065667</td>\n",
        "      <td> 0.366782</td>\n",
        "      <td> 0.516955</td>\n",
        "      <td> 0.565802</td>\n",
        "      <td> 0.608189</td>\n",
        "      <td> 0.695271</td>\n",
        "      <td>-0.386427</td>\n",
        "      <td>-0.065749</td>\n",
        "      <td>...</td>\n",
        "      <td> 131044</td>\n",
        "      <td> 0.6213</td>\n",
        "      <td> 0.126696</td>\n",
        "      <td> 0.086275</td>\n",
        "      <td> 0.545098</td>\n",
        "      <td> 0.639216</td>\n",
        "      <td> 0.717647</td>\n",
        "      <td> 0.898039</td>\n",
        "      <td>-0.848023</td>\n",
        "      <td> 0.758542</td>\n",
        "    </tr>\n",
        "  </tbody>\n",
        "</table>\n",
        "<p>5 rows \u00d7 100 columns</p>\n",
        "</div>"
       ],
       "metadata": {},
       "output_type": "pyout",
       "prompt_number": 8,
       "text": [
        "                       count      mean       std       min       25%  \\\n",
        "p214-010-60001-cl.png    256  0.593224  0.071104  0.407598  0.542218   \n",
        "p214-010-60001-cr.png    256  0.570726  0.085527  0.345359  0.523889   \n",
        "p214-010-60001-ml.png    256  0.556979  0.075092  0.351806  0.508643   \n",
        "p214-010-60001-mr.png    256  0.546299  0.090477  0.306556  0.490564   \n",
        "p214-010-60005-cl.png    256  0.559844  0.065667  0.366782  0.516955   \n",
        "\n",
        "                            50%       75%       max      skew  kurtosis  \\\n",
        "p214-010-60001-cl.png  0.596446  0.646201  0.753186 -0.176690 -0.383312   \n",
        "p214-010-60001-cr.png  0.582157  0.632516  0.732288 -0.407291 -0.125079   \n",
        "p214-010-60001-ml.png  0.562178  0.612384  0.721259 -0.331462 -0.081281   \n",
        "p214-010-60001-mr.png  0.555362  0.610876  0.734252 -0.350162  0.044639   \n",
        "p214-010-60005-cl.png  0.565802  0.608189  0.695271 -0.386427 -0.065749   \n",
        "\n",
        "                              ...           count_181.019336  mean_181.019336  \\\n",
        "p214-010-60001-cl.png         ...                          0           0.0000   \n",
        "p214-010-60001-cr.png         ...                          0           0.0000   \n",
        "p214-010-60001-ml.png         ...                          0           0.0000   \n",
        "p214-010-60001-mr.png         ...                          0           0.0000   \n",
        "p214-010-60005-cl.png         ...                     131044           0.6213   \n",
        "\n",
        "                       std_181.019336  min_181.019336  25%_181.019336  \\\n",
        "p214-010-60001-cl.png        0.000000        0.000000        0.000000   \n",
        "p214-010-60001-cr.png        0.000000        0.000000        0.000000   \n",
        "p214-010-60001-ml.png        0.000000        0.000000        0.000000   \n",
        "p214-010-60001-mr.png        0.000000        0.000000        0.000000   \n",
        "p214-010-60005-cl.png        0.126696        0.086275        0.545098   \n",
        "\n",
        "                       50%_181.019336  75%_181.019336  max_181.019336  \\\n",
        "p214-010-60001-cl.png        0.000000        0.000000        0.000000   \n",
        "p214-010-60001-cr.png        0.000000        0.000000        0.000000   \n",
        "p214-010-60001-ml.png        0.000000        0.000000        0.000000   \n",
        "p214-010-60001-mr.png        0.000000        0.000000        0.000000   \n",
        "p214-010-60005-cl.png        0.639216        0.717647        0.898039   \n",
        "\n",
        "                       skew_181.019336  kurtosis_181.019336  \n",
        "p214-010-60001-cl.png         0.000000             0.000000  \n",
        "p214-010-60001-cr.png         0.000000             0.000000  \n",
        "p214-010-60001-ml.png         0.000000             0.000000  \n",
        "p214-010-60001-mr.png         0.000000             0.000000  \n",
        "p214-010-60005-cl.png        -0.848023             0.758542  \n",
        "\n",
        "[5 rows x 100 columns]"
       ]
      }
     ],
     "prompt_number": 8
    },
    {
     "cell_type": "code",
     "collapsed": false,
     "input": [
      "# from sklearn import decomposition\n",
      "# pca = decomposition.PCA(n_components=10)\n",
      "# features = pd.DataFrame(pca.fit_transform(intensity_features.as_matrix()))\n",
      "mapping = mia.analysis.tSNE(intensity_features, learning_rate=350, perplexity=35, verbose=2)"
     ],
     "language": "python",
     "metadata": {},
     "outputs": [
      {
       "output_type": "stream",
       "stream": "stdout",
       "text": [
        "[t-SNE] Computing pairwise distances...\n",
        "[t-SNE] Computed conditional probabilities for sample 360 / 360"
       ]
      },
      {
       "output_type": "stream",
       "stream": "stdout",
       "text": [
        "\n",
        "[t-SNE] Mean sigma: 3.671999\n",
        "[t-SNE] Iteration 10: error = 16.2483560, gradient norm = 0.1481132"
       ]
      },
      {
       "output_type": "stream",
       "stream": "stdout",
       "text": [
        "\n",
        "[t-SNE] Iteration 20: error = 14.7298964, gradient norm = 0.1470011"
       ]
      },
      {
       "output_type": "stream",
       "stream": "stdout",
       "text": [
        "\n",
        "[t-SNE] Iteration 30: error = 15.2226623, gradient norm = 0.1352921"
       ]
      },
      {
       "output_type": "stream",
       "stream": "stdout",
       "text": [
        "\n",
        "[t-SNE] Iteration 32: did not make any progress during the last 30 episodes. Finished.\n",
        "[t-SNE] Iteration 40: error = 15.0781225, gradient norm = 0.1392573"
       ]
      },
      {
       "output_type": "stream",
       "stream": "stdout",
       "text": [
        "\n",
        "[t-SNE] Iteration 50: error = 14.6026053, gradient norm = 0.1407079"
       ]
      },
      {
       "output_type": "stream",
       "stream": "stdout",
       "text": [
        "\n",
        "[t-SNE] Iteration 60: error = 15.1067735, gradient norm = 0.1277556"
       ]
      },
      {
       "output_type": "stream",
       "stream": "stdout",
       "text": [
        "\n",
        "[t-SNE] Iteration 65: did not make any progress during the last 30 episodes. Finished.\n",
        "[t-SNE] Error after 65 iterations with early exaggeration: 14.886111\n",
        "[t-SNE] Iteration 70: error = 1.4001121, gradient norm = 0.0295768"
       ]
      },
      {
       "output_type": "stream",
       "stream": "stdout",
       "text": [
        "\n",
        "[t-SNE] Iteration 80: error = 0.7838590, gradient norm = 0.0132005"
       ]
      },
      {
       "output_type": "stream",
       "stream": "stdout",
       "text": [
        "\n",
        "[t-SNE] Iteration 90: error = 0.6680544, gradient norm = 0.0059564"
       ]
      },
      {
       "output_type": "stream",
       "stream": "stdout",
       "text": [
        "\n",
        "[t-SNE] Iteration 100: error = 0.6390450, gradient norm = 0.0022086"
       ]
      },
      {
       "output_type": "stream",
       "stream": "stdout",
       "text": [
        "\n",
        "[t-SNE] Iteration 110: error = 0.6308238, gradient norm = 0.0030985"
       ]
      },
      {
       "output_type": "stream",
       "stream": "stdout",
       "text": [
        "\n",
        "[t-SNE] Iteration 120: error = 0.6258011, gradient norm = 0.0036984"
       ]
      },
      {
       "output_type": "stream",
       "stream": "stdout",
       "text": [
        "\n",
        "[t-SNE] Iteration 130: error = 0.6217105, gradient norm = 0.0038188"
       ]
      },
      {
       "output_type": "stream",
       "stream": "stdout",
       "text": [
        "\n",
        "[t-SNE] Iteration 140: error = 0.6184420, gradient norm = 0.0037017"
       ]
      },
      {
       "output_type": "stream",
       "stream": "stdout",
       "text": [
        "\n",
        "[t-SNE] Iteration 150: error = 0.6267156, gradient norm = 0.0017098"
       ]
      },
      {
       "output_type": "stream",
       "stream": "stdout",
       "text": [
        "\n",
        "[t-SNE] Iteration 160: error = 0.6277083, gradient norm = 0.0014937"
       ]
      },
      {
       "output_type": "stream",
       "stream": "stdout",
       "text": [
        "\n",
        "[t-SNE] Iteration 170: error = 0.6248659, gradient norm = 0.0018150"
       ]
      },
      {
       "output_type": "stream",
       "stream": "stdout",
       "text": [
        "\n",
        "[t-SNE] Iteration 180: error = 0.6197529, gradient norm = 0.0024851"
       ]
      },
      {
       "output_type": "stream",
       "stream": "stdout",
       "text": [
        "\n",
        "[t-SNE] Iteration 190: error = 0.6091606, gradient norm = 0.0029930"
       ]
      },
      {
       "output_type": "stream",
       "stream": "stdout",
       "text": [
        "\n",
        "[t-SNE] Iteration 200: error = 0.6108948, gradient norm = 0.0029586"
       ]
      },
      {
       "output_type": "stream",
       "stream": "stdout",
       "text": [
        "\n",
        "[t-SNE] Iteration 210: error = 0.6046001, gradient norm = 0.0033702"
       ]
      },
      {
       "output_type": "stream",
       "stream": "stdout",
       "text": [
        "\n",
        "[t-SNE] Iteration 220: error = 0.6051784, gradient norm = 0.0037369"
       ]
      },
      {
       "output_type": "stream",
       "stream": "stdout",
       "text": [
        "\n",
        "[t-SNE] Iteration 230: error = 0.6053519, gradient norm = 0.0037801"
       ]
      },
      {
       "output_type": "stream",
       "stream": "stdout",
       "text": [
        "\n",
        "[t-SNE] Iteration 232: did not make any progress during the last 30 episodes. Finished.\n",
        "[t-SNE] Error after 232 iterations: 0.606630\n"
       ]
      }
     ],
     "prompt_number": 9
    },
    {
     "cell_type": "code",
     "collapsed": false,
     "input": [
      "%matplotlib qt\n",
      "mia.plotting.plot_scatter_2d(mapping, [0,1], hologic_meta.drop_duplicates().BIRADS)"
     ],
     "language": "python",
     "metadata": {},
     "outputs": [
      {
       "metadata": {},
       "output_type": "pyout",
       "prompt_number": 10,
       "text": [
        "<matplotlib.axes._subplots.AxesSubplot at 0x11890cbd0>"
       ]
      }
     ],
     "prompt_number": 10
    },
    {
     "cell_type": "code",
     "collapsed": false,
     "input": [
      "mapping.to_csv(\"/Volumes/Seagate/mmp_data/2015-04-01/hologic_intensity_mapping.csv\")"
     ],
     "language": "python",
     "metadata": {},
     "outputs": [],
     "prompt_number": 11
    },
    {
     "cell_type": "markdown",
     "metadata": {},
     "source": [
      "### Analysis of mapping"
     ]
    },
    {
     "cell_type": "markdown",
     "metadata": {},
     "source": [
      "Looking at the properties of individual clusters"
     ]
    },
    {
     "cell_type": "code",
     "collapsed": false,
     "input": [
      "mapping = pd.DataFrame.from_csv(\"/Volumes/Seagate/mmp_data/2015-04-01/hologic_intensity_mapping.csv\")\n",
      "mapping.columns = [0,1]"
     ],
     "language": "python",
     "metadata": {},
     "outputs": [],
     "prompt_number": 12
    },
    {
     "cell_type": "code",
     "collapsed": false,
     "input": [
      "mia.plotting.plot_scatter_2d(mapping, [0,1], hologic_meta.drop_duplicates().BIRADS)"
     ],
     "language": "python",
     "metadata": {},
     "outputs": [
      {
       "metadata": {},
       "output_type": "pyout",
       "prompt_number": 15,
       "text": [
        "<matplotlib.axes._subplots.AxesSubplot at 0x11a705790>"
       ]
      }
     ],
     "prompt_number": 15
    }
   ],
   "metadata": {}
  }
 ]
}